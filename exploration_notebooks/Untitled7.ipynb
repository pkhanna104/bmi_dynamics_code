{
 "cells": [
  {
   "cell_type": "code",
   "execution_count": 1,
   "metadata": {},
   "outputs": [
    {
     "ename": "ImportError",
     "evalue": "No module named pathlib",
     "output_type": "error",
     "traceback": [
      "\u001b[1;31m---------------------------------------------------------------------------\u001b[0m",
      "\u001b[1;31mImportError\u001b[0m                               Traceback (most recent call last)",
      "\u001b[1;32m<ipython-input-1-bce77dc2b174>\u001b[0m in \u001b[0;36m<module>\u001b[1;34m()\u001b[0m\n\u001b[0;32m      1\u001b[0m \u001b[1;32mimport\u001b[0m \u001b[0mos\u001b[0m\u001b[1;33m\u001b[0m\u001b[0m\n\u001b[1;32m----> 2\u001b[1;33m \u001b[1;32mfrom\u001b[0m \u001b[0mpathlib\u001b[0m \u001b[1;32mimport\u001b[0m \u001b[0mPath\u001b[0m\u001b[1;33m\u001b[0m\u001b[0m\n\u001b[0m\u001b[0;32m      3\u001b[0m \u001b[1;32mfrom\u001b[0m \u001b[0mshutil\u001b[0m \u001b[1;32mimport\u001b[0m \u001b[0mcopyfile\u001b[0m\u001b[1;33m\u001b[0m\u001b[0m\n\u001b[0;32m      4\u001b[0m \u001b[1;33m\u001b[0m\u001b[0m\n\u001b[0;32m      5\u001b[0m \u001b[1;33m\u001b[0m\u001b[0m\n",
      "\u001b[1;31mImportError\u001b[0m: No module named pathlib"
     ]
    }
   ],
   "source": [
    "import os\n",
    "from pathlib import Path\n",
    "from shutil import copyfile\n",
    "\n",
    "\n",
    "def create_new_directory(folder_origin, folder_destination):\n",
    "    dates = os.listdir(folder_origin)\n",
    "    for dd, date in enumerate(dates):\n",
    "        folder_date = Path(folder_origin) / date\n",
    "        animals = os.listdir(folder_date)\n",
    "        for aa, animal in enumerate(animals):\n",
    "            if animal[0:3] == 'NVI':\n",
    "                folder_animal = folder_date / animal\n",
    "                days = os.listdir(folder_animal)\n",
    "                for yy, day in enumerate(days):\n",
    "                    if day[0] == 'D':\n",
    "                        full_folder_origin = folder_animal / day\n",
    "                        contents = os.listdir(full_folder_origin)\n",
    "                        contents.remove('im')\n",
    "                        for cc, content in enumerate(contents):\n",
    "                            full_folder_destination = Path(folder_destination) / date / animal / day\n",
    "                            full_folder_destination.mkdir(parents=True, exist_ok=True)\n",
    "                            copyfile(full_folder_origin / content, full_folder_destination / content)"
   ]
  },
  {
   "cell_type": "code",
   "execution_count": null,
   "metadata": {},
   "outputs": [],
   "source": []
  }
 ],
 "metadata": {
  "kernelspec": {
   "display_name": "Python 2",
   "language": "python",
   "name": "python2"
  },
  "language_info": {
   "codemirror_mode": {
    "name": "ipython",
    "version": 2
   },
   "file_extension": ".py",
   "mimetype": "text/x-python",
   "name": "python",
   "nbconvert_exporter": "python",
   "pygments_lexer": "ipython2",
   "version": "2.7.17"
  }
 },
 "nbformat": 4,
 "nbformat_minor": 2
}
