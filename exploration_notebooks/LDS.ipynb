{
 "cells": [
  {
   "cell_type": "code",
   "execution_count": 1,
   "metadata": {},
   "outputs": [],
   "source": [
    "%load_ext autoreload\n",
    "%autoreload 2"
   ]
  },
  {
   "cell_type": "code",
   "execution_count": 2,
   "metadata": {},
   "outputs": [],
   "source": [
    "%matplotlib notebook"
   ]
  },
  {
   "cell_type": "code",
   "execution_count": 4,
   "metadata": {},
   "outputs": [
    {
     "name": "stderr",
     "output_type": "stream",
     "text": [
      "/opt/local/Library/Frameworks/Python.framework/Versions/2.7/lib/python2.7/site-packages/statsmodels/compat/pandas.py:56: FutureWarning: The pandas.core.datetools module is deprecated and will be removed in a future version. Please use the pandas.tseries module instead.\n",
      "  from pandas.core import datetools\n"
     ]
    },
    {
     "name": "stdout",
     "output_type": "stream",
     "text": [
      "in task\n",
      "in task\n",
      "in task\n",
      "Import Error in db.namelist: from tasklist import tasks -- likely error in a single task preventing import\n"
     ]
    },
    {
     "name": "stderr",
     "output_type": "stream",
     "text": [
      "Traceback (most recent call last):\n",
      "  File \"/Users/preeyakhanna/bmi3d/db/namelist.py\", line 92, in <module>\n",
      "    from bmilist import *\n",
      "  File \"/Users/preeyakhanna/bmi3d/config_files/bmilist.py\", line 25, in <module>\n",
      "    from ismore.ismore_bmi_lib import StateSpaceArmAssist, StateSpaceReHand, StateSpaceIsMore\n",
      "ImportError: No module named ismore.ismore_bmi_lib\n",
      "/opt/local/Library/Frameworks/Python.framework/Versions/2.7/lib/python2.7/site-packages/pybasicbayes-0.2.4-py2.7-macosx-10.9-x86_64.egg/pybasicbayes/util/stats.py:11: DeprecationWarning: numpy.core.umath_tests is an internal NumPy module and should not be imported. It will be removed in a future NumPy release.\n",
      "  from numpy.core.umath_tests import inner1d\n",
      "\n"
     ]
    },
    {
     "name": "stdout",
     "output_type": "stream",
     "text": [
      "error importing BMI configuration variables\n"
     ]
    },
    {
     "name": "stderr",
     "output_type": "stream",
     "text": [
      "/opt/local/Library/Frameworks/Python.framework/Versions/2.7/lib/python2.7/json/encoder.py:207: DeprecationWarning: Interpreting naive datetime as local 2020-07-08 21:43:10.405208. Please add timezone info to timestamps.\n",
      "  chunks = self.iterencode(o, _one_shot=True)\n",
      "\n"
     ]
    }
   ],
   "source": [
    "from online_analysis import generate_models"
   ]
  },
  {
   "cell_type": "code",
   "execution_count": 43,
   "metadata": {
    "scrolled": true
   },
   "outputs": [
    {
     "name": "stderr",
     "output_type": "stream",
     "text": [
      "online_analysis/generate_models.py:342: DeprecationWarning: openFile() is pending deprecation, use open_file() instead. You may use the pt2to3 tool to update your source code.\n",
      "  h5file = tables.openFile(hdf_filename, mode=\"w\", title=animal+'_tuning')\n",
      "\n"
     ]
    },
    {
     "name": "stdout",
     "output_type": "stream",
     "text": [
      "##############################\n",
      "########## DAY 0 ##########\n",
      "##############################\n",
      "(64,) (64,) (18, 44) 6 (18,)\n",
      "[0. 1. 2. 3. 4. 5. 6. 7.]\n",
      "(64,) (64,) (18, 44) 6 (18,)\n",
      "[0. 1. 2. 3. 4. 5. 6. 7.]\n",
      "(64,) (64,) (18, 44) 6 (18,)\n",
      "[0. 1. 2. 3. 4. 5. 6. 7.]\n",
      "new trial offset 64, total trls in this blk 64\n",
      "(101,) (101,) (40, 44) 6 (40,)\n",
      "[0. 1. 2. 3. 4. 5. 6. 7.]\n",
      "(101,) (101,) (40, 44) 6 (40,)\n",
      "[0. 1. 2. 3. 4. 5. 6. 7.]\n",
      "(101,) (101,) (40, 44) 6 (40,)\n",
      "[0. 1. 2. 3. 4. 5. 6. 7.]\n",
      "new trial offset 165, total trls in this blk 101\n",
      "(122,) (122,) (97, 44) 6 (97,)\n",
      "[0. 1. 2. 3. 4. 5. 6. 7.]\n",
      "(122,) (122,) (97, 44) 6 (97,)\n",
      "[0. 1. 2. 3. 4. 5. 6. 7.]\n",
      "(122,) (122,) (97, 44) 6 (97,)\n",
      "[0. 1. 2. 3. 4. 5. 6. 7.]\n",
      "new trial offset 287, total trls in this blk 122\n",
      "Staring shuff 0\n"
     ]
    },
    {
     "name": "stderr",
     "output_type": "stream",
     "text": [
      "online_analysis/generate_models.py:1191: FutureWarning: `rcond` parameter will change to the default of machine precision times ``max(M, N)`` where M and N are the input matrix dimensions.\n",
      "To use the future default and silence this warning we advise to pass `rcond=None`, to keep using the old, explicitly pass `rcond=-1`.\n",
      "  A = np.mat(np.linalg.lstsq(x_hat[:-1, :], x_hat[1:, :])[0])\n",
      "\n"
     ]
    },
    {
     "name": "stdout",
     "output_type": "stream",
     "text": [
      "R2 again, 0.31\n",
      "No push\n",
      "No push\n",
      "No push\n",
      "No push\n",
      "No push\n",
      "No push\n",
      "No push\n",
      "No push\n",
      "No push\n",
      "No push\n",
      "No push\n",
      "No push\n",
      "No push\n",
      "No push\n",
      "No push\n",
      "##############################\n",
      "########## DAY 1 ##########\n",
      "##############################\n",
      "(64,) (64,) (51, 35) 6 (51,)\n",
      "[0. 1. 2. 3. 4. 5. 6. 7.]\n",
      "(64,) (64,) (51, 35) 6 (51,)\n",
      "[0. 1. 2. 3. 4. 5. 6. 7.]\n",
      "(64,) (64,) (51, 35) 6 (51,)\n",
      "[0. 1. 2. 3. 4. 5. 6. 7.]\n",
      "new trial offset 64, total trls in this blk 64\n",
      "(129,) (129,) (21, 35) 6 (21,)\n",
      "[0. 1. 2. 3. 4. 5. 6. 7.]\n",
      "(129,) (129,) (21, 35) 6 (21,)\n",
      "[0. 1. 2. 3. 4. 5. 6. 7.]\n",
      "(129,) (129,) (21, 35) 6 (21,)\n",
      "[0. 1. 2. 3. 4. 5. 6. 7.]\n",
      "new trial offset 193, total trls in this blk 129\n",
      "Staring shuff 0\n",
      "R2 again, 0.37\n",
      "No push\n",
      "No push\n",
      "No push\n",
      "No push\n",
      "No push\n",
      "No push\n",
      "No push\n",
      "No push\n",
      "No push\n",
      "No push\n",
      "No push\n",
      "No push\n",
      "No push\n",
      "No push\n",
      "No push\n",
      "##############################\n",
      "########## DAY 2 ##########\n",
      "##############################\n",
      "(64,) (64,) (24, 148) 6 (24,)\n",
      "[0. 1. 2. 3. 4. 5. 6. 7.]\n",
      "(64,) (64,) (24, 148) 6 (24,)\n",
      "[0. 1. 2. 3. 4. 5. 6. 7.]\n",
      "(64,) (64,) (24, 148) 6 (24,)\n",
      "[0. 1. 2. 3. 4. 5. 6. 7.]\n",
      "new trial offset 64, total trls in this blk 64\n",
      "(255,) (255,) (20, 148) 6 (20,)\n",
      "[0. 1. 2. 3. 4. 5. 6. 7.]\n",
      "(255,) (255,) (20, 148) 6 (20,)\n",
      "[0. 1. 2. 3. 4. 5. 6. 7.]\n",
      "(255,) (255,) (20, 148) 6 (20,)\n",
      "[0. 1. 2. 3. 4. 5. 6. 7.]\n",
      "new trial offset 319, total trls in this blk 255\n",
      "(208,) (208,) (23, 148) 6 (23,)\n",
      "[0. 1. 2. 3. 4. 5. 6. 7.]\n",
      "(208,) (208,) (23, 148) 6 (23,)\n",
      "[0. 1. 2. 3. 4. 5. 6. 7.]\n",
      "(208,) (208,) (23, 148) 6 (23,)\n",
      "[0. 1. 2. 3. 4. 5. 6. 7.]\n",
      "new trial offset 527, total trls in this blk 208\n",
      "Staring shuff 0\n",
      "R2 again, 0.11\n",
      "No push\n",
      "No push\n",
      "No push\n",
      "No push\n",
      "No push\n",
      "No push\n",
      "No push\n",
      "No push\n",
      "No push\n",
      "No push\n",
      "No push\n",
      "No push\n",
      "No push\n",
      "No push\n",
      "No push\n",
      "##############################\n",
      "########## DAY 3 ##########\n",
      "##############################\n",
      "(64,) (64,) (29, 53) 6 (29,)\n",
      "[0. 1. 2. 3. 4. 5. 6. 7.]\n",
      "(64,) (64,) (29, 53) 6 (29,)\n",
      "[0. 1. 2. 3. 4. 5. 6. 7.]\n",
      "(64,) (64,) (29, 53) 6 (29,)\n",
      "[0. 1. 2. 3. 4. 5. 6. 7.]\n",
      "new trial offset 64, total trls in this blk 64\n",
      "(73,) (73,) (30, 53) 6 (30,)\n",
      "[0. 1. 2. 3. 4. 5. 6. 7.]\n",
      "(73,) (73,) (30, 53) 6 (30,)\n",
      "[0. 1. 2. 3. 4. 5. 6. 7.]\n",
      "(73,) (73,) (30, 53) 6 (30,)\n",
      "[0. 1. 2. 3. 4. 5. 6. 7.]\n",
      "new trial offset 137, total trls in this blk 73\n",
      "(237,) (237,) (26, 53) 6 (26,)\n",
      "[0. 1. 2. 3. 4. 5. 6. 7.]\n",
      "(237,) (237,) (26, 53) 6 (26,)\n",
      "[0. 1. 2. 3. 4. 5. 6. 7.]\n",
      "(237,) (237,) (26, 53) 6 (26,)\n",
      "[0. 1. 2. 3. 4. 5. 6. 7.]\n",
      "new trial offset 374, total trls in this blk 237\n",
      "(100,) (100,) (32, 53) 6 (32,)\n",
      "[0. 1. 2. 3. 4. 5. 6. 7.]\n",
      "(100,) (100,) (32, 53) 6 (32,)\n",
      "[0. 1. 2. 3. 4. 5. 6. 7.]\n",
      "(100,) (100,) (32, 53) 6 (32,)\n",
      "[0. 1. 2. 3. 4. 5. 6. 7.]\n",
      "new trial offset 474, total trls in this blk 100\n",
      "Staring shuff 0\n",
      "R2 again, 0.11\n",
      "No push\n",
      "No push\n",
      "No push\n",
      "No push\n",
      "No push\n",
      "No push\n",
      "No push\n",
      "No push\n",
      "No push\n",
      "No push\n",
      "No push\n",
      "No push\n",
      "No push\n",
      "No push\n",
      "No push\n",
      "##############################\n",
      "########## DAY 4 ##########\n",
      "##############################\n",
      "(64,) (64,) (14, 151) 6 (14,)\n",
      "[0. 1. 2. 3. 4. 5. 6. 7.]\n",
      "(64,) (64,) (14, 151) 6 (14,)\n",
      "[0. 1. 2. 3. 4. 5. 6. 7.]\n",
      "(64,) (64,) (14, 151) 6 (14,)\n",
      "[0. 1. 2. 3. 4. 5. 6. 7.]\n",
      "new trial offset 64, total trls in this blk 64\n",
      "(159,) (159,) (34, 151) 6 (34,)\n",
      "[0. 1. 2. 3. 4. 5. 6. 7.]\n",
      "(159,) (159,) (34, 151) 6 (34,)\n",
      "[0. 1. 2. 3. 4. 5. 6. 7.]\n",
      "(159,) (159,) (34, 151) 6 (34,)\n",
      "[0. 1. 2. 3. 4. 5. 6. 7.]\n",
      "new trial offset 223, total trls in this blk 159\n",
      "(121,) (121,) (47, 151) 6 (47,)\n",
      "[0. 1. 2. 3. 4. 5. 6. 7.]\n",
      "(121,) (121,) (47, 151) 6 (47,)\n",
      "[0. 1. 2. 3. 4. 5. 6. 7.]\n",
      "(121,) (121,) (47, 151) 6 (47,)\n",
      "[0. 1. 2. 3. 4. 5. 6. 7.]\n",
      "new trial offset 344, total trls in this blk 121\n",
      "Staring shuff 0\n",
      "R2 again, 0.08\n",
      "No push\n",
      "No push\n",
      "No push\n",
      "No push\n",
      "No push\n",
      "No push\n",
      "No push\n",
      "No push\n",
      "No push\n",
      "No push\n",
      "No push\n",
      "No push\n",
      "No push\n",
      "No push\n",
      "No push\n",
      "##############################\n",
      "########## DAY 5 ##########\n",
      "##############################\n",
      "(63,) (63,) (20, 42) 6 (20,)\n",
      "[0. 1. 2. 3. 4. 5. 6. 7.]\n",
      "(63,) (63,) (20, 42) 6 (20,)\n",
      "[0. 1. 2. 3. 4. 5. 6. 7.]\n",
      "(63,) (63,) (20, 42) 6 (20,)\n",
      "[0. 1. 2. 3. 4. 5. 6. 7.]\n",
      "new trial offset 63, total trls in this blk 63\n",
      "(64,) (64,) (12, 42) 6 (12,)\n",
      "[0. 1. 2. 3. 4. 5. 6. 7.]\n",
      "(64,) (64,) (12, 42) 6 (12,)\n",
      "[0. 1. 2. 3. 4. 5. 6. 7.]\n",
      "(64,) (64,) (12, 42) 6 (12,)\n",
      "[0. 1. 2. 3. 4. 5. 6. 7.]\n",
      "new trial offset 127, total trls in this blk 64\n",
      "(97,) (97,) (32, 42) 6 (32,)\n",
      "[0. 1. 2. 3. 4. 5. 6. 7.]\n",
      "(97,) (97,) (32, 42) 6 (32,)\n",
      "[0. 1. 2. 3. 4. 5. 6. 7.]\n",
      "(97,) (97,) (32, 42) 6 (32,)\n",
      "[0. 1. 2. 3. 4. 5. 6. 7.]\n",
      "new trial offset 224, total trls in this blk 97\n",
      "(174,) (174,) (38, 42) 6 (38,)\n",
      "[0. 1. 2. 3. 4. 5. 6. 7.]\n",
      "(174,) (174,) (38, 42) 6 (38,)\n",
      "[0. 1. 2. 3. 4. 5. 6. 7.]\n",
      "(174,) (174,) (38, 42) 6 (38,)\n",
      "[0. 1. 2. 3. 4. 5. 6. 7.]\n",
      "new trial offset 398, total trls in this blk 174\n",
      "Staring shuff 0\n",
      "R2 again, 0.12\n",
      "No push\n",
      "No push\n",
      "No push\n",
      "No push\n",
      "No push\n",
      "No push\n",
      "No push\n",
      "No push\n",
      "No push\n",
      "No push\n",
      "No push\n",
      "No push\n",
      "No push\n",
      "No push\n",
      "No push\n",
      "##############################\n",
      "########## DAY 6 ##########\n",
      "##############################\n",
      "(63,) (63,) (18, 50) 6 (18,)\n",
      "[0. 1. 2. 3. 4. 5. 6. 7.]\n",
      "(63,) (63,) (18, 50) 6 (18,)\n",
      "[0. 1. 2. 3. 4. 5. 6. 7.]\n",
      "(63,) (63,) (18, 50) 6 (18,)\n",
      "[0. 1. 2. 3. 4. 5. 6. 7.]\n",
      "new trial offset 63, total trls in this blk 63\n",
      "(29,) (29,) (31, 50) 6 (31,)\n",
      "[0. 1. 2. 3. 4. 5. 6. 7.]\n",
      "(29,) (29,) (31, 50) 6 (31,)\n",
      "[0. 1. 2. 3. 4. 5. 6. 7.]\n",
      "(29,) (29,) (31, 50) 6 (31,)\n",
      "[0. 1. 2. 3. 4. 5. 6. 7.]\n",
      "new trial offset 92, total trls in this blk 29\n",
      "(64,) (64,) (47, 50) 6 (47,)\n",
      "[0. 1. 2. 3. 4. 5. 6. 7.]\n",
      "(64,) (64,) (47, 50) 6 (47,)\n",
      "[0. 1. 2. 3. 4. 5. 6. 7.]\n",
      "(64,) (64,) (47, 50) 6 (47,)\n",
      "[0. 1. 2. 3. 4. 5. 6. 7.]\n",
      "new trial offset 156, total trls in this blk 64\n",
      "Staring shuff 0\n",
      "R2 again, 0.15\n",
      "No push\n",
      "No push\n",
      "No push\n",
      "No push\n",
      "No push\n",
      "No push\n",
      "No push\n",
      "No push\n",
      "No push\n",
      "No push\n",
      "No push\n",
      "No push\n",
      "No push\n",
      "No push\n",
      "No push\n",
      "##############################\n",
      "########## DAY 7 ##########\n",
      "##############################\n",
      "(64,) (64,) (35, 48) 6 (35,)\n",
      "[0. 1. 2. 3. 4. 5. 6. 7.]\n",
      "(64,) (64,) (35, 48) 6 (35,)\n",
      "[0. 1. 2. 3. 4. 5. 6. 7.]\n",
      "(64,) (64,) (35, 48) 6 (35,)\n",
      "[0. 1. 2. 3. 4. 5. 6. 7.]\n",
      "new trial offset 64, total trls in this blk 64\n",
      "(100,) (100,) (48, 48) 6 (48,)\n",
      "[0. 1. 2. 3. 4. 5. 6. 7.]\n",
      "(100,) (100,) (48, 48) 6 (48,)\n",
      "[0. 1. 2. 3. 4. 5. 6. 7.]\n",
      "(100,) (100,) (48, 48) 6 (48,)\n",
      "[0. 1. 2. 3. 4. 5. 6. 7.]\n",
      "new trial offset 164, total trls in this blk 100\n",
      "Staring shuff 0\n",
      "R2 again, 0.09\n",
      "No push\n",
      "No push\n",
      "No push\n",
      "No push\n",
      "No push\n",
      "No push\n",
      "No push\n",
      "No push\n",
      "No push\n",
      "No push\n",
      "No push\n",
      "No push\n",
      "No push\n",
      "No push\n",
      "No push\n",
      "##############################\n",
      "########## DAY 8 ##########\n",
      "##############################\n",
      "(64,) (64,) (36, 48) 6 (36,)\n",
      "[0. 1. 2. 3. 4. 5. 6. 7.]\n",
      "(64,) (64,) (36, 48) 6 (36,)\n",
      "[0. 1. 2. 3. 4. 5. 6. 7.]\n",
      "(64,) (64,) (36, 48) 6 (36,)\n",
      "[0. 1. 2. 3. 4. 5. 6. 7.]\n",
      "new trial offset 64, total trls in this blk 64\n",
      "(75,) (75,) (32, 48) 6 (32,)\n",
      "[0. 1. 2. 3. 4. 5. 6. 7.]\n",
      "(75,) (75,) (32, 48) 6 (32,)\n",
      "[0. 1. 2. 3. 4. 5. 6. 7.]\n",
      "(75,) (75,) (32, 48) 6 (32,)\n",
      "[0. 1. 2. 3. 4. 5. 6. 7.]\n",
      "new trial offset 139, total trls in this blk 75\n",
      "Staring shuff 0\n",
      "R2 again, 0.09\n",
      "No push\n",
      "No push\n",
      "No push\n",
      "No push\n",
      "No push\n",
      "No push\n",
      "No push\n",
      "No push\n",
      "No push\n",
      "No push\n",
      "No push\n",
      "No push\n",
      "No push\n",
      "No push\n",
      "No push\n",
      "H5 File Done:  /Users/preeyakhanna/Dropbox/TimeMachineBackups/grom2016/grom_models_to_pred_mn_diffs_model_set11_no_intc.h5\n"
     ]
    },
    {
     "name": "stderr",
     "output_type": "stream",
     "text": [
      "/opt/local/Library/Frameworks/Python.framework/Versions/2.7/lib/python2.7/json/encoder.py:207: DeprecationWarning: Interpreting naive datetime as local 2020-07-08 23:43:18.198048. Please add timezone info to timestamps.\n",
      "  chunks = self.iterencode(o, _one_shot=True)\n",
      "\n"
     ]
    }
   ],
   "source": [
    "generate_models.model_individual_cell_tuning_curves(animal='grom', \n",
    "                                                   model_set_number=11, fit_intercept = False,\n",
    "                                                   fit_task_spec_and_general = True, match_task_spec_n = True,\n",
    "                                                   add_model_to_datafile = True)"
   ]
  },
  {
   "cell_type": "code",
   "execution_count": 19,
   "metadata": {},
   "outputs": [
    {
     "name": "stdout",
     "output_type": "stream",
     "text": [
      "Automatic pdb calling has been turned ON\n"
     ]
    },
    {
     "name": "stderr",
     "output_type": "stream",
     "text": [
      "/opt/local/Library/Frameworks/Python.framework/Versions/2.7/lib/python2.7/json/encoder.py:207: DeprecationWarning: Interpreting naive datetime as local 2020-07-08 21:54:35.877378. Please add timezone info to timestamps.\n",
      "  chunks = self.iterencode(o, _one_shot=True)\n",
      "\n"
     ]
    }
   ],
   "source": [
    "pdb"
   ]
  },
  {
   "cell_type": "code",
   "execution_count": 32,
   "metadata": {},
   "outputs": [
    {
     "name": "stderr",
     "output_type": "stream",
     "text": [
      "/opt/local/Library/Frameworks/Python.framework/Versions/2.7/lib/python2.7/json/encoder.py:207: DeprecationWarning: Interpreting naive datetime as local 2020-07-08 23:25:33.250011. Please add timezone info to timestamps.\n",
      "  chunks = self.iterencode(o, _one_shot=True)\n",
      "\n"
     ]
    }
   ],
   "source": [
    "x=1"
   ]
  },
  {
   "cell_type": "code",
   "execution_count": 33,
   "metadata": {},
   "outputs": [
    {
     "name": "stderr",
     "output_type": "stream",
     "text": [
      "/opt/local/Library/Frameworks/Python.framework/Versions/2.7/lib/python2.7/json/encoder.py:207: DeprecationWarning: Interpreting naive datetime as local 2020-07-08 23:41:43.825074. Please add timezone info to timestamps.\n",
      "  chunks = self.iterencode(o, _one_shot=True)\n",
      "\n"
     ]
    }
   ],
   "source": [
    "from pylds.models import DefaultLDS\n"
   ]
  },
  {
   "cell_type": "code",
   "execution_count": 35,
   "metadata": {},
   "outputs": [
    {
     "name": "stderr",
     "output_type": "stream",
     "text": [
      "/opt/local/Library/Frameworks/Python.framework/Versions/2.7/lib/python2.7/json/encoder.py:207: DeprecationWarning: Interpreting naive datetime as local 2020-07-08 23:42:04.068567. Please add timezone info to timestamps.\n",
      "  chunks = self.iterencode(o, _one_shot=True)\n",
      "\n"
     ]
    }
   ],
   "source": [
    "x = DefaultLDS(44, 20, 0)"
   ]
  },
  {
   "cell_type": "code",
   "execution_count": 42,
   "metadata": {},
   "outputs": [
    {
     "data": {
      "text/plain": [
       "(44, 44)"
      ]
     },
     "execution_count": 42,
     "metadata": {},
     "output_type": "execute_result"
    },
    {
     "name": "stderr",
     "output_type": "stream",
     "text": [
      "/opt/local/Library/Frameworks/Python.framework/Versions/2.7/lib/python2.7/json/encoder.py:207: DeprecationWarning: Interpreting naive datetime as local 2020-07-08 23:42:28.900686. Please add timezone info to timestamps.\n",
      "  chunks = self.iterencode(o, _one_shot=True)\n",
      "\n"
     ]
    }
   ],
   "source": [
    "x.sigma_obs.shape\n"
   ]
  },
  {
   "cell_type": "code",
   "execution_count": null,
   "metadata": {},
   "outputs": [],
   "source": []
  }
 ],
 "metadata": {
  "kernelspec": {
   "display_name": "Python 2",
   "language": "python",
   "name": "python2"
  },
  "language_info": {
   "codemirror_mode": {
    "name": "ipython",
    "version": 2
   },
   "file_extension": ".py",
   "mimetype": "text/x-python",
   "name": "python",
   "nbconvert_exporter": "python",
   "pygments_lexer": "ipython2",
   "version": "2.7.8"
  }
 },
 "nbformat": 4,
 "nbformat_minor": 4
}
