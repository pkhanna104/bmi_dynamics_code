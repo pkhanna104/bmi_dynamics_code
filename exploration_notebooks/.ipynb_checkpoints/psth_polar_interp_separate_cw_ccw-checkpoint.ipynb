{
 "cells": [
  {
   "cell_type": "code",
   "execution_count": null,
   "metadata": {},
   "outputs": [],
   "source": [
    "%load_ext autoreload\n",
    "%autoreload 2"
   ]
  },
  {
   "cell_type": "code",
   "execution_count": null,
   "metadata": {},
   "outputs": [],
   "source": [
    "#plot_n_b_psth.ipynb\n",
    "#plot neural and behavior psth\n",
    "\n",
    "import scipy.io as sio\n",
    "import scipy.stats as sio_stat\n",
    "import scipy.interpolate\n",
    "import numpy as np\n",
    "import pandas as pd\n",
    "import xarray as xr\n",
    "import matplotlib.pyplot as plt \n",
    "\n",
    "import os\n",
    "import pickle\n",
    "import sys\n",
    "import copy\n",
    "\n",
    "import time\n",
    "import pylab as pl\n",
    "from IPython import display\n",
    "\n",
    "from bmi_dynamics_code import behavior_co_obs as bmi_b\n",
    "from bmi_dynamics_code import data_for_v as preeyacode\n",
    "from bmi_dynamics_code import util as bmi_util\n",
    "\n",
    "import timeit\n",
    "from sklearn import decomposition as skl_decomp\n",
    "\n",
    "%matplotlib notebook"
   ]
  },
  {
   "cell_type": "code",
   "execution_count": null,
   "metadata": {},
   "outputs": [],
   "source": [
    "%matplotlib notebook"
   ]
  },
  {
   "cell_type": "code",
   "execution_count": null,
   "metadata": {},
   "outputs": [],
   "source": [
    "# data_dir = '/Users/vivekathalye/Dropbox/Code/preeya_co_obstacle'\n",
    "save_dir = r'D:\\Dropbox\\BMI_co_obs_paper\\data\\vivek\\psth'\n",
    "if not os.path.exists(save_dir):\n",
    "    os.makedirs(save_dir)\n",
    "\n",
    "home_dir = r'D:\\Dropbox\\Code\\preeya_co_obstacle'\n",
    "data_dir = r'D:\\Dropbox\\Data\\preeya_co_obstacle'\n",
    "data_path = os.path.join(data_dir, 'for_v_df.pkl')\n",
    "print(os.path.exists(data_path))\n",
    "d = pickle.load(open(data_path))\n",
    "\n",
    "#UNPACK: \n",
    "decoder = d['decoder']\n",
    "pre = d['pre']\n",
    "num_targets = d['num_targets']\n",
    "sample_period = d['sample_period']\n",
    "target_hold_time = d['target_hold_time']\n",
    "num_neurons = d['num_neurons']\n",
    "target_color = d['target_color']\n",
    "obs_big = d['obs_big']\n",
    "obs_small = d['obs_small']\n",
    "target_r_task = d['target_r_task'] #target_r_task = {0:1.7, 1:2.0}\n",
    "cursor_r = d['cursor_r']\n",
    "target_r_eff = d['target_r_eff']\n",
    "target_pos = d['target_pos']\n",
    "target_angle = np.arctan2(target_pos[:,1], target_pos[:,0])\n",
    "target_dist = np.linalg.norm(target_pos, axis=1)\n",
    "obs_pos = d['obs_pos']\n",
    "\n",
    "tc_meta = d['tc_meta']\n",
    "task_list = d['task_list']\n",
    "num_tasks = len(task_list)\n",
    "task2idx = d['task2idx']\n",
    "idx2task = bmi_util.invert_dic(task2idx)\n",
    "task2tc = d['task2tc']\n",
    "tc_list = d['tc_list']\n",
    "df = d['df']\n",
    "df_label = d['df_label']\n",
    "\n",
    "task_color = ['k', 'r']"
   ]
  },
  {
   "cell_type": "code",
   "execution_count": null,
   "metadata": {},
   "outputs": [],
   "source": [
    "save_dir"
   ]
  },
  {
   "cell_type": "code",
   "execution_count": null,
   "metadata": {
    "scrolled": false
   },
   "outputs": [],
   "source": [
    "#Plot the targets and obstacles: \n",
    "plot_task = True\n",
    "\n",
    "plot_target = True\n",
    "plot_obs_big = True\n",
    "plot_obs_small = False\n",
    "\n",
    "save_bool = True\n",
    "plt_ext = ['.eps']\n",
    "\n",
    "if plot_task:\n",
    "    plot = {}\n",
    "    plot['size'] = (10,10)\n",
    "    plot['xlim'] = (-12.5,12.5)\n",
    "    plot['ylim'] = (-12.5,12.5)\n",
    "\n",
    "    plt.figure(figsize=plot['size'])\n",
    "\n",
    "    if plot_obs_small:\n",
    "        bmi_util.plot_obstacles(obs_pos, target_color, obs_small*np.ones(num_targets))\n",
    "    if plot_obs_big:\n",
    "        bmi_util.plot_obstacles(obs_pos, target_color, obs_big*np.ones(num_targets))\n",
    "    if plot_target: \n",
    "        for task in range(num_tasks):\n",
    "            bmi_util.plot_targets(target_pos, target_color, target_r_task[task]*np.ones(num_targets))                \n",
    "    plt.axis('square')\n",
    "    plt.xlim(plot['xlim'])\n",
    "    plt.ylim(plot['ylim'])\n",
    "    plt.show()\n",
    "    \n",
    "    if save_bool: \n",
    "        plt_name = 'target_obstacle'\n",
    "        for ext in plt_ext:\n",
    "            plt.savefig(os.path.join(save_dir, plt_name+ext))"
   ]
  },
  {
   "cell_type": "code",
   "execution_count": null,
   "metadata": {},
   "outputs": [],
   "source": [
    "target_r_eff"
   ]
  },
  {
   "cell_type": "code",
   "execution_count": null,
   "metadata": {},
   "outputs": [],
   "source": [
    "target_r_task\n"
   ]
  },
  {
   "cell_type": "code",
   "execution_count": null,
   "metadata": {},
   "outputs": [],
   "source": [
    "cursor_r"
   ]
  },
  {
   "cell_type": "code",
   "execution_count": null,
   "metadata": {},
   "outputs": [],
   "source": [
    "target_r_eff = copy.copy(target_r_task)\n",
    "target_r_eff[0] += cursor_r[0]\n",
    "target_r_eff[1] += cursor_r[1]"
   ]
  },
  {
   "cell_type": "code",
   "execution_count": null,
   "metadata": {},
   "outputs": [],
   "source": [
    "target_r_task"
   ]
  },
  {
   "cell_type": "code",
   "execution_count": null,
   "metadata": {
    "scrolled": false
   },
   "outputs": [],
   "source": [
    "#Confirm the angles the cursor can use to hit the target\n",
    "r=10\n",
    "\n",
    "#the intersection of: x^2+(y-10)^2=1.7^2, x^2+y^2=100.  solved for using wolfram alpha.\n",
    "x_sol = 17*(39711)**(0.5)/2000.0\n",
    "y_sol = 19711.0/2000.0\n",
    "\n",
    "theta_max = np.arctan2(x_sol, y_sol)\n",
    "plt.figure(figsize=(8,8))\n",
    "bmi_util.plot_targets(target_pos, target_color, target_r_task[0]*np.ones(num_targets)) \n",
    "for target in range(num_targets):\n",
    "    mult_list = [1,-1]\n",
    "    for mult in mult_list:\n",
    "        theta = target_angle[target]+theta_max*mult\n",
    "        x = r*np.cos(theta)\n",
    "        y = r*np.sin(theta)\n",
    "        plt.plot(np.array([0, x]), np.array([0, y]), 'k')\n",
    "plt.axis('square')\n",
    "print(theta_max*180/np.pi)"
   ]
  },
  {
   "cell_type": "code",
   "execution_count": null,
   "metadata": {},
   "outputs": [],
   "source": [
    "obs_big"
   ]
  },
  {
   "cell_type": "code",
   "execution_count": null,
   "metadata": {
    "scrolled": false
   },
   "outputs": [],
   "source": [
    "obs_x = obs_big/2.0\n",
    "obs_y = 5-obs_big/2.0\n",
    "obs_theta = np.arctan2(obs_x, obs_y)\n",
    "print('angle to avoid obstacle:')\n",
    "print(obs_theta*180/np.pi)\n",
    "\n",
    "plt.figure()\n",
    "bmi_util.plot_obstacles(obs_pos, target_color, obs_big*np.ones(num_targets))\n",
    "x= np.array([0, obs_x])\n",
    "y=np.array([0, obs_y])\n",
    "plt.plot(x,y,'k')\n",
    "x= np.array([0, -obs_x])\n",
    "y=np.array([0, obs_y])\n",
    "plt.plot(x,y,'k')\n",
    "plt.axis('square')"
   ]
  },
  {
   "cell_type": "code",
   "execution_count": null,
   "metadata": {},
   "outputs": [],
   "source": [
    "#angle for avoiding obstacle in diagonal positions: \n",
    "obs_y = 5\n",
    "obs_x = ((obs_big**2+obs_big**2)**0.5)/2\n",
    "obs_theta_diag = np.arctan2(obs_x, obs_y)\n",
    "print(obs_theta_diag*180/np.pi)"
   ]
  },
  {
   "cell_type": "code",
   "execution_count": null,
   "metadata": {},
   "outputs": [],
   "source": [
    "obs_x = obs_big/2.0\n",
    "obs_y = 5-obs_big/2.0\n",
    "obs_theta = np.arctan2(obs_x, obs_y)\n",
    "print('angle to avoid obstacle:')\n",
    "print(obs_theta*180/np.pi)\n",
    "\n",
    "plt.figure()\n",
    "bmi_util.plot_obstacles(obs_pos, target_color, obs_big*np.ones(num_targets))\n",
    "x= np.array([0, obs_x])\n",
    "y=np.array([0, obs_y])\n",
    "plt.plot(x,y,'k')\n",
    "x= np.array([0, -obs_x])\n",
    "y=np.array([0, obs_y])\n",
    "plt.plot(x,y,'k')\n",
    "plt.axis('square')"
   ]
  },
  {
   "cell_type": "code",
   "execution_count": null,
   "metadata": {
    "scrolled": false
   },
   "outputs": [],
   "source": [
    "#PLOT INDIVIDUAL TRIALS: \n",
    "save_bool = True\n",
    "plt_prefix = 'trials'\n",
    "plt_ext = ['.png', '.eps']\n",
    "\n",
    "plot={}\n",
    "plot['size'] = (10,10)\n",
    "plot['xlim'] = (-12.5,12.5)\n",
    "plot['ylim'] = (-12.5,12.5)\n",
    "\n",
    "plot_obs_subset = True\n",
    "plot_obs_small_trials = False\n",
    "plot_obs_big_trials = True\n",
    "\n",
    "\n",
    "plot_target = True\n",
    "plot_obs_small = False\n",
    "plot_obs_big = True\n",
    "\n",
    "for task_str in task_list:\n",
    "    task = task2idx[task_str]\n",
    "    plt.figure(figsize=plot['size'])\n",
    "    for target in range(num_targets):\n",
    "        if task_str == 'co' or (task_str == 'obs' and plot_obs_subset == False): \n",
    "            sel = (df['task']==task) & (df['bin']>=0) & (df['target']==target)\n",
    "        elif task_str == 'obs' and plot_obs_small_trials:\n",
    "            sel = (df['task']==task) & (df['bin']>=0) & (df['target']==target) & (df['obs_size']==obs_small)\n",
    "        elif task_str == 'obs' and plot_obs_big_trials:\n",
    "            sel = (df['task']==task) & (df['bin']>=0) & (df['target']==target) & (df['obs_size']==obs_big)\n",
    "             \n",
    "        df_sel = df[sel]\n",
    "        #------------------------------------------------------------------------------------\n",
    "        #TRIALS: \n",
    "        trial_start = np.where(df_sel['bin']==0)[0]\n",
    "        trial_stop = np.hstack((trial_start[1:]-1, len(np.where(sel)[0])))\n",
    "        trial_bound = np.vstack((trial_start,trial_stop)).T\n",
    "        #------------------------------------------------------------------------------------\n",
    "        for bnd in trial_bound[:,:]: #trial_bound[0:1,:]:\n",
    "#             if (task_str == 'co') or (task_str == 'obs') and (df_sel['obs_size'][bnd[0]:bnd[0]+1] == obs_big).bool(): \n",
    "            x = df_sel['kin_px'][bnd[0]:bnd[1]+1]\n",
    "            y = df_sel['kin_py'][bnd[0]:bnd[1]+1]\n",
    "            color = target_color[target]\n",
    "            plt.plot(x,y,'-',color=color)\n",
    "\n",
    "    if plot_obs_small:\n",
    "        bmi_util.plot_obstacles(obs_pos, target_color, obs_small*np.ones(num_targets))\n",
    "    if plot_obs_big:\n",
    "        bmi_util.plot_obstacles(obs_pos, target_color, obs_big*np.ones(num_targets))\n",
    "    if plot_target: \n",
    "        bmi_util.plot_targets(target_pos, target_color, target_r_eff[task]*np.ones(num_targets))  \n",
    "    \n",
    "    plt.axis('square')\n",
    "    plt.title(task_str)\n",
    "#     plt.xlim(plot['xlim'])\n",
    "#     plt.ylim(plot['ylim'])\n",
    "    plt.show()\n",
    "    \n",
    "    if save_bool: \n",
    "        plt_name = plt_prefix + '_' + task_str\n",
    "        for ext in plt_ext:\n",
    "            plt.savefig(os.path.join(save_dir, plt_name+ext))    \n",
    "    "
   ]
  },
  {
   "cell_type": "code",
   "execution_count": null,
   "metadata": {},
   "outputs": [],
   "source": [
    "df.columns"
   ]
  },
  {
   "cell_type": "code",
   "execution_count": null,
   "metadata": {},
   "outputs": [],
   "source": [
    "df.shape"
   ]
  },
  {
   "cell_type": "code",
   "execution_count": null,
   "metadata": {
    "scrolled": true
   },
   "outputs": [],
   "source": [
    "#Identify if each trajectory is more clockwise or counterclockwise around the axis from center to target: \n",
    "\n",
    "df['cw'] = np.zeros((df.shape[0])) #cw = positive signed area\n",
    "df['target_axis_signed_area'] = np.zeros((df.shape[0]))\n",
    "df['target_axis_area'] = np.zeros((df.shape[0]))\n",
    "\n",
    "trial_start = np.where((df['trial_start']==1))[0]\n",
    "trial_stop = np.where((df['trial_stop']==1))[0]\n",
    "trial_bound = np.vstack((trial_start,trial_stop)).T\n",
    "num_trials = trial_bound.shape[0]\n",
    "\n",
    "a_dic = {('a','co'):[], ('a','obs'):[], ('sa','co'):[], ('sa','obs'):[]}\n",
    "\n",
    "for bnd in trial_bound: \n",
    "#     print(bnd)\n",
    "#     x = df.loc[bnd[0]:bnd[1], 'kin_px']\n",
    "#     y = df.loc[bnd[0]:bnd[1], 'kin_py']\n",
    "    x = df['kin_px'][bnd[0]:bnd[1]+1]\n",
    "    y = df['kin_py'][bnd[0]:bnd[1]+1]\n",
    "    t = int(df['target'][bnd[0]])\n",
    "    t_pos = target_pos[t,:]\n",
    "    sa, a, df_a = bmi_b.traj_signed_area_about_target_axis(x, y, t_pos)\n",
    "    if sa>0:\n",
    "        cw=1\n",
    "    else:\n",
    "        cw=0\n",
    "    \n",
    "    #debug: \n",
    "    tsk = task_list[int(df['task'][bnd[0]])]\n",
    "    trl = df['trial'][bnd[0]]\n",
    "    trl_len = bnd[1]+1-bnd[0]\n",
    "    print(bnd[0], bnd[1], trl_len, tsk, t, trl, sa, cw, a)\n",
    "    #Insert the data: \n",
    "    df['target_axis_signed_area'][bnd[0]:bnd[1]+1] = sa\n",
    "    df['cw'][bnd[0]:bnd[1]+1] = cw\n",
    "    df['target_axis_area'][bnd[0]:bnd[1]+1] = a\n",
    "    \n",
    "    #collect for stats: \n",
    "    a_dic[('a',tsk)].append(a/trl_len)\n",
    "    a_dic[('sa',tsk)].append(sa/trl_len)\n",
    "    "
   ]
  },
  {
   "cell_type": "code",
   "execution_count": null,
   "metadata": {
    "scrolled": false
   },
   "outputs": [],
   "source": [
    "#SIGNED AREA: \n",
    "\n",
    "color=0.5*np.ones(3)\n",
    "\n",
    "#cw vs ccw\n",
    "a_co = np.array(a_dic['sa','co'])\n",
    "a_obs = np.array(a_dic['sa','obs'])\n",
    "plt.figure()\n",
    "plt.bar(0,np.mean(a_co), color='k')\n",
    "plt.bar(1,np.mean(a_obs), color='r')\n",
    "plt.scatter(np.zeros(len(a_co)), a_co, color=color, zorder=10000)\n",
    "plt.scatter(np.ones(len(a_obs)), a_obs, color=color, zorder=10000)\n",
    "plt.title('Co vs Obs Signed Area (normalized for trial length)')\n",
    "plt.ylabel('CW is negative, CCW is positive')\n",
    "plt.xticks((0,1), ('co', 'obs'))\n",
    "\n",
    "#UNSIGNED AREA: \n",
    "a_co = np.array(a_dic['a','co'])\n",
    "a_obs = np.array(a_dic['a','obs'])\n",
    "plt.figure()\n",
    "plt.bar(0,np.mean(a_co), color='k')\n",
    "plt.bar(1,np.mean(a_obs), color='r')\n",
    "plt.scatter(np.zeros(len(a_co)), a_co, color=color, zorder=10000)\n",
    "plt.scatter(np.ones(len(a_obs)), a_obs, color=color, zorder=10000)\n",
    "plt.title('Co vs Obs straightness (normalized for trial length)')\n",
    "plt.ylabel('Straightness (norm area around target axis)')\n",
    "plt.xticks((0,1), ('co', 'obs'))"
   ]
  },
  {
   "cell_type": "code",
   "execution_count": null,
   "metadata": {
    "scrolled": true
   },
   "outputs": [],
   "source": [
    "# 1) Convert stuff to polar, 2) center angles at target angle, 3) calculate distance to target\n",
    "# 1) Convert stuff to polar\n",
    "df['p_mag'], df['p_angle'] = bmi_b.cartesian2polar(df['kin_py'], df['kin_px'])\n",
    "df['v_mag'], df['v_angle'] = bmi_b.cartesian2polar(df['kin_vy'], df['kin_vx'])\n",
    "df['u_p_mag'], df['u_p_angle'] = bmi_b.cartesian2polar(df['u_py'], df['u_px'])\n",
    "df['u_v_mag'], df['u_v_angle'] = bmi_b.cartesian2polar(df['u_vy'], df['u_vx'])\n",
    "# 2) Center @ target angle: \n",
    "d_list = ['p_angle', 'v_angle', 'u_p_angle', 'u_v_angle']\n",
    "for d in d_list:\n",
    "    data = df[d]\n",
    "    zeros = np.zeros(data.shape)\n",
    "    t_angle = target_angle[df['target'].astype(int)]\n",
    "    df[d+'_ctr'] = bmi_b.center_angle(df[d], zeros, t_angle)\n",
    "# 3) distance to target\n",
    "error = df.loc[:, 'kin_px':'kin_py']-target_pos[df['target'].astype(int),:]\n",
    "df['d2target'] = np.linalg.norm(error,ord=2,axis=1)\n",
    "df['x_error'] = error.loc[:,'kin_px']\n",
    "df['y_error'] = error.loc[:,'kin_py']\n"
   ]
  },
  {
   "cell_type": "code",
   "execution_count": null,
   "metadata": {
    "scrolled": true
   },
   "outputs": [],
   "source": [
    "df.loc[0:55, ['target','bin', 'trial_start', 'trial_stop', 'd2target']]"
   ]
  },
  {
   "cell_type": "code",
   "execution_count": null,
   "metadata": {},
   "outputs": [],
   "source": [
    "#Sanity: \n",
    "#Check number of trials for cw ccw obstacle: \n",
    "obs_cond_list = [('obs', 0), ('obs', 1)]\n",
    "obs_num_trials = {('obs', 0):np.zeros(num_targets), ('obs', 1):np.zeros(num_targets)}\n",
    "for cond in obs_cond_list:\n",
    "    task = task2idx[cond[0]]\n",
    "    cw = cond[1]\n",
    "    \n",
    "    for target in range(num_targets):\n",
    "        #------------------------------------------------------------------------------------\n",
    "        #TRIALS:     \n",
    "        trial_start = np.where((df['trial_start']==1) & (df['target']==target) & (df['task']==task) & (df['cw']==cw))[0]\n",
    "        trial_stop = np.where((df['trial_stop']==1) & (df['target']==target) & (df['task']==task) & (df['cw']==cw))[0]\n",
    "        trial_bound = np.vstack((trial_start,trial_stop)).T\n",
    "        num_trials = trial_bound.shape[0]\n",
    "        #------------------------------------------------------------------------------------        \n",
    "        obs_num_trials[cond][target] = num_trials\n",
    "        \n"
   ]
  },
  {
   "cell_type": "code",
   "execution_count": null,
   "metadata": {},
   "outputs": [],
   "source": [
    "print(obs_num_trials[('obs',0)])\n",
    "print(obs_num_trials[('obs',1)])"
   ]
  },
  {
   "cell_type": "code",
   "execution_count": null,
   "metadata": {},
   "outputs": [],
   "source": [
    "#INTERPOLATED PSTH\n",
    "task_cond_list = [('co','all'), ('obs',0), ('obs', 1)]\n",
    "#(1.7 - 0.4 = 1.3 for CO, and 2.0 - 0.5 = 1.5 for OBS).\n",
    "target_r_eff = {0:1.3, 1:1.5}\n",
    "\n",
    "num_var = df.shape[1]\n",
    "num_interp_pts = 100\n",
    "time_win = np.array([0, num_interp_pts])\n",
    "num_time = np.diff(time_win)[0]\n",
    "da_dic = {}\n",
    "\n",
    "for task_cond in task_cond_list:\n",
    "    task = task2idx[task_cond[0]]\n",
    "    cw = task_cond[1]\n",
    "    for target in range(num_targets):\n",
    "        #------------------------------------------------------------------------------------\n",
    "        #TRIALS: \n",
    "        if cw == 'all':\n",
    "            trial_start = np.where((df['trial_start']==1) & (df['target']==target) & (df['task']==task))[0]\n",
    "            trial_stop = np.where((df['trial_stop']==1) & (df['target']==target) & (df['task']==task))[0]\n",
    "            trial_bound = np.vstack((trial_start,trial_stop)).T\n",
    "            num_trials = trial_bound.shape[0]\n",
    "        else:\n",
    "            trial_start = np.where((df['trial_start']==1) & (df['target']==target) & (df['task']==task) & (df['cw']==cw))[0]\n",
    "            trial_stop = np.where((df['trial_stop']==1) & (df['target']==target) & (df['task']==task) & (df['cw']==cw))[0]\n",
    "            trial_bound = np.vstack((trial_start,trial_stop)).T\n",
    "            num_trials = trial_bound.shape[0]\n",
    "        #------------------------------------------------------------------------------------        \n",
    "        #Initialize a nan-filled xarray\n",
    "        nan_mat = np.ones((num_var, num_time, num_trials))*np.nan\n",
    "        da = xr.DataArray(nan_mat,\n",
    "                    coords={'var':list(df.columns),\n",
    "                                     'time':range(num_time),\n",
    "                                     'trial':range(num_trials)},\n",
    "                    dims=['var','time','trial'])\n",
    "        for trial, bnd in enumerate(trial_bound): #trial_bound[0:1,:]:\n",
    "            d2target = df.loc[bnd[0]:bnd[1],'d2target']\n",
    "            end = bnd[0]+np.where(d2target <= target_r_eff[task])[0][0]\n",
    "            trial_len = end-bnd[0]+1\n",
    "            #Linearly interpolate the trial: \n",
    "            d_trial = np.array(df.loc[bnd[0]:end,:])\n",
    "            x = np.arange(0,trial_len)\n",
    "            f = scipy.interpolate.interp1d(x,d_trial,axis=0)\n",
    "            x_interp = np.linspace(x[0],x[-1],num_interp_pts)\n",
    "            d_interp = f(x_interp).T\n",
    "            da[:,:,trial] = d_interp\n",
    "        da_dic[(task_cond,target)] = da"
   ]
  },
  {
   "cell_type": "code",
   "execution_count": null,
   "metadata": {},
   "outputs": [],
   "source": [
    "#Number of trials in the xarray\n",
    "da_dic[('obs',0), 5].coords['trial'].shape[0]"
   ]
  },
  {
   "cell_type": "code",
   "execution_count": null,
   "metadata": {},
   "outputs": [],
   "source": [
    "#CALCULATE PSTH:\n",
    "psth_dic = {}\n",
    "for task_cond in task_cond_list:\n",
    "    for target in range(num_targets):\n",
    "        mean = da_dic[task_cond,target].mean(axis=2,skipna=True)\n",
    "        N = da_dic[task_cond,target].coords['trial'].shape[0]\n",
    "        #np.logical_not(np.isnan(da_dic[task_cond,target])).sum(axis=2) #number of data points per sample\n",
    "        var = da_dic[task_cond,target].var(axis=2,skipna=True)\n",
    "        sem = (var/N)**(0.5)\n",
    "        \n",
    "        psth_dic[task_cond,target,'mean'] = mean\n",
    "        psth_dic[task_cond,target,'N'] = N\n",
    "        psth_dic[task_cond,target,'var'] = var\n",
    "        psth_dic[task_cond,target,'sem'] = sem"
   ]
  },
  {
   "cell_type": "code",
   "execution_count": null,
   "metadata": {},
   "outputs": [],
   "source": [
    "psth_dic[('obs',0),5,'N']"
   ]
  },
  {
   "cell_type": "code",
   "execution_count": null,
   "metadata": {
    "scrolled": false
   },
   "outputs": [],
   "source": [
    "#PLOT PSTH\n",
    "plt_prefix = 'psth_p_traj'\n",
    "plt_ext = ['.png', '.eps']\n",
    "\n",
    "plt_len = 100\n",
    "\n",
    "save_bool = False\n",
    "\n",
    "plt.figure(figsize=plot['size'])\n",
    "for task_cond in task_cond_list:\n",
    "    task_str = task_cond[0]\n",
    "    task = task2idx[task_str]\n",
    "    cw = task_cond[1]\n",
    "    \n",
    "    for target in range(num_targets):\n",
    "        data = psth_dic[task_cond,target,'mean']\n",
    "        count = psth_dic[task_cond,target,'N']\n",
    "        \n",
    "        if (count > 0):# and (task_str == 'obs') and (not cw):\n",
    "            x = data.loc['kin_px'][:plt_len] #num_time X num_trials\n",
    "            y = data.loc['kin_py'][:plt_len]\n",
    "            color = target_color[target]\n",
    "            plt.plot(x, y, '-', color=color, alpha=1-task*0.5, label=task_str + str(target))\n",
    "            \n",
    "    if plot_obs_small:\n",
    "        bmi_util.plot_obstacles(obs_pos, target_color, obs_small*np.ones(num_targets))\n",
    "    if plot_obs_big:\n",
    "        bmi_util.plot_obstacles(obs_pos, target_color, obs_big*np.ones(num_targets))\n",
    "    if plot_target: \n",
    "        bmi_util.plot_targets(target_pos, target_color, target_r_task[task]*np.ones(num_targets))  \n",
    "    \n",
    "    plt.axis('square')\n",
    "    plt.legend()\n",
    "#     plt.title(task_str)\n",
    "    plt.xlim(plot['xlim'])\n",
    "    plt.ylim(plot['ylim'])\n",
    "    plt.show()\n",
    "    \n",
    "    #---------------------------------------------------------------------------------------------\n",
    "    if save_bool:\n",
    "        plt_name = plt_prefix + '_' + idx2task[task]\n",
    "        for ext in plt_ext:\n",
    "            plt.savefig(os.path.join(save_dir, plt_name+ext))    "
   ]
  },
  {
   "cell_type": "code",
   "execution_count": null,
   "metadata": {
    "scrolled": true
   },
   "outputs": [],
   "source": [
    "#Per task, all conditions together: \n",
    "run_bool = False\n",
    "\n",
    "if run_bool:\n",
    "    plot_data = ['kin_px', 'kin_py']\n",
    "    for d in plot_data:\n",
    "        for task_cond in task_cond_list: #[('obs', 'cw')]:\n",
    "            task = task_cond[0]\n",
    "            plt.figure(figsize=(10,10))\n",
    "            for target in range(num_targets):\n",
    "                t = psth_dic[task_cond,target,'mean']['time']\n",
    "                x = psth_dic[task_cond,target,'mean'].loc[d]\n",
    "                x_sem = psth_dic[task_cond,target,'sem'].loc[d]\n",
    "\n",
    "                #Plot: \n",
    "                plt.plot(t,x,'.-', color=target_color[target])\n",
    "                plt.fill_between(t, x-x_sem,x+x_sem,alpha=0.5,color=target_color[target])\n",
    "            plt.legend()\n",
    "            plt.title(d + ' task, cond: ' + str(task_cond))\n",
    "            plt.xlabel('time (s)')\n",
    "    #         plt.xlim([0, 8])\n",
    "            plt.ylim([-12,12])"
   ]
  },
  {
   "cell_type": "code",
   "execution_count": null,
   "metadata": {},
   "outputs": [],
   "source": [
    "task_cond_list"
   ]
  },
  {
   "cell_type": "code",
   "execution_count": null,
   "metadata": {
    "scrolled": true
   },
   "outputs": [],
   "source": [
    "#ALL TARGETS TOGETHER, task separate\n",
    "ctrl_list = ['p_mag', 'p_angle_ctr', 'v_mag', 'v_angle_ctr', 'u_v_mag', 'u_v_angle_ctr'] #'u_p_mag', 'u_p_angle',\n",
    "task = 0\n",
    "# target = 0\n",
    "plt_len=100\n",
    "\n",
    "save_bool = False\n",
    "plt_prefix = 'psth'\n",
    "plt_ext = ['.png', '.eps']\n",
    "\n",
    "for task_cond in task_cond_list:\n",
    "    task = task_cond[0]\n",
    "    for d in ctrl_list: \n",
    "        plt.figure()\n",
    "        for target in range(num_targets):\n",
    "\n",
    "            t = psth_dic[task_cond,target,'mean']['time']\n",
    "            y_mean = psth_dic[task_cond,target,'mean'].loc[d]\n",
    "            y_sem = psth_dic[task_cond,target,'sem'].loc[d]            \n",
    "            \n",
    "            if 'angle_ctr' in d:\n",
    "#                 y = y*180/np.pi\n",
    "                y_mean = y_mean*180/np.pi\n",
    "                y_sem = y_sem*180/np.pi \n",
    "                plt.hlines(0,0,plt_len,color=target_color[target])\n",
    "                plt.hlines(-theta_max*180/np.pi,0,plt_len,color=target_color[target])\n",
    "                plt.hlines(theta_max*180/np.pi,0,plt_len,color=target_color[target])\n",
    "            elif 'angle_' in d:\n",
    "#                 y = y*180/np.pi\n",
    "                y_mean = y_mean*180/np.pi\n",
    "                y_sem = y_sem*180/np.pi \n",
    "                plt.hlines(target_angle[target]*180/np.pi,0,plt_len,color=target_color[target])\n",
    "            elif d == 'p_mag':\n",
    "                plt.hlines(target_dist[target],0,plt_len,color=target_color[target])\n",
    "                plt.hlines(target_dist[target]-target_r_eff[0],0,plt_len, linestyles='--', color=target_color[target])\n",
    "                \n",
    "            plt.plot(y_mean, color=target_color[target])\n",
    "            plt.fill_between(range(len(y_mean)), y_mean-y_sem,y_mean+y_sem,alpha=0.5,color=target_color[target])\n",
    "        plt.title((d, 'task, cond', task_cond))\n",
    "        \n",
    "        if save_bool: \n",
    "            plt_name = plt_prefix + '_' + task + '_' + d\n",
    "            for ext in plt_ext:\n",
    "                plt.savefig(os.path.join(save_dir, plt_name+ext))\n",
    "        "
   ]
  },
  {
   "cell_type": "markdown",
   "metadata": {},
   "source": [
    "### Average over targets and compare task: "
   ]
  },
  {
   "cell_type": "code",
   "execution_count": null,
   "metadata": {},
   "outputs": [],
   "source": [
    "psth_dic[('obs',0),5,'N']"
   ]
  },
  {
   "cell_type": "code",
   "execution_count": null,
   "metadata": {},
   "outputs": [],
   "source": [
    "#Aggregate psth data \n",
    "\n",
    "#Initialize data: \n",
    "ctrl_psth = {}\n",
    "d_list = ['p_mag', 'p_angle_ctr', 'v_mag', 'v_angle_ctr', 'u_v_mag', 'u_v_angle_ctr']\n",
    "for task in range(num_tasks):\n",
    "    for d in d_list:\n",
    "        ctrl_psth[task,d,'mat'] = []\n",
    "        ctrl_psth[task,d,'target'] = [] #save the target of each saved psth\n",
    "        ctrl_psth[task,d,'cw'] = [] #save the cw of each saved psth\n",
    "        ctrl_psth[task,d,'N'] = [] #save the cw of each saved psth\n",
    "\n",
    "#Aggregate:  \n",
    "#For obstacle task, orient the angles to be positive:\n",
    "#\n",
    "\n",
    "min_N = 0\n",
    "for d in d_list: \n",
    "    for task_cond in task_cond_list:\n",
    "        task_str = task_cond[0]\n",
    "        task = task2idx[task_str]\n",
    "        cw = task_cond[1]\n",
    "        \n",
    "        for target in range(num_targets):\n",
    "            N = psth_dic[task_cond,target,'N']\n",
    "            if N > min_N:\n",
    "                mean = psth_dic[task_cond,target,'mean'].loc[d]\n",
    "                mean = np.array(mean)\n",
    "                if (task_str == 'obs') & ('angle' in d) & (not cw):\n",
    "                    mean = -mean\n",
    "                ctrl_psth[task,d,'mat'].append(mean)\n",
    "                ctrl_psth[task,d,'target'].append(target)\n",
    "                ctrl_psth[task,d,'cw'].append(cw)\n",
    "                ctrl_psth[task,d,'N'].append(N)\n",
    "\n",
    "#Convert to np array: \n",
    "for task in range(num_tasks):\n",
    "    for d in d_list: \n",
    "        ctrl_psth[task,d,'target'] = np.array(ctrl_psth[task,d,'target'])\n",
    "        \n",
    "        d_mat = np.array(ctrl_psth[task,d,'mat'])\n",
    "        ctrl_psth[task,d,'mat'] = d_mat\n",
    "        ctrl_psth[task,d,'mean'] = d_mat.mean(axis=0)\n",
    "        ctrl_psth[task,d,'var'] = d_mat.var(axis=0)\n",
    "        ctrl_psth[task,d,'sem'] = sio_stat.sem(d_mat, axis=0, nan_policy='omit')"
   ]
  },
  {
   "cell_type": "code",
   "execution_count": null,
   "metadata": {},
   "outputs": [],
   "source": [
    "for task in range(num_tasks):\n",
    "    print(ctrl_psth[task,'u_v_angle_ctr','target'])\n",
    "    print(ctrl_psth[task,'u_v_angle_ctr','cw'])\n",
    "    print(ctrl_psth[task,'u_v_angle_ctr','N'])"
   ]
  },
  {
   "cell_type": "code",
   "execution_count": null,
   "metadata": {
    "scrolled": true
   },
   "outputs": [],
   "source": [
    "d_list = ['u_v_angle_ctr'] #'u_v_mag'\n",
    "for task in range(num_tasks):\n",
    "    plt.figure()\n",
    "    for d in d_list:\n",
    "        y_mat = ctrl_psth[task,d,'mat']\n",
    "        for i,target in enumerate(ctrl_psth[task,d,'target']):\n",
    "            plt.plot(y_mat[i,:], color=target_color[target])\n",
    "    plt.title(task)"
   ]
  },
  {
   "cell_type": "code",
   "execution_count": null,
   "metadata": {
    "scrolled": false
   },
   "outputs": [],
   "source": [
    "save_bool = True\n",
    "plt_prefix = 'task_psth'\n",
    "plt_ext = ['.png', '.eps']\n",
    "\n",
    "d_list = ['p_mag', 'p_angle_ctr', 'v_mag', 'v_angle_ctr', 'u_v_mag', 'u_v_angle_ctr']\n",
    "plot_len = 100\n",
    "for d in d_list:\n",
    "    plt.figure()\n",
    "    for task in range(num_tasks):\n",
    "        y_mean = ctrl_psth[task,d,'mean'][:plot_len]\n",
    "        y_sem = ctrl_psth[task,d,'sem'][:plot_len]\n",
    "        if 'angle' in d:\n",
    "            y = y*180/np.pi\n",
    "            y_mean = y_mean*180/np.pi\n",
    "            y_sem = y_sem*180/np.pi \n",
    "            plt.hlines(0,0,plot_len,color='k')\n",
    "            plt.hlines(theta_max*180/np.pi,0,plot_len,color='k',linestyles='dashed')\n",
    "            plt.hlines(-theta_max*180/np.pi,0,plot_len,color='k',linestyles='dashed')\n",
    "            \n",
    "            plt.hlines(obs_theta*180/np.pi,0,plot_len,color='r',linestyles='dashed')\n",
    "            plt.hlines(-obs_theta*180/np.pi,0,plot_len,color='r',linestyles='dashed')            \n",
    "            \n",
    "            plt.legend()\n",
    "        plt.plot(y_mean, color=task_color[task],label=idx2task[task])\n",
    "        plt.fill_between(range(len(y_mean)), y_mean-y_sem,y_mean+y_sem,alpha=0.5,color=task_color[task])\n",
    "    plt.xlabel('time (interpolated)')\n",
    "    plt.title(d)\n",
    "    plt.legend(loc = 'lower right')\n",
    "    if 'angle' in d:\n",
    "        plt.ylim(-50,50)\n",
    "#         plt.axis('square')\n",
    "    \n",
    "        \n",
    "    if save_bool: \n",
    "        plt_name = plt_prefix + '_' + d\n",
    "        for ext in plt_ext:\n",
    "            plt.savefig(os.path.join(save_dir, plt_name+ext))"
   ]
  },
  {
   "cell_type": "markdown",
   "metadata": {},
   "source": [
    "### Position PSTH: Average over targets and compare task: "
   ]
  },
  {
   "cell_type": "code",
   "execution_count": null,
   "metadata": {},
   "outputs": [],
   "source": [
    "target_pos"
   ]
  },
  {
   "cell_type": "code",
   "execution_count": null,
   "metadata": {},
   "outputs": [],
   "source": [
    "#Rotate each psth by target angle: \n",
    "#Negate based on cw \n",
    "\n",
    "for target in range(num_targets): \n",
    "    t_pos = target_pos[target,:]\n",
    "    t_theta = np.arctan2(t_pos[1],t_pos[0])\n",
    "    t_rot_mat = bmi_b.rot2D_mat(-t_theta)\n",
    "    \n",
    "    \n"
   ]
  },
  {
   "cell_type": "code",
   "execution_count": null,
   "metadata": {},
   "outputs": [],
   "source": [
    "x.shape"
   ]
  },
  {
   "cell_type": "code",
   "execution_count": null,
   "metadata": {},
   "outputs": [],
   "source": [
    "obs_pos"
   ]
  },
  {
   "cell_type": "code",
   "execution_count": null,
   "metadata": {},
   "outputs": [],
   "source": [
    "#AGGREGATE position psth, with rotation and reflection: \n",
    "\n",
    "#initialize: \n",
    "pos_psth = {(0, 'target'):[], (0, 'kin_px'):[], (0, 'kin_py'):[], (1, 'target'):[], (1, 'kin_px'):[], (1, 'kin_py'):[]}\n",
    "for task_cond in task_cond_list:\n",
    "    task_str = task_cond[0]\n",
    "    task = task2idx[task_str]\n",
    "    cw = task_cond[1]\n",
    "    \n",
    "    for target in range(num_targets):\n",
    "        #ROTATE:\n",
    "        #------------------------------------------------\n",
    "        t_pos = target_pos[target,:]\n",
    "        t_theta = np.arctan2(t_pos[1],t_pos[0])\n",
    "        t_rot_mat = bmi_b.rot2D_mat(-t_theta)\n",
    "        #------------------------------------------------\n",
    "        data = psth_dic[task_cond,target,'mean']\n",
    "        count = psth_dic[task_cond,target,'N']\n",
    "        \n",
    "        if (count > 0):# and (task_str == 'obs') and (not cw):\n",
    "            x = data.loc['kin_px'][:plt_len] #num_time X num_trials\n",
    "            y = data.loc['kin_py'][:plt_len]\n",
    "            kin =np.vstack((x,y))\n",
    "            kin_r = np.dot(t_rot_mat, kin)\n",
    "            #Reflect if not cw:\n",
    "            if (task_str == 'obs') and (not cw):\n",
    "                kin_r[1,:] = -kin_r[1,:]    \n",
    "            #ASSIGN: \n",
    "            pos_psth[task, 'kin_px'].append(kin_r[0,:])\n",
    "            pos_psth[task, 'kin_py'].append(kin_r[1,:])\n",
    "            pos_psth[task, 'target'].append(target)\n",
    "            \n",
    "for task in range(num_tasks):\n",
    "    pos_psth[task, 'kin_px'] = np.array(pos_psth[task, 'kin_px'])\n",
    "    pos_psth[task, 'kin_py'] = np.array(pos_psth[task, 'kin_py'])\n",
    "    pos_psth[task, 'target'] = np.array(pos_psth[task, 'target'])\n",
    "\n",
    "    pos_psth[task, 'kin_px', 'mean'] =  pos_psth[task, 'kin_px'].mean(axis=0)\n",
    "    pos_psth[task, 'kin_py', 'mean'] =  pos_psth[task, 'kin_py'].mean(axis=0)\n"
   ]
  },
  {
   "cell_type": "code",
   "execution_count": null,
   "metadata": {},
   "outputs": [],
   "source": [
    "obs_x = obs_big/2.0\n",
    "obs_y = 5-obs_big/2.0"
   ]
  },
  {
   "cell_type": "code",
   "execution_count": null,
   "metadata": {},
   "outputs": [],
   "source": [
    "#PLOT PSTH ROTATED AND NEGATED\n",
    "\n",
    "plt_prefix = 'psth_p_traj_rotate_reflect'\n",
    "plt_ext = ['.png', '.eps']\n",
    "\n",
    "plt_len = 100\n",
    "\n",
    "save_bool = True\n",
    "\n",
    "rot_t_idx = 3\n",
    "\n",
    "plt.figure(figsize=plot['size'])\n",
    "for task in range(num_tasks):\n",
    "    for i,target in enumerate(pos_psth[task, 'target']):\n",
    "        x = pos_psth[task, 'kin_px'][i,:]\n",
    "        y = pos_psth[task, 'kin_py'][i,:]\n",
    "#             color = target_color[target]\n",
    "        color = task_color[task]\n",
    "        plt.plot(x, y, '-', color=color, alpha=0.15, label=task_str + str(target))\n",
    "        \n",
    "#     if plot_obs_small:\n",
    "#         bmi_util.plot_obstacles(obs_pos, target_color, obs_small*np.ones(num_targets))\n",
    "    if plot_obs_big:\n",
    "        bmi_util.plot_obstacles(obs_pos[rot_t_idx,:].reshape((1,-1)), 'r', obs_big*np.ones(1))\n",
    "#         bmi_util.plot_obstacles(obs_pos[rot_t_idx,:].reshape((1,-1)), 'b', obs_big*np.ones(num_targets))\n",
    "    if plot_target: \n",
    "        bmi_util.plot_targets(target_pos[rot_t_idx,:].reshape((1,-1)), task_color[task], target_r_task[task]*np.ones(num_targets))  \n",
    "    \n",
    "    \n",
    "    #PLOT MEAN:\n",
    "    #---------------------------------------------------------------------------------\n",
    "    x = pos_psth[task, 'kin_px','mean']\n",
    "    y = pos_psth[task, 'kin_py', 'mean']\n",
    "    color = task_color[task]\n",
    "    plt.plot(x, y, '-', linewidth=5, color=color, label=task_str + str(target))    \n",
    "    #---------------------------------------------------------------------------------\n",
    "\n",
    "#PLOT LINES: \n",
    "#target line\n",
    "#target top line\n",
    "#obstacle top line\n",
    "\n",
    "#target line: \n",
    "target_line_x = [0, target_pos[rot_t_idx,0]]\n",
    "target_line_y = [0, target_pos[rot_t_idx,1]]\n",
    "plt.plot(target_line_x, target_line_y, '--', linewidth=1, color='k')\n",
    "\n",
    "#target top line: \n",
    "target_top_line_x = np.copy(target_line_x)\n",
    "target_top_line_y = [0, target_r_task[0]]\n",
    "plt.plot(target_top_line_x, target_top_line_y, '--', linewidth=1, color='k')\n",
    "\n",
    "#obstacle top line: \n",
    "obs_top_line_x = [0, 5-obs_big/2.0]\n",
    "obs_top_line_y = [0, obs_big/2.0]\n",
    "plt.plot(obs_top_line_x, obs_top_line_y, '--', linewidth=1, color='r')\n",
    "    \n",
    "plt.axis('square')\n",
    "#     plt.legend()\n",
    "#     plt.title(task_str)\n",
    "plt.xlim(np.array([-1.0, 13.0]))\n",
    "plt.ylim(np.array([-5,5]))\n",
    "#     plt.xlim(plot['xlim'])\n",
    "#     plt.ylim(plot['ylim'])\n",
    "\n",
    "target_theta_deg = np.around(theta_max*180/np.pi, 2)\n",
    "obs_theta_deg = np.around(obs_theta*180/np.pi, 2)\n",
    "plt.title('obs angle: ' + str(obs_theta_deg) + ' target angle: ' + str(target_theta_deg))\n",
    "plt.show()\n",
    "#---------------------------------------------------------------------------------------------\n",
    "if save_bool:\n",
    "    plt_name = plt_prefix\n",
    "    for ext in plt_ext:\n",
    "        plt.savefig(os.path.join(save_dir, plt_name+ext))       "
   ]
  },
  {
   "cell_type": "code",
   "execution_count": null,
   "metadata": {
    "scrolled": false
   },
   "outputs": [],
   "source": [
    "#PLOT PSTH\n",
    "plt_prefix = 'psth_p_traj'\n",
    "plt_ext = ['.png', '.eps']\n",
    "\n",
    "plt_len = 100\n",
    "\n",
    "save_bool = False\n",
    "\n",
    "plt.figure(figsize=plot['size'])\n",
    "for task_cond in task_cond_list:\n",
    "    task_str = task_cond[0]\n",
    "    task = task2idx[task_str]\n",
    "    cw = task_cond[1]\n",
    "    \n",
    "    for target in range(num_targets):\n",
    "        data = psth_dic[task_cond,target,'mean']\n",
    "        count = psth_dic[task_cond,target,'N']\n",
    "        \n",
    "        if (count > 0):# and (task_str == 'obs') and (not cw):\n",
    "            x = data.loc['kin_px'][:plt_len] #num_time X num_trials\n",
    "            y = data.loc['kin_py'][:plt_len]\n",
    "            color = target_color[target]\n",
    "            plt.plot(x, y, '-', color=color, alpha=1-task*0.5, label=task_str + str(target))\n",
    "            \n",
    "    if plot_obs_small:\n",
    "        bmi_util.plot_obstacles(obs_pos, target_color, obs_small*np.ones(num_targets))\n",
    "    if plot_obs_big:\n",
    "        bmi_util.plot_obstacles(obs_pos, target_color, obs_big*np.ones(num_targets))\n",
    "    if plot_target: \n",
    "        bmi_util.plot_targets(target_pos, target_color, target_r_task[task]*np.ones(num_targets))  \n",
    "    \n",
    "    plt.axis('square')\n",
    "    plt.legend()\n",
    "#     plt.title(task_str)\n",
    "    plt.xlim(plot['xlim'])\n",
    "    plt.ylim(plot['ylim'])\n",
    "    plt.show()\n",
    "    \n",
    "    #---------------------------------------------------------------------------------------------\n",
    "    if save_bool:\n",
    "        plt_name = plt_prefix + '_' + idx2task[task]\n",
    "        for ext in plt_ext:\n",
    "            plt.savefig(os.path.join(save_dir, plt_name+ext))    "
   ]
  },
  {
   "cell_type": "markdown",
   "metadata": {},
   "source": [
    "### Code used to figure out if trajectory is cw or ccw:"
   ]
  },
  {
   "cell_type": "code",
   "execution_count": null,
   "metadata": {},
   "outputs": [],
   "source": [
    "#Plot a specific trajectory: \n",
    "#PLOT INDIVIDUAL TRIALS: \n",
    "\n",
    "target_list = [0]\n",
    "trial_list = [0]#[25]\n",
    "#25\n",
    "\n",
    "plt.figure()\n",
    "for task_str in ['obs']:#task_list:\n",
    "    task = task2idx[task_str]\n",
    "    for target in target_list: #range(num_targets):\n",
    "        #------------------------------------------------------------------------------------\n",
    "        #TRIALS: \n",
    "        trial_start = np.where((df['trial_start']==1) & (df['target']==target) & (df['task']==task))[0]\n",
    "        trial_stop = np.where((df['trial_stop']==1) & (df['target']==target) & (df['task']==task))[0]\n",
    "        trial_bound = np.vstack((trial_start,trial_stop)).T\n",
    "        num_trials = trial_bound.shape[0]\n",
    "        #------------------------------------------------------------------------------------\n",
    "        plot_trial_bound = trial_bound[trial_list,:]\n",
    "        for bnd in plot_trial_bound: #trial_bound[0:1,:]:\n",
    "            print(bnd)\n",
    "            x = df['kin_px'][bnd[0]:bnd[1]+1]\n",
    "            y = df['kin_py'][bnd[0]:bnd[1]+1]\n",
    "#             print(x)\n",
    "            color = target_color[target]\n",
    "            plt.plot(x,y,'.-',color=color)\n",
    "\n",
    "    if plot_obs_small:\n",
    "        bmi_util.plot_obstacles(obs_pos, target_color, obs_small*np.ones(num_targets))\n",
    "    if plot_obs_big:\n",
    "        bmi_util.plot_obstacles(obs_pos, target_color, obs_big*np.ones(num_targets))\n",
    "    if plot_target: \n",
    "        bmi_util.plot_targets(target_pos, target_color, target_r_eff[task]*np.ones(num_targets))  \n",
    "    \n",
    "    plt.axis('square')\n",
    "    plt.title(task_str)\n",
    "#     plt.xlim(plot['xlim'])\n",
    "#     plt.ylim(plot['ylim'])\n",
    "    plt.show()        \n",
    "        \n",
    "        \n"
   ]
  },
  {
   "cell_type": "code",
   "execution_count": null,
   "metadata": {},
   "outputs": [],
   "source": [
    "df.iloc[2947]"
   ]
  },
  {
   "cell_type": "code",
   "execution_count": null,
   "metadata": {
    "scrolled": false
   },
   "outputs": [],
   "source": [
    "#For each trial, calculate signed \"area\" between trajectory and the line connecting center and target.  \n",
    "# (could even have a timeseries of this area.  )\n",
    "target = 0 #4 \n",
    "trial_list = [0] #[0, 25]\n",
    "#interesting case: 23\n",
    "for trial in trial_list:\n",
    "    bnd = trial_bound[trial,:]\n",
    "    x = df.loc[bnd[0]:bnd[1], 'kin_px']\n",
    "    y = df.loc[bnd[0]:bnd[1], 'kin_py']\n",
    "\n",
    "    kin = df.loc[bnd[0]:bnd[1], 'kin_px':'kin_py']\n",
    "    d = np.linalg.norm(kin, axis=1, ord=2)\n",
    "    kin_mean = kin.loc[d>2, :].mean()\n",
    "    \n",
    "    \n",
    "    plt_x = np.array([0, kin_mean['kin_px']])\n",
    "    plt_y = np.array([0, kin_mean['kin_py']])\n",
    "\n",
    "    t_x = np.array([0, target_pos[target,0]])\n",
    "    t_y = np.array([0, target_pos[target,1]])\n",
    "    \n",
    "    plt.figure()                  \n",
    "    plt.plot(x,y,label='traj')\n",
    "    plt.plot(plt_x, plt_y, label='mean pos')\n",
    "    plt.plot(t_x, t_y, label='target')\n",
    "    plt.axis('square')\n",
    "    plt.legend()\n",
    "    \n",
    "#Calculate signed area: \n",
    "t = target_pos[target,:]\n",
    "a, df_a = bmi_b.traj_signed_area_about_target_axis(x,y,t)\n",
    "print('signed area: ', a)    \n",
    "\n",
    "plt.figure()\n",
    "plt.plot(df_a['kin_pt'], label='target axis')\n",
    "plt.plot(df_a['kin_pto'], label='target orthog')\n",
    "plt.plot(df_a['kin_pto_cum_area'], label='kin_pt_cum_area')\n",
    "plt.legend()\n",
    "\n",
    "plt.figure()\n",
    "plt.plot(df_a['kin_pto_area'], label='kin_pt_area')\n",
    "plt.legend()"
   ]
  },
  {
   "cell_type": "code",
   "execution_count": null,
   "metadata": {},
   "outputs": [],
   "source": [
    "plt.figure()\n",
    "plt.plot(df_a['kin_pt'], label='target axis')\n",
    "plt.plot(df_a['kin_pto'], label='target orthog')\n",
    "# plt.plot(df_a['kin_pt_cum_area'], label='kin_pt_cum_area')\n",
    "plt.legend()\n",
    "\n",
    "plt.figure()\n",
    "plt.plot(df_a['kin_pt_area'], label='kin_pt_area')"
   ]
  },
  {
   "cell_type": "code",
   "execution_count": null,
   "metadata": {},
   "outputs": [],
   "source": [
    "# #TEST target axes\n",
    "# target = 4\n",
    "# t = target_pos[target,:]\n",
    "# t_ax, to_ax = bmi_b.target_axes(t)\n",
    "\n",
    "# t_x = np.array([0, t[0]])\n",
    "# t_y = np.array([0, t[1]])\n",
    "\n",
    "# t_ax_x = np.array([0, t_ax[0]])\n",
    "# t_ax_y = np.array([0, t_ax[1]])\n",
    "\n",
    "# to_ax_x = np.array([0, to_ax[0]])\n",
    "# to_ax_y = np.array([0, to_ax[1]])\n",
    "\n",
    "# plt.figure()\n",
    "# plt.plot(t_x, t_y, label='target')\n",
    "# plt.plot(t_ax_x, t_ax_y, label='target axis')\n",
    "# plt.plot(to_ax_x, to_ax_y, label='target orthog axis')\n",
    "# plt.axis('square')\n",
    "# plt.legend()"
   ]
  },
  {
   "cell_type": "code",
   "execution_count": null,
   "metadata": {},
   "outputs": [],
   "source": [
    "# #TEST target axis projection\n",
    "# #1) form projection matrix\n",
    "# #2) plot projections\n",
    "\n",
    "# proj_mat = np.array([t_ax, to_ax])\n",
    "# print(proj_mat)\n",
    "# test = np.dot(proj_mat, kin.T)\n",
    "\n",
    "# plt.figure()\n",
    "# plt.plot(test[0], label='target axis')\n",
    "# plt.plot(test[1], label='target orthog')\n",
    "# plt.legend()"
   ]
  },
  {
   "cell_type": "code",
   "execution_count": null,
   "metadata": {},
   "outputs": [],
   "source": [
    "#1) Fit regression model on all data\n",
    "#2) Use it to predict the next step\n",
    "#3) use that to calculate the estimated u\n",
    "#3) Re-do the u psth from above, to see if it looks at all good.  "
   ]
  },
  {
   "cell_type": "code",
   "execution_count": null,
   "metadata": {},
   "outputs": [],
   "source": [
    "df.head()"
   ]
  },
  {
   "cell_type": "code",
   "execution_count": null,
   "metadata": {},
   "outputs": [],
   "source": [
    "n_label = ['n_'+str(i) for i in range(num_neurons)]\n",
    "n = df.loc[:,n_label]\n"
   ]
  },
  {
   "cell_type": "code",
   "execution_count": null,
   "metadata": {},
   "outputs": [],
   "source": [
    "n.head()"
   ]
  },
  {
   "cell_type": "code",
   "execution_count": null,
   "metadata": {},
   "outputs": [],
   "source": [
    "from sklearn.linear_model import LinearRegression"
   ]
  },
  {
   "cell_type": "code",
   "execution_count": null,
   "metadata": {},
   "outputs": [],
   "source": [
    "n = df.loc[:, n_label]\n",
    "\n",
    "n_0 = df.loc[df['task']==0, n_label]\n",
    "# n_0.head()\n",
    "\n",
    "n_1 = df.loc[df['task']==1, n_label]\n",
    "# n_1.head()"
   ]
  },
  {
   "cell_type": "code",
   "execution_count": null,
   "metadata": {},
   "outputs": [],
   "source": [
    "#Predict one ahead: \n",
    "reg = LinearRegression().fit(n[:-1], n[1:])\n",
    "\n",
    "# #Predict same: \n",
    "# reg = LinearRegression().fit(n[:-1], n[:-1])"
   ]
  },
  {
   "cell_type": "code",
   "execution_count": null,
   "metadata": {},
   "outputs": [],
   "source": [
    "#Predict next step\n",
    "reg.score(n[:-1],n[1:])"
   ]
  },
  {
   "cell_type": "code",
   "execution_count": null,
   "metadata": {},
   "outputs": [],
   "source": [
    "#Predict current step\n",
    "reg.score(n[1:],n[1:])"
   ]
  },
  {
   "cell_type": "code",
   "execution_count": null,
   "metadata": {},
   "outputs": [],
   "source": [
    "#Predict past step\n",
    "reg.score(n[1:],n[:-1])"
   ]
  },
  {
   "cell_type": "code",
   "execution_count": null,
   "metadata": {},
   "outputs": [],
   "source": [
    "#Next, predict one step ahead.  \n",
    "n_pred = reg.predict(n[:-1])"
   ]
  },
  {
   "cell_type": "code",
   "execution_count": null,
   "metadata": {},
   "outputs": [],
   "source": [
    "n.head()"
   ]
  },
  {
   "cell_type": "code",
   "execution_count": null,
   "metadata": {},
   "outputs": [],
   "source": [
    "#Inspect neuron predictions:\n",
    "i_n = 5\n",
    "i_label = 'n_'+str(i_n)\n",
    "\n",
    "x_t = n.loc[0:n.index[-2], i_label]\n",
    "x_tp1 = n.loc[1:n.index[-1], i_label]\n",
    "y = n_pred[:, i_n]\n",
    "\n",
    "\n",
    "plt.figure()\n",
    "plt.scatter(x_tp1,y)\n",
    "plt.title('')\n",
    "\n",
    "r,p = sio_stat.pearsonr(x_t,y)\n",
    "print('R2:', r**2, 'p:', p)"
   ]
  },
  {
   "cell_type": "code",
   "execution_count": null,
   "metadata": {},
   "outputs": [],
   "source": [
    "#Next, produce predicted u_v:\n",
    "#0) get decoder\n",
    "ddec=bmi_util.decompose_decoder(decoder['F'], decoder['K'])\n",
    "n2u =ddec['K_d']['v'][ddec['var_idxs']['v'],:]\n",
    "# plt.figure()\n",
    "# plt.imshow(n2u)\n",
    "\n",
    "#1) verify it reproduces saved data\n",
    "u_hat = np.dot(n,n2u.T)\n",
    "# plt.figure()\n",
    "# plt.scatter(u_hat[:,0], df['u_vx'])\n",
    "# plt.figure()\n",
    "# plt.scatter(u_hat[:,1], df['u_vy'])\n",
    "\n",
    "#2) predict u:\n",
    "u_pred = np.dot(n_pred,n2u.T)"
   ]
  },
  {
   "cell_type": "code",
   "execution_count": null,
   "metadata": {},
   "outputs": [],
   "source": [
    "df.head()"
   ]
  },
  {
   "cell_type": "code",
   "execution_count": null,
   "metadata": {
    "scrolled": false
   },
   "outputs": [],
   "source": [
    "#Test prediction against \n",
    "x = u_pred[:,0]\n",
    "y = df.loc[df.index[0]:df.index[-2],'u_vx']\n",
    "plt.figure()\n",
    "plt.scatter(x, y)\n",
    "plt.title('pred current time action')\n",
    "r,p = sio_stat.pearsonr(x,y)\n",
    "print('R2:', r**2, 'p:', p)\n",
    "\n",
    "x = u_pred[:,0]\n",
    "y = df.loc[df.index[1]:df.index[-1],'u_vx']\n",
    "plt.figure()\n",
    "plt.scatter(x, y)\n",
    "plt.title('pred next time action')\n",
    "r,p = sio_stat.pearsonr(x,y)\n",
    "print('R2:', r**2, 'p:', p)\n",
    "\n",
    "x = u_pred[1:,0]\n",
    "y = df.loc[df.index[0]:df.index[-3],'u_vx']\n",
    "plt.figure()\n",
    "plt.scatter(x, y)\n",
    "plt.title('pred past time action')\n",
    "r,p = sio_stat.pearsonr(x,y)\n",
    "print('R2:', r**2, 'p:', p)\n",
    "# print(sio_stat.pearsonr())\n",
    "# plt.figure()\n",
    "# plt.scatter(u_pred[:,0], df.loc[1:,'u_vx'])"
   ]
  },
  {
   "cell_type": "code",
   "execution_count": null,
   "metadata": {},
   "outputs": [],
   "source": [
    "#Next, redo the psth analysis: \n",
    "df_hat = df.copy()\n",
    "df_hat.loc[1:,'u_vx'] = u_pred[:,0]\n",
    "df_hat.loc[1:,'u_vy'] = u_pred[:,1]"
   ]
  },
  {
   "cell_type": "code",
   "execution_count": null,
   "metadata": {},
   "outputs": [],
   "source": [
    "# 1) Convert stuff to polar, 2) center angles at target angle, 3) calculate distance to target\n",
    "\n",
    "df_hat['u_v_mag'], df_hat['u_v_angle'] = bmi_b.cartesian2polar(df_hat['u_vy'], df_hat['u_vx'])\n",
    "# 2) Center @ target angle: \n",
    "d_list = ['u_v_angle']\n",
    "for d in d_list:\n",
    "    data = df_hat[d]\n",
    "    zeros = np.zeros(data.shape)\n",
    "    t_angle = target_angle[df_hat['target'].astype(int)]\n",
    "    df_hat[d+'_ctr'] = bmi_b.center_angle(df_hat[d], zeros, t_angle)\n",
    "# 3) distance to target\n",
    "error = df_hat.loc[:, 'kin_px':'kin_py']-target_pos[df_hat['target'].astype(int),:]\n",
    "df_hat['d2target'] = np.linalg.norm(error,ord=2,axis=1)\n",
    "df_hat['x_error'] = error.loc[:,'kin_px']\n",
    "df_hat['y_error'] = error.loc[:,'kin_py']\n"
   ]
  },
  {
   "cell_type": "code",
   "execution_count": null,
   "metadata": {},
   "outputs": [],
   "source": [
    "# df_orig = df.copy()\n",
    "df = df_hat\n",
    "#INTERPOLATED PSTH:\n",
    "#TRIALS GO FROM START TO TIME CURSOR HITS TARGET BOUNDARY\n",
    "#FORM: xarray for variable x time x trial: \n",
    "\n",
    "#(1.7 - 0.4 = 1.3 for CO, and 2.0 - 0.5 = 1.5 for OBS).\n",
    "target_r_eff = {0:1.3, 1:1.5}\n",
    "num_var = df.shape[1]\n",
    "num_interp_pts = 100\n",
    "time_win = np.array([0, num_interp_pts])\n",
    "num_time = np.diff(time_win)[0]\n",
    "da_dic = {}\n",
    "for task_str in task_list:\n",
    "    task = task2idx[task_str]\n",
    "    for target in range(num_targets):\n",
    "        #------------------------------------------------------------------------------------\n",
    "        #TRIALS: \n",
    "        trial_start = np.where((df['trial_start']==1) & (df['target']==target) & (df['task']==task))[0]\n",
    "        trial_stop = np.where((df['trial_stop']==1) & (df['target']==target) & (df['task']==task))[0]\n",
    "        trial_bound = np.vstack((trial_start,trial_stop)).T\n",
    "        num_trials = trial_bound.shape[0]\n",
    "        #------------------------------------------------------------------------------------\n",
    "        #Initialize a nan-filled xarray\n",
    "        nan_mat = np.ones((num_var, num_time, num_trials))*np.nan\n",
    "        da = xr.DataArray(nan_mat,\n",
    "                    coords={'var':list(df.columns),\n",
    "                                     'time':range(num_time),\n",
    "                                     'trial':range(num_trials)},\n",
    "                    dims=['var','time','trial'])\n",
    "        for trial, bnd in enumerate(trial_bound): #trial_bound[0:1,:]:\n",
    "            d2target = df.loc[bnd[0]:bnd[1],'d2target']\n",
    "            end = bnd[0]+np.where(d2target <= target_r_eff[task])[0][0]\n",
    "            trial_len = end-bnd[0]+1\n",
    "            #Linearly interpolate the trial: \n",
    "            d_trial = np.array(df.loc[bnd[0]:end,:])\n",
    "            x = np.arange(0,trial_len)\n",
    "            f = scipy.interpolate.interp1d(x,d_trial,axis=0)\n",
    "            x_interp = np.linspace(x[0],x[-1],num_interp_pts)\n",
    "            d_interp = f(x_interp).T\n",
    "            da[:,:,trial] = d_interp\n",
    "        da_dic[(task,target)] = da      "
   ]
  },
  {
   "cell_type": "code",
   "execution_count": null,
   "metadata": {},
   "outputs": [],
   "source": [
    "# Average mag, abs angle\n",
    "ctrl_psth = {}\n",
    "d_list = ['u_v_mag', 'u_v_angle_ctr']\n",
    "num_orient_samples = 50\n",
    "for task in range(num_tasks):\n",
    "    for d in d_list:\n",
    "        d_mat = np.zeros((num_targets, num_time))\n",
    "        d_mat = np.ma.array(d_mat)\n",
    "        for target in range(num_targets):\n",
    "            mean = psth_dic[task,target,'mean'].loc[d]\n",
    "            #ctrl_psth[task,target,d,'mean']\n",
    "            if 'angle' in d: \n",
    "                if np.sum(mean[:num_orient_samples]) > 0:\n",
    "                    mean = -mean\n",
    "                #want the absolute angle                \n",
    "            d_mat[target,:] = mean\n",
    "        #PSTH:         \n",
    "#         mean = d_mat.mean(axis=0)\n",
    "#         N = np.logical_not(np.isnan(d_mat)).sum(axis=0)\n",
    "#         var = data.var(axis=1)\n",
    "#         sem = (var/N)**(0.5)        \n",
    "        ctrl_psth[task,d,'mat'] = d_mat\n",
    "        ctrl_psth[task,d,'mean'] = d_mat.mean(axis=0)\n",
    "        ctrl_psth[task,d,'var'] = d_mat.var(axis=0)\n",
    "        ctrl_psth[task,d,'sem'] = sio_stat.sem(d_mat, axis=0, nan_policy='omit')"
   ]
  },
  {
   "cell_type": "code",
   "execution_count": null,
   "metadata": {},
   "outputs": [],
   "source": [
    "#Exclude a target:\n",
    "task = 1\n",
    "for d in d_list: \n",
    "    d_mat = ctrl_psth[task,d,'mat'][[0,1,2,3,5,6,7],:]\n",
    "    ctrl_psth[task,d,'mean'] = d_mat.mean(axis=0)\n",
    "    ctrl_psth[task,d,'var'] = d_mat.var(axis=0)\n",
    "    ctrl_psth[task,d,'sem'] = sio_stat.sem(d_mat, axis=0, nan_policy='omit')    "
   ]
  },
  {
   "cell_type": "code",
   "execution_count": null,
   "metadata": {
    "scrolled": false
   },
   "outputs": [],
   "source": [
    "d_list = ['u_v_angle_ctr']\n",
    "for task in range(num_tasks):\n",
    "    plt.figure()\n",
    "    for d in d_list:\n",
    "        y_mat = ctrl_psth[task,d,'mat']\n",
    "        for target in range(num_targets):\n",
    "            plt.plot(y_mat[target,:], color=target_color[target])\n",
    "    plt.title(task)"
   ]
  },
  {
   "cell_type": "code",
   "execution_count": null,
   "metadata": {},
   "outputs": [],
   "source": [
    "save_dir"
   ]
  },
  {
   "cell_type": "code",
   "execution_count": null,
   "metadata": {},
   "outputs": [],
   "source": [
    "save_bool = True\n",
    "plt_prefix = 'psth_interp'\n",
    "plt_ext = ['.eps']\n",
    "\n",
    "d_list = ['u_v_mag', 'u_v_angle_ctr']\n",
    "plot_len = 100\n",
    "for d in d_list:\n",
    "    plt.figure()\n",
    "    for task in range(num_tasks):\n",
    "        y_mean = ctrl_psth[task,d,'mean'][:plot_len]\n",
    "        y_sem = ctrl_psth[task,d,'sem'][:plot_len]\n",
    "        if 'angle' in d:\n",
    "            y = y*180/np.pi\n",
    "            y_mean = y_mean*180/np.pi\n",
    "            y_sem = y_sem*180/np.pi \n",
    "            plt.hlines(0,0,plot_len,color='k')\n",
    "            plt.hlines(theta_max*180/np.pi,0,plot_len,color='k',linestyles='dashed')\n",
    "            plt.hlines(-theta_max*180/np.pi,0,plot_len,color='k',linestyles='dashed')\n",
    "            \n",
    "            plt.hlines(obs_theta*180/np.pi,0,plot_len,color='r',linestyles='dashed')\n",
    "            plt.hlines(-obs_theta*180/np.pi,0,plot_len,color='r',linestyles='dashed')            \n",
    "            \n",
    "            plt.legend()\n",
    "        plt.plot(y_mean, color=task_color[task],label=idx2task[task])\n",
    "        plt.fill_between(range(len(y_mean)), y_mean-y_sem,y_mean+y_sem,alpha=0.5,color=task_color[task])\n",
    "    plt.xlabel('time (interpolated)')\n",
    "    plt.title(d)\n",
    "    plt.legend(loc = 'lower right')\n",
    "    if 'angle' in d:\n",
    "        plt.ylim(-50,50)\n",
    "#         plt.axis('square')\n",
    "    \n",
    "        \n",
    "    if save_bool: \n",
    "        plt_name = plt_prefix + '_' + d\n",
    "        for ext in plt_ext:\n",
    "            plt.savefig(os.path.join(save_dir, plt_name+ext))"
   ]
  },
  {
   "cell_type": "code",
   "execution_count": null,
   "metadata": {},
   "outputs": [],
   "source": []
  }
 ],
 "metadata": {
  "kernelspec": {
   "display_name": "Python 2",
   "language": "python",
   "name": "python2"
  },
  "language_info": {
   "codemirror_mode": {
    "name": "ipython",
    "version": 2
   },
   "file_extension": ".py",
   "mimetype": "text/x-python",
   "name": "python",
   "nbconvert_exporter": "python",
   "pygments_lexer": "ipython2",
   "version": "2.7.17"
  }
 },
 "nbformat": 4,
 "nbformat_minor": 2
}
