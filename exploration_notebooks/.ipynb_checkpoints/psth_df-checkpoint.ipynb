{
 "cells": [
  {
   "cell_type": "code",
   "execution_count": null,
   "metadata": {},
   "outputs": [],
   "source": [
    "%load_ext autoreload\n",
    "%autoreload 2"
   ]
  },
  {
   "cell_type": "code",
   "execution_count": null,
   "metadata": {},
   "outputs": [],
   "source": [
    "#plot_n_b_psth.ipynb\n",
    "#plot neural and behavior psth\n",
    "\n",
    "import scipy.io as sio\n",
    "import scipy.stats as sio_stat\n",
    "import numpy as np\n",
    "import pandas as pd\n",
    "import xarray as xr\n",
    "import matplotlib.pyplot as plt \n",
    "\n",
    "import os\n",
    "import pickle\n",
    "import sys\n",
    "import copy\n",
    "\n",
    "import time\n",
    "import pylab as pl\n",
    "from IPython import display\n",
    "\n",
    "from bmi_dynamics_code import behavior_co_obs as bmi_b\n",
    "from bmi_dynamics_code import data_for_v as preeyacode\n",
    "from bmi_dynamics_code import util as bmi_util\n",
    "\n",
    "import timeit\n",
    "from sklearn import decomposition as skl_decomp\n",
    "\n",
    "%matplotlib notebook"
   ]
  },
  {
   "cell_type": "code",
   "execution_count": null,
   "metadata": {},
   "outputs": [],
   "source": [
    "%matplotlib notebook"
   ]
  },
  {
   "cell_type": "code",
   "execution_count": null,
   "metadata": {
    "scrolled": true
   },
   "outputs": [],
   "source": [
    "# data_dir = '/Users/vivekathalye/Dropbox/Code/preeya_co_obstacle'\n",
    "save_dir = r'D:\\Dropbox\\BMI_co_obs_paper\\data\\vivek\\psth'\n",
    "if not os.path.exists(save_dir):\n",
    "    os.makedirs(save_dir)\n",
    "\n",
    "home_dir = r'D:\\Dropbox\\Code\\preeya_co_obstacle'\n",
    "data_dir = r'D:\\Dropbox\\Data\\preeya_co_obstacle'\n",
    "data_path = os.path.join(data_dir, 'for_v_df.pkl')\n",
    "print(os.path.exists(data_path))\n",
    "d = pickle.load(open(data_path))\n",
    "\n",
    "#UNPACK: \n",
    "pre = d['pre']\n",
    "num_targets = d['num_targets']\n",
    "sample_period = d['sample_period']\n",
    "target_hold_time = d['target_hold_time']\n",
    "num_neurons = d['num_neurons']\n",
    "target_color = d['target_color']\n",
    "obs_big = d['obs_big']\n",
    "obs_small = d['obs_small']\n",
    "target_r = d['target_r']\n",
    "target_pos = d['target_pos']\n",
    "target_angle = np.arctan2(target_pos[:,1], target_pos[:,0])\n",
    "target_dist = np.linalg.norm(target_pos, axis=1)\n",
    "obs_pos = d['obs_pos']\n",
    "\n",
    "tc_meta = d['tc_meta']\n",
    "task_list = d['task_list']\n",
    "num_tasks = len(task_list)\n",
    "task2idx = d['task2idx']\n",
    "idx2task = bmi_util.invert_dic(task2idx)\n",
    "task2tc = d['task2tc']\n",
    "tc_list = d['tc_list']\n",
    "df = d['df']\n",
    "df_label = d['df_label']\n",
    "\n",
    "task_color = ['k', 'r']"
   ]
  },
  {
   "cell_type": "code",
   "execution_count": null,
   "metadata": {
    "scrolled": true
   },
   "outputs": [],
   "source": [
    "#Plot the targets and obstacles: \n",
    "plot_task = False\n",
    "\n",
    "if plot_task:\n",
    "    plot_target = True\n",
    "    plot_obs_big = True\n",
    "    plot_obs_small = True\n",
    "\n",
    "    plot = {}\n",
    "    plot['size'] = (10,10)\n",
    "    plot['xlim'] = (-12.5,12.5)\n",
    "    plot['ylim'] = (-12.5,12.5)\n",
    "\n",
    "    plt.figure(figsize=plot['size'])\n",
    "\n",
    "    if plot_obs_small:\n",
    "        bmi_util.plot_obstacles(obs_pos, target_color, obs_small*np.ones(num_targets))\n",
    "    if plot_obs_big:\n",
    "        bmi_util.plot_obstacles(obs_pos, target_color, obs_big*np.ones(num_targets))\n",
    "    if plot_target: \n",
    "        bmi_util.plot_targets(target_pos, target_color, target_r*np.ones(num_targets))                \n",
    "    plt.axis('square')\n",
    "    plt.xlim(plot['xlim'])\n",
    "    plt.ylim(plot['ylim'])\n",
    "    plt.show()\n"
   ]
  },
  {
   "cell_type": "code",
   "execution_count": null,
   "metadata": {
    "scrolled": false
   },
   "outputs": [],
   "source": [
    "#PLOT INDIVIDUAL TRIALS: \n",
    "plot={}\n",
    "plot['size'] = (10,10)\n",
    "plot['xlim'] = (-12.5,12.5)\n",
    "plot['ylim'] = (-12.5,12.5)\n",
    "\n",
    "for task_str in task_list:\n",
    "    task = task2idx[task_str]\n",
    "    plt.figure(figsize=plot['size'])\n",
    "    for target in range(num_targets):\n",
    "        sel = (df['task']==task) & (df['bin']>=0) & (df['target']==target)\n",
    "        df_sel = df[sel]\n",
    "        #------------------------------------------------------------------------------------\n",
    "        #TRIALS: \n",
    "        trial_start = np.where(df_sel['bin']==0)[0]\n",
    "        trial_stop = np.hstack((trial_start[1:]-1, len(np.where(sel)[0])))\n",
    "        trial_bound = np.vstack((trial_start,trial_stop)).T\n",
    "        #------------------------------------------------------------------------------------\n",
    "        for bnd in trial_bound[:,:]: #trial_bound[0:1,:]:\n",
    "            x = df_sel['kin_px'][bnd[0]:bnd[1]+1]\n",
    "            y = df_sel['kin_py'][bnd[0]:bnd[1]+1]\n",
    "#             print(x)\n",
    "            color = target_color[target]\n",
    "            plt.plot(x,y,'.-',color=color)\n",
    "\n",
    "    if plot_obs_small:\n",
    "        bmi_util.plot_obstacles(obs_pos, target_color, obs_small*np.ones(num_targets))\n",
    "    if plot_obs_big:\n",
    "        bmi_util.plot_obstacles(obs_pos, target_color, obs_big*np.ones(num_targets))\n",
    "    if plot_target: \n",
    "        bmi_util.plot_targets(target_pos, target_color, target_r*np.ones(num_targets))  \n",
    "    \n",
    "    plt.axis('square')\n",
    "    plt.title(task_str)\n",
    "#     plt.xlim(plot['xlim'])\n",
    "#     plt.ylim(plot['ylim'])\n",
    "    plt.show()"
   ]
  },
  {
   "cell_type": "code",
   "execution_count": null,
   "metadata": {
    "scrolled": false
   },
   "outputs": [],
   "source": [
    "#FORM: xarray for variable x time x trial: \n",
    "num_var = df.shape[1]\n",
    "time_win = np.array([0, 80])\n",
    "num_time = np.diff(time_win)[0]\n",
    "da_dic = {}\n",
    "for task_str in task_list:\n",
    "    task = task2idx[task_str]\n",
    "    for target in range(num_targets):\n",
    "        sel = (df['task']==task) & (df['bin']>=0) & (df['target']==target)\n",
    "        df_sel = df[sel]\n",
    "        #------------------------------------------------------------------------------------\n",
    "        #TRIALS: \n",
    "        trial_start = np.where(df_sel['bin']==0)[0]\n",
    "        trial_stop = np.hstack((trial_start[1:]-1, len(np.where(sel)[0])))\n",
    "        trial_bound = np.vstack((trial_start,trial_stop)).T\n",
    "        num_trials = trial_bound.shape[0]\n",
    "        #------------------------------------------------------------------------------------\n",
    "        #Initialize a nan-filled xarray\n",
    "        nan_mat = np.ones((num_var, num_time, num_trials))*np.nan\n",
    "        da = xr.DataArray(nan_mat,\n",
    "                    coords={'var':list(df.columns),\n",
    "                                     'time':range(num_time),\n",
    "                                     'trial':range(num_trials)},\n",
    "                    dims=['var','time','trial'])\n",
    "        for trial, bnd in enumerate(trial_bound): #trial_bound[0:1,:]:\n",
    "            trial_len = bnd[1]-bnd[0]\n",
    "            if trial_len <= num_time:\n",
    "                bnd[1] = bnd[0] + trial_len\n",
    "            else:\n",
    "                bnd[1] = bnd[0] + num_time\n",
    "            trial_len_trunc = bnd[1]-bnd[0]\n",
    "                \n",
    "            da[:,:trial_len_trunc,trial] = df_sel[bnd[0]:bnd[1]].T\n",
    "        da_dic[(task,target)] = da      "
   ]
  },
  {
   "cell_type": "code",
   "execution_count": null,
   "metadata": {
    "scrolled": false
   },
   "outputs": [],
   "source": [
    "#PLOT ALL DATA in da_dic\n",
    "\n",
    "plt_prefix = 'trials_p_traj'\n",
    "plt_ext = ['.png']\n",
    "\n",
    "for task_str in task_list:\n",
    "    task = task2idx[task_str]\n",
    "    plt.figure(figsize=plot['size'])\n",
    "    for target in range(num_targets):\n",
    "        da = da_dic[task,target]\n",
    "        x = da.loc['kin_px',:,:] #num_time X num_trials\n",
    "        y = da.loc['kin_py',:,:]\n",
    "        color = target_color[target]\n",
    "        plt.plot(x, y, '.-', color=color)\n",
    "    if plot_obs_small:\n",
    "        bmi_util.plot_obstacles(obs_pos, target_color, obs_small*np.ones(num_targets))\n",
    "    if plot_obs_big:\n",
    "        bmi_util.plot_obstacles(obs_pos, target_color, obs_big*np.ones(num_targets))\n",
    "    if plot_target: \n",
    "        bmi_util.plot_targets(target_pos, target_color, target_r*np.ones(num_targets))  \n",
    "    \n",
    "    plt.axis('square')\n",
    "    plt.title(task_str)\n",
    "    plt.xlim(plot['xlim'])\n",
    "    plt.ylim(plot['ylim'])\n",
    "    plt.show()\n",
    "    \n",
    "    plt_name = plt_prefix + '_' + idx2task[task]\n",
    "    for ext in plt_ext:\n",
    "        plt.savefig(os.path.join(save_dir, plt_name+ext))       "
   ]
  },
  {
   "cell_type": "code",
   "execution_count": null,
   "metadata": {},
   "outputs": [],
   "source": [
    "#CALCULATE PSTH:\n",
    "psth_dic = {}\n",
    "for task in range(num_tasks):\n",
    "    for target in range(num_targets):\n",
    "        mean = da_dic[task,target].mean(axis=2,skipna=True)\n",
    "        N = np.logical_not(np.isnan(da_dic[task,target])).sum(axis=2) #number of data points per sample\n",
    "        var = da_dic[task,target].var(axis=2,skipna=True)\n",
    "        sem = (var/N)**(0.5)\n",
    "        \n",
    "        psth_dic[task,target,'mean'] = mean\n",
    "        psth_dic[task,target,'N'] = N\n",
    "        psth_dic[task,target,'var'] = var\n",
    "        psth_dic[task,target,'sem'] = sem"
   ]
  },
  {
   "cell_type": "code",
   "execution_count": null,
   "metadata": {
    "scrolled": false
   },
   "outputs": [],
   "source": [
    "#PLOT PSTH\n",
    "plt_prefix = 'psth_p_traj'\n",
    "plt_ext = ['.png']\n",
    "\n",
    "plot_len = 50\n",
    "for task_str in task_list:\n",
    "    task = task2idx[task_str]\n",
    "    plt.figure(figsize=plot['size'])\n",
    "    for target in range(num_targets):\n",
    "        data = psth_dic[task,target,'mean']\n",
    "        count = psth_dic[task,target,'N']\n",
    "        plt_len = data.shape[0]\n",
    "        tmp = np.where(count.loc['kin_px'] < 6)[0]\n",
    "        if len(tmp) > 0:\n",
    "            plt_len = tmp[0]\n",
    "        \n",
    "        x = data.loc['kin_px'][:plt_len] #num_time X num_trials\n",
    "        y = data.loc['kin_py'][:plt_len]\n",
    "        color = target_color[target]\n",
    "        plt.plot(x, y, '.-', color=color)\n",
    "    if plot_obs_small:\n",
    "        bmi_util.plot_obstacles(obs_pos, target_color, obs_small*np.ones(num_targets))\n",
    "    if plot_obs_big:\n",
    "        bmi_util.plot_obstacles(obs_pos, target_color, obs_big*np.ones(num_targets))\n",
    "    if plot_target: \n",
    "        bmi_util.plot_targets(target_pos, target_color, target_r*np.ones(num_targets))  \n",
    "    \n",
    "    plt.axis('square')\n",
    "    plt.title(task_str)\n",
    "    plt.xlim(plot['xlim'])\n",
    "    plt.ylim(plot['ylim'])\n",
    "    plt.show()\n",
    "    \n",
    "    plt_name = plt_prefix + '_' + idx2task[task]\n",
    "    for ext in plt_ext:\n",
    "        plt.savefig(os.path.join(save_dir, plt_name+ext))    "
   ]
  },
  {
   "cell_type": "code",
   "execution_count": null,
   "metadata": {
    "scrolled": true
   },
   "outputs": [],
   "source": [
    "#Plot x,y together for each condition:\n",
    "for task in range(num_tasks):\n",
    "    for target in range(num_targets):\n",
    "        t = psth_dic[task,target,'mean']['time']*sample_period\n",
    "        \n",
    "        x = psth_dic[task,target,'mean'].loc['kin_px']\n",
    "        x_sem = psth_dic[task,target,'sem'].loc['kin_px']\n",
    "        y = psth_dic[task,target,'mean'].loc['kin_py']\n",
    "        y_sem = psth_dic[task,target,'sem'].loc['kin_py']\n",
    "        \n",
    "        #Plot: \n",
    "        plt.figure()\n",
    "        plt.plot(t,x,'.-',label=('x','task:',idx2task[task],'target:', target)) #,color=target_color[target]\n",
    "        plt.fill_between(t, x-x_sem,x+x_sem,alpha=0.5) #,color=target_color[target]\n",
    "        \n",
    "        plt.plot(t,y,'.-',label=('y','task:',idx2task[task],'target:', target)) #,color=target_color[target]\n",
    "        plt.fill_between(t, y-y_sem,y+y_sem,alpha=0.5) #,color=target_color[target]        \n",
    "        plt.legend()\n",
    "        plt.xlabel('time (s)')\n",
    "        plt.xlim([0, 8])\n",
    "        plt.ylim([-12,12])"
   ]
  },
  {
   "cell_type": "code",
   "execution_count": null,
   "metadata": {
    "scrolled": true
   },
   "outputs": [],
   "source": [
    "#Plot all conditions together:\n",
    "plot_data = ['kin_px', 'kin_py']\n",
    "for d in plot_data:\n",
    "    for task in [1]:\n",
    "        plt.figure(figsize=(10,10))\n",
    "        for target in range(num_targets):\n",
    "            t = psth_dic[task,target,'mean']['time']*sample_period\n",
    "            x = psth_dic[task,target,'mean'].loc[d]\n",
    "            x_sem = psth_dic[task,target,'sem'].loc[d]\n",
    "\n",
    "            #Plot: \n",
    "            plt.plot(t,x,'.-', color=target_color[target])\n",
    "            plt.fill_between(t, x-x_sem,x+x_sem,alpha=0.5,color=target_color[target])\n",
    "        plt.legend()\n",
    "        plt.title(d + ' task: ' + str(task))\n",
    "        plt.xlabel('time (s)')\n",
    "        plt.xlim([0, 8])\n",
    "        plt.ylim([-12,12])"
   ]
  },
  {
   "cell_type": "code",
   "execution_count": null,
   "metadata": {
    "scrolled": true
   },
   "outputs": [],
   "source": [
    "# # Plot target position: \n",
    "# target = 0\n",
    "# plt.figure()\n",
    "# plt.plot([0, target_pos[target,0]], [0, target_pos[target,1]])\n",
    "# plt.axis('square')\n",
    "# plt.xlim([-12, 12])\n",
    "# plt.ylim([-12, 12])\n",
    "\n",
    "# target_angle = np.arctan2(target_pos[:,1], target_pos[:,0])*180/np.pi\n",
    "# print(target_angle)"
   ]
  },
  {
   "cell_type": "code",
   "execution_count": null,
   "metadata": {},
   "outputs": [],
   "source": [
    "#TODO: \n",
    "#save the polar coordinates of p,v,u in the xarray\n",
    "#save another data frame for the psth\n",
    "#\n",
    "#"
   ]
  },
  {
   "cell_type": "code",
   "execution_count": null,
   "metadata": {},
   "outputs": [],
   "source": [
    "def center_angle(angle, ctr_orig, ctr_new):\n",
    "    \"\"\"\n",
    "    \"\"\"\n",
    "    angle_center = (angle+(np.pi-ctr_orig)-ctr_new)%(2*np.pi)-(np.pi-ctr_orig)\n",
    "    return angle_center"
   ]
  },
  {
   "cell_type": "code",
   "execution_count": null,
   "metadata": {
    "scrolled": false
   },
   "outputs": [],
   "source": [
    "#Plot magnitude and angle psth: \n",
    "#ToDo:\n",
    "#delta_position\n",
    "angle_target_center = 1 #1 if you want it, 0 else\n",
    "\n",
    "ctrl = {}\n",
    "for task in range(num_tasks):\n",
    "    for target in range(num_targets):\n",
    "        d_i = da_dic[task,target]\n",
    "        p = d_i.loc['kin_px':'kin_py']\n",
    "        v = d_i.loc['kin_vx':'kin_vy']\n",
    "        u_p = d_i.loc['u_px':'u_py']\n",
    "        u_v = d_i.loc['u_vx':'u_vy']\n",
    "        \n",
    "        #MAG: \n",
    "        ctrl[task, target, 'p_mag'] = np.linalg.norm(p, ord=1, axis=0)\n",
    "        ctrl[task, target, 'v_mag'] = np.linalg.norm(v, ord=1, axis=0)\n",
    "        ctrl[task, target, 'u_p_mag'] = np.linalg.norm(u_p, ord=1, axis=0)\n",
    "        ctrl[task, target, 'u_v_mag'] = np.linalg.norm(u_v, ord=1, axis=0)\n",
    "        \n",
    "        #ANGLE: \n",
    "        o = target_angle[target]\n",
    "        ctrl[task, target, 'p_angle'] = np.arctan2(d_i.loc['kin_py'], d_i.loc['kin_px'])\n",
    "        ctrl[task, target, 'v_angle'] = np.arctan2(d_i.loc['kin_vy'], d_i.loc['kin_vx'])\n",
    "        ctrl[task, target, 'u_p_angle'] = np.arctan2(d_i.loc['u_py'], d_i.loc['u_px'])\n",
    "        ctrl[task, target, 'u_v_angle'] = np.arctan2(d_i.loc['u_vy'], d_i.loc['u_vx'])\n",
    "        \n",
    "        \n",
    "        ctrl[task, target, 'p_angle_ctr'] = center_angle(ctrl[task, target, 'p_angle'],0, o)\n",
    "        ctrl[task, target, 'v_angle_ctr'] = center_angle(ctrl[task, target, 'v_angle'],0, o)\n",
    "        ctrl[task, target, 'u_p_angle_ctr'] = center_angle(ctrl[task, target, 'u_p_angle'],0, o)\n",
    "        ctrl[task, target, 'u_v_angle_ctr'] = center_angle(ctrl[task, target, 'u_v_angle'],0, o)\n",
    "        \n",
    "ctrl_list = ['p_mag', 'p_angle', 'p_angle_ctr',\n",
    "             'v_mag', 'v_angle', 'v_angle_ctr',\n",
    "             'u_v_mag', 'u_v_angle', 'u_v_angle_ctr',\n",
    "             'u_p_mag', 'u_p_angle', 'u_p_angle_ctr']\n",
    "ctrl_psth = {}\n",
    "for task in range(num_tasks):\n",
    "    for target in range(num_targets):\n",
    "        for d in ctrl_list:\n",
    "#             print(d)\n",
    "            data = ctrl[task, target, d]\n",
    "            data = np.ma.array(data,mask=np.isnan(data))\n",
    "            mean = data.mean(axis=1)\n",
    "            N = np.logical_not(np.isnan(data)).sum(axis=1)\n",
    "            var = data.var(axis=1)\n",
    "            sem = (var/N)**(0.5)\n",
    "            \n",
    "            ctrl_psth[task,target, d, 'mean'] = mean\n",
    "            ctrl_psth[task,target, d, 'N'] = N\n",
    "            ctrl_psth[task,target, d, 'var'] = var\n",
    "            ctrl_psth[task,target, d, 'sem'] = sem\n",
    "            "
   ]
  },
  {
   "cell_type": "code",
   "execution_count": null,
   "metadata": {},
   "outputs": [],
   "source": [
    "#TODO: \n",
    "#rows:mag, angle\n",
    "#cols: p, v, u\n",
    "#\n",
    "#plot trajectories as magnitude X angle"
   ]
  },
  {
   "cell_type": "code",
   "execution_count": null,
   "metadata": {},
   "outputs": [],
   "source": [
    "plt.subplot(2,3)"
   ]
  },
  {
   "cell_type": "code",
   "execution_count": null,
   "metadata": {},
   "outputs": [],
   "source": [
    "test = np.ravel_multi_index((0,1),(2,3))"
   ]
  },
  {
   "cell_type": "code",
   "execution_count": null,
   "metadata": {},
   "outputs": [],
   "source": [
    "test"
   ]
  },
  {
   "cell_type": "code",
   "execution_count": null,
   "metadata": {
    "scrolled": false
   },
   "outputs": [],
   "source": [
    "#ALL TARGETS TOGETHER, task separate\n",
    "ctrl_list = ['p_mag', 'p_angle_ctr', 'v_mag', 'v_angle_ctr', 'u_v_mag', 'u_v_angle_ctr'] #'u_p_mag', 'u_p_angle',\n",
    "task = 0\n",
    "# target = 0\n",
    "plot_trials =False\n",
    "N_min = 3\n",
    "plt_len=80\n",
    "\n",
    "plt_prefix = 'psth'\n",
    "plt_ext = ['.png', '.eps']\n",
    "\n",
    "for task in [0,1]:\n",
    "    for d in ctrl_list: \n",
    "        plt.figure()\n",
    "        for target in range(num_targets):\n",
    "            len_check = np.where(ctrl_psth[task,target,d,'N']<=N_min)[0]\n",
    "            if len(len_check)>0:\n",
    "                plt_len = len_check[0]\n",
    "\n",
    "            y = ctrl[task,target,d][:plt_len,:]            \n",
    "            y_mean = ctrl_psth[task,target,d,'mean'][:plt_len]\n",
    "            y_sem = ctrl_psth[task,target,d,'sem'][:plt_len]    \n",
    "                \n",
    "            if 'angle_ctr' in d:\n",
    "                y = y*180/np.pi\n",
    "                y_mean = y_mean*180/np.pi\n",
    "                y_sem = y_sem*180/np.pi \n",
    "                plt.hlines(0,0,plt_len,color=target_color[target])                \n",
    "            elif 'angle_' in d:\n",
    "                y = y*180/np.pi\n",
    "                y_mean = y_mean*180/np.pi\n",
    "                y_sem = y_sem*180/np.pi \n",
    "                plt.hlines(target_angle[target]*180/np.pi,0,plt_len,color=target_color[target])\n",
    "            elif d == 'p_mag':\n",
    "                plt.hlines(target_dist[target],0,plt_len,color=target_color[target])\n",
    "                plt.hlines(target_dist[target]-target_r,0,plt_len, linestyles='--', color=target_color[target])\n",
    "                           \n",
    "            if plot_trials:\n",
    "                r = plt.plot(y, color='k')\n",
    "            plt.plot(y_mean, color=target_color[target])\n",
    "            plt.fill_between(range(len(y)), y_mean-y_sem,y_mean+y_sem,alpha=0.5,color=target_color[target])\n",
    "        plt.title((d, 'task:', idx2task[task]))\n",
    "        \n",
    "        plt_name = plt_prefix + '_' + idx2task[task] + '_' + d\n",
    "        for ext in plt_ext:\n",
    "            plt.savefig(os.path.join(save_dir, plt_name+ext))\n",
    "        "
   ]
  },
  {
   "cell_type": "code",
   "execution_count": null,
   "metadata": {
    "scrolled": true
   },
   "outputs": [],
   "source": [
    "#TARGETS together\n",
    "ctrl_list = ['p_mag', 'p_angle', 'v_mag', 'v_angle', 'u_v_mag', 'u_v_angle'] #'u_p_mag', 'u_p_angle',\n",
    "# ['p_angle']#\n",
    "task = 0\n",
    "# target = 0\n",
    "plot_trials =False\n",
    "\n",
    "task_color = ['k', 'r']\n",
    "\n",
    "for target in [5]: #range(num_targets):\n",
    "    for d in ctrl_list: \n",
    "        plt.figure()\n",
    "        for task in [0,1]:\n",
    "            y = ctrl[task,target,d]\n",
    "            y_mean = ctrl_psth[task,target,d,'mean']\n",
    "            y_sem = ctrl_psth[task,target,d,'sem']    \n",
    "            if 'angle' in d:\n",
    "                y = y*180/np.pi\n",
    "                y_mean = y_mean*180/np.pi\n",
    "                y_sem = y_sem*180/np.pi \n",
    "\n",
    "                plt.hlines(target_angle[target]*180/np.pi,0,60,color=target_color[target])\n",
    "            if plot_trials:\n",
    "                r = plt.plot(y, '.-', color='k')\n",
    "\n",
    "            plt.plot(y_mean, '.-', color=task_color[task], label=idx2task[task])\n",
    "            plt.fill_between(range(len(y)), y_mean-y_sem,y_mean+y_sem,alpha=0.5,color=task_color[task])\n",
    "        plt.legend()\n",
    "        plt.title((d, 'target:', target))\n"
   ]
  },
  {
   "cell_type": "code",
   "execution_count": null,
   "metadata": {
    "scrolled": true
   },
   "outputs": [],
   "source": [
    "#ALL CONDITIONS SEPARATE\n",
    "ctrl_list = ['p_mag', 'p_angle', 'v_mag', 'v_angle', 'u_v_mag', 'u_v_angle'] #'u_p_mag', 'u_p_angle',\n",
    "task = 0\n",
    "# target = 0\n",
    "plot_trials =False\n",
    "for task in [0,1]:\n",
    "    for target in range(num_targets):\n",
    "        for d in ctrl_list: \n",
    "            y = ctrl[task,target,d]\n",
    "            y_mean = ctrl_psth[task,target,d,'mean']\n",
    "            y_sem = ctrl_psth[task,target,d,'sem']    \n",
    "            plt.figure()\n",
    "            if 'angle' in d:\n",
    "                y = y*180/np.pi\n",
    "                y_mean = y_mean*180/np.pi\n",
    "                y_sem = y_sem*180/np.pi \n",
    "\n",
    "                plt.hlines(target_angle[target]*180/np.pi,0,40,color=target_color[target])\n",
    "                plt.legend()\n",
    "\n",
    "            if plot_trials:\n",
    "                r = plt.plot(y, color='k')\n",
    "\n",
    "\n",
    "            plt.plot(y_mean, color=target_color[target])\n",
    "            plt.fill_between(range(len(y)), y_mean-y_sem,y_mean+y_sem,alpha=0.5,color=target_color[target])\n",
    "            plt.title((d, 'task:', task))\n"
   ]
  },
  {
   "cell_type": "code",
   "execution_count": null,
   "metadata": {},
   "outputs": [],
   "source": []
  },
  {
   "cell_type": "code",
   "execution_count": null,
   "metadata": {},
   "outputs": [],
   "source": [
    "y = ctrl[0,0,'v_mag']\n",
    "plt.figure()\n",
    "r = plt.plot(y)\n",
    "plt.title('v_mag')\n",
    "\n",
    "y = ctrl[0,0,'v_angle']\n",
    "plt.figure()\n",
    "r = plt.plot(y*180/np.pi)\n",
    "plt.hlines(target_angle[0]*180/np.pi,0,40,label='target')\n",
    "plt.legend()\n",
    "plt.title('v_angle')"
   ]
  },
  {
   "cell_type": "code",
   "execution_count": null,
   "metadata": {},
   "outputs": [],
   "source": [
    "y = ctrl[0,0,'u_p_mag']\n",
    "plt.figure()\n",
    "r = plt.plot(y)\n",
    "plt.title('u_p_mag')\n",
    "\n",
    "y = ctrl[0,0,'u_p_angle']\n",
    "plt.figure()\n",
    "r = plt.plot(y*180/np.pi)\n",
    "plt.hlines(target_angle[0]*180/np.pi,0,40,label='target')\n",
    "plt.legend()\n",
    "plt.title('u_p_angle')"
   ]
  },
  {
   "cell_type": "code",
   "execution_count": null,
   "metadata": {},
   "outputs": [],
   "source": [
    "target_angle*180/np.pi"
   ]
  },
  {
   "cell_type": "code",
   "execution_count": null,
   "metadata": {},
   "outputs": [],
   "source": [
    "task"
   ]
  },
  {
   "cell_type": "code",
   "execution_count": null,
   "metadata": {},
   "outputs": [],
   "source": [
    "target"
   ]
  },
  {
   "cell_type": "code",
   "execution_count": null,
   "metadata": {},
   "outputs": [],
   "source": [
    "ctrl[task, target, 'v_mag']"
   ]
  },
  {
   "cell_type": "code",
   "execution_count": null,
   "metadata": {},
   "outputs": [],
   "source": [
    "ctrl[task, target, 'v_angle'].shape"
   ]
  },
  {
   "cell_type": "code",
   "execution_count": null,
   "metadata": {},
   "outputs": [],
   "source": []
  },
  {
   "cell_type": "code",
   "execution_count": null,
   "metadata": {},
   "outputs": [],
   "source": [
    "psth_dic = {}\n",
    "for task in range(num_tasks):\n",
    "    for target in range(num_targets):\n",
    "        mean = da_dic[task,target].mean(axis=2,skipna=True)\n",
    "        N = np.logical_not(np.isnan(da_dic[task,target])).sum(axis=2)\n",
    "        var = da_dic[task,target].var(axis=2,skipna=True)\n",
    "        sem = (var/N)**(0.5)\n",
    "        \n",
    "        psth_dic[task,target,'mean'] = mean\n",
    "        psth_dic[task,target,'N'] = N\n",
    "        psth_dic[task,target,'var'] = var\n",
    "        psth_dic[task,target,'sem'] = sem"
   ]
  }
 ],
 "metadata": {
  "kernelspec": {
   "display_name": "Python 2",
   "language": "python",
   "name": "python2"
  },
  "language_info": {
   "codemirror_mode": {
    "name": "ipython",
    "version": 2
   },
   "file_extension": ".py",
   "mimetype": "text/x-python",
   "name": "python",
   "nbconvert_exporter": "python",
   "pygments_lexer": "ipython2",
   "version": "2.7.17"
  }
 },
 "nbformat": 4,
 "nbformat_minor": 2
}
