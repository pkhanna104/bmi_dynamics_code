{
 "cells": [
  {
   "cell_type": "code",
   "execution_count": 1,
   "metadata": {},
   "outputs": [],
   "source": [
    "%load_ext autoreload\n",
    "%autoreload 2"
   ]
  },
  {
   "cell_type": "code",
   "execution_count": null,
   "metadata": {},
   "outputs": [],
   "source": [
    "#plot_n_b_psth.ipynb\n",
    "#plot neural and behavior psth\n",
    "\n",
    "import scipy.io as sio\n",
    "import scipy.stats as sio_stat\n",
    "import scipy.interpolate\n",
    "import numpy as np\n",
    "import pandas as pd\n",
    "import xarray as xr\n",
    "import matplotlib.pyplot as plt \n",
    "\n",
    "import os\n",
    "import pickle\n",
    "import sys\n",
    "import copy\n",
    "\n",
    "import time\n",
    "import pylab as pl\n",
    "from IPython import display\n",
    "\n",
    "from bmi_dynamics_code import behavior_co_obs as bmi_b\n",
    "from bmi_dynamics_code import data_for_v as preeyacode\n",
    "from bmi_dynamics_code import util as bmi_util\n",
    "\n",
    "import timeit\n",
    "from sklearn import decomposition as skl_decomp\n",
    "\n",
    "import statsmodels.api as sm\n",
    "import statsmodels.formula.api as smf\n",
    "\n",
    "%matplotlib notebook"
   ]
  },
  {
   "cell_type": "code",
   "execution_count": null,
   "metadata": {},
   "outputs": [],
   "source": [
    "%matplotlib notebook"
   ]
  },
  {
   "cell_type": "markdown",
   "metadata": {},
   "source": [
    "NOTES:\n",
    "this code is written after the file: \n",
    "'neural_mean_diff_rel_shuffle.ipynb'\n",
    "\n",
    "To Do: \n",
    "compare pairs of movements\n",
    "implement subsampling to match movement pairs,\n",
    "save a list of movement pairs that have been matched\n",
    "\n",
    "once we have neural vector comparisons across pairs of movements, \n",
    "compare to behavior psth around that command occurrence.  \n",
    "play with the number of lags of behavior psth. \n",
    "\n",
    "\n"
   ]
  },
  {
   "cell_type": "code",
   "execution_count": null,
   "metadata": {},
   "outputs": [],
   "source": [
    "# data_dir = '/Users/vivekathalye/Dropbox/Code/preeya_co_obstacle'\n",
    "save_dir = r'D:\\Dropbox\\BMI_co_obs_paper\\data\\vivek\\command_activity_diff'\n",
    "if not os.path.exists(save_dir):\n",
    "    os.makedirs(save_dir)\n",
    "ext_list =['.png', '.eps']\n",
    "\n",
    "home_dir = r'D:\\Dropbox\\Code\\preeya_co_obstacle'\n",
    "data_dir = r'D:\\Dropbox\\Data\\preeya_co_obstacle'\n",
    "data_path = os.path.join(data_dir, 'for_v_df.pkl')\n",
    "print(os.path.exists(data_path))\n",
    "d = pickle.load(open(data_path))\n",
    "\n",
    "#UNPACK: \n",
    "decoder = d['decoder']\n",
    "pre = d['pre']\n",
    "num_targets = d['num_targets']\n",
    "sample_period = d['sample_period']\n",
    "target_hold_time = d['target_hold_time']\n",
    "num_neurons = d['num_neurons']\n",
    "target_color = d['target_color']\n",
    "obs_big = d['obs_big']\n",
    "obs_small = d['obs_small']\n",
    "target_r_task = d['target_r_task'] #target_r_task = {0:1.7, 1:2.0}\n",
    "cursor_r = d['cursor_r']\n",
    "target_r_eff = d['target_r_eff']\n",
    "target_pos = d['target_pos']\n",
    "target_angle = np.arctan2(target_pos[:,1], target_pos[:,0])\n",
    "target_dist = np.linalg.norm(target_pos, axis=1)\n",
    "obs_pos = d['obs_pos']\n",
    "\n",
    "tc_meta = d['tc_meta']\n",
    "task_list = d['task_list']\n",
    "num_tasks = len(task_list)\n",
    "task2idx = d['task2idx']\n",
    "idx2task = bmi_util.invert_dic(task2idx)\n",
    "task2tc = d['task2tc']\n",
    "tc_list = d['tc_list']\n",
    "df = d['df']\n",
    "df_label = d['df_label']\n",
    "\n",
    "task_color = ['k', 'r']"
   ]
  },
  {
   "cell_type": "code",
   "execution_count": null,
   "metadata": {},
   "outputs": [],
   "source": [
    "#Pre-processing: \n",
    "\n",
    "bmi_b.preprocess_bmi_df(df, target_pos, pre, num_tasks, num_targets)\n",
    "num_cw = 2\n",
    "cw_label = ['cw', 'ccw']\n",
    "task_rot_list = [0,1.1,1.2]\n",
    "\n",
    "#Binning: \n",
    "#MAGNITUDE:\n",
    "num_mag_bins = 5\n",
    "num_mag_bins_analyze = 4\n",
    "# mag_bin_perc = np.array([0,25,50,75,100])\n",
    "mag_bin_perc = np.concatenate([np.linspace(0,95,5),np.array([100])])\n",
    "#ANGLE:\n",
    "num_angle_bins = 8\n",
    "T0_angle = -3*(2*np.pi)/8\n",
    "mag_bin, mag_bin_edges, mag_bin_c, angle_bin_c, angle_bin, angle_bin_edges =\\\n",
    "bmi_b.def_command_bin(df, mag_bin_perc, num_angle_bins, T0_angle)\n",
    "#CENTER ANGLE DATA FOR BINNING (based on bin boundaries): \n",
    "angle_center_for_binning = bmi_b.df_center_angle_for_binning(df, angle_bin)\n",
    "#BIN: \n",
    "bmi_b.df_bin_command(df, mag_bin_edges,angle_bin_edges)\n",
    "\n",
    "#Pre-processing continued:\n",
    "\n",
    "#Center angles to command bin, target: \n",
    "bmi_b.center_df_angle(df, angle_bin_c, target_angle)"
   ]
  },
  {
   "cell_type": "code",
   "execution_count": null,
   "metadata": {},
   "outputs": [],
   "source": [
    "#Plot cw vs ccw trials, to confirm: \n",
    "plot = {}\n",
    "plot['size'] = (10,10)\n",
    "plot['xlim'] = (-12.5,12.5)\n",
    "plot['ylim'] = (-12.5,12.5)\n",
    "task_rot_list = [0,1.1,1.2]\n",
    "task_rot_label = ['co','obs_ccw', 'obs_cw']\n",
    "\n",
    "for i,task in enumerate(task_rot_list):\n",
    "    plt.figure(figsize=plot['size'])\n",
    "    plt.title(task_rot_label[i])\n",
    "    for target in range(num_targets):    \n",
    "            sel = (df['task_rot']==task) & (df['bin']>=0) & (df['target']==target)\n",
    "            df_sel = df[sel]\n",
    "            #------------------------------------------------------------------------------------\n",
    "            #TRIALS: \n",
    "            trial_start = np.where(df_sel['bin']==0)[0]\n",
    "            trial_stop = np.where(df_sel['bin_end']==0)[0]\n",
    "            trial_bound = np.vstack((trial_start,trial_stop)).T\n",
    "            #------------------------------------------------------------------------------------\n",
    "            for bnd in trial_bound[:,:]: #trial_bound[0:1,:]:\n",
    "    #             if (task_str == 'co') or (task_str == 'obs') and (df_sel['obs_size'][bnd[0]:bnd[0]+1] == obs_big).bool(): \n",
    "                x = df_sel['kin_px'][bnd[0]:bnd[1]+1]\n",
    "                y = df_sel['kin_py'][bnd[0]:bnd[1]+1]\n",
    "                color = target_color[target]\n",
    "                plt.plot(x,y,'-',color=color)"
   ]
  },
  {
   "cell_type": "code",
   "execution_count": null,
   "metadata": {},
   "outputs": [],
   "source": [
    "num_mag_bins_analyze=4\n",
    "def plot_command_bin(): \n",
    "    bmi_b.plot_polar_bins(angle_bin_edges, mag_bin_edges[:,:(num_mag_bins_analyze)], target_color)\n",
    "    \n",
    "plt.figure(figsize=(5,5))\n",
    "plot_command_bin()    "
   ]
  },
  {
   "cell_type": "markdown",
   "metadata": {},
   "source": [
    "### Define movement list.  For each command, identify movements which have enough observations of each command."
   ]
  },
  {
   "cell_type": "code",
   "execution_count": null,
   "metadata": {},
   "outputs": [],
   "source": [
    "#Useful especially when splitting an obstacle movement into cw vs ccw.\n",
    "move_list = []\n",
    "for target in range(num_targets):\n",
    "    for task in task_rot_list:\n",
    "        move_list.append((target,task))\n",
    "m_list = move_list #In case we prefer \n",
    "        \n",
    "#List of commands in case it's useful    \n",
    "c_list = []\n",
    "for bm in range(num_mag_bins_analyze):\n",
    "    for ba in range(num_angle_bins):\n",
    "        c_list.append((bm,ba))        \n",
    "        \n",
    "#List of neurons:\n",
    "n_list = ['n_'+str(i) for i in range(num_neurons)]"
   ]
  },
  {
   "cell_type": "code",
   "execution_count": null,
   "metadata": {},
   "outputs": [],
   "source": [
    "#Identify movements + num_obs +sel for each command\n",
    "#also save for each movement separately\n",
    "\n",
    "bin_buffer = 5 #only count data after the first 5 samples and before the last 5 samples: \n",
    "min_obs = 15\n",
    "cm_dic = {}\n",
    "#Loop over command:\n",
    "for c in c_list: \n",
    "    bm = c[0]\n",
    "    ba = c[1]\n",
    "    \n",
    "    cm_dic[c] = []\n",
    "    cm_dic[c,'num_obs'] = []\n",
    "    #Loop over movement: \n",
    "    for m in move_list:\n",
    "        sel = \\\n",
    "        (df['target']==m[0]) \\\n",
    "        & (df['task_rot']==m[1]) \\\n",
    "        & (df['bin'] >= bin_buffer) \\\n",
    "        & (df['bin_end'] >= bin_buffer) \\\n",
    "        & (df['u_v_mag_bin'] == bm) \\\n",
    "        & (df['u_v_angle_bin'] == ba)\n",
    "        num_obs = sum(sel)\n",
    "#             print(bm, ba, m, num_obs)\n",
    "        #ASSIGN:\n",
    "        cm_dic[c,m,'sel'] = sel\n",
    "        cm_dic[c,m,'num_obs'] = num_obs\n",
    "        if num_obs >= min_obs:\n",
    "            cm_dic[c].append(m)\n",
    "            cm_dic[c,'num_obs'].append(num_obs)\n",
    "#Make the movement-pool sel: \n",
    "for c in c_list:\n",
    "    bm = c[0]\n",
    "    ba = c[1]\n",
    "    cm_dic[c, 'sel'] = np.zeros(df.shape[0]).astype('bool')\n",
    "    for m in cm_dic[bm,ba]:\n",
    "        cm_dic[c, 'sel'] = cm_dic[c, 'sel'] \\\n",
    "        | cm_dic[c,m,'sel']\n",
    "#movement-pool sel wil be useful as the global mean for command-activity."
   ]
  },
  {
   "cell_type": "code",
   "execution_count": null,
   "metadata": {},
   "outputs": [],
   "source": [
    "num_m = len(m_list)\n",
    "m2idx = {}\n",
    "idx2m = {}\n",
    "m2label={}\n",
    "label2m={}\n",
    "for i,m in enumerate(m_list):\n",
    "    m2idx[m]=i\n",
    "    idx2m[i]=m\n",
    "    \n",
    "    label = 'm_'+str(i)\n",
    "    m2label[m] = label\n",
    "    label2m[label] = m\n",
    "    \n",
    "\n",
    "num_c = len(c_list)\n",
    "c2idx = {}\n",
    "idx2c = {}\n",
    "c2label={}\n",
    "label2c={}\n",
    "for i,c in enumerate(c_list):\n",
    "    c2idx[c]=i\n",
    "    idx2c[i]=c\n",
    "    \n",
    "    label = 'c_'+str(i)\n",
    "    c2label[c] = label\n",
    "    label2c[label] = c    "
   ]
  },
  {
   "cell_type": "code",
   "execution_count": null,
   "metadata": {},
   "outputs": [],
   "source": [
    "#Make a matrix of command X movement showing which command-movements have more than 15 observations\n",
    "cm_mat = np.zeros((num_c, num_m))\n",
    "for c in c_list:\n",
    "    ci = c2idx[c]\n",
    "    for m in cm_dic[c]:\n",
    "        mi = m2idx[m]\n",
    "        cm_mat[ci,mi]=1"
   ]
  },
  {
   "cell_type": "code",
   "execution_count": null,
   "metadata": {},
   "outputs": [],
   "source": [
    "del plt.xlabel"
   ]
  },
  {
   "cell_type": "code",
   "execution_count": null,
   "metadata": {},
   "outputs": [],
   "source": [
    "import matplotlib.pyplot as plt"
   ]
  },
  {
   "cell_type": "code",
   "execution_count": null,
   "metadata": {},
   "outputs": [],
   "source": [
    "plt.figure()\n",
    "plt.imshow(cm_mat)\n",
    "plt.xlabel('movement')"
   ]
  },
  {
   "cell_type": "code",
   "execution_count": null,
   "metadata": {},
   "outputs": [],
   "source": [
    "### Match pairs\n",
    "#A matrix of pairs that worked"
   ]
  }
 ],
 "metadata": {
  "kernelspec": {
   "display_name": "Python 2",
   "language": "python",
   "name": "python2"
  },
  "language_info": {
   "codemirror_mode": {
    "name": "ipython",
    "version": 2
   },
   "file_extension": ".py",
   "mimetype": "text/x-python",
   "name": "python",
   "nbconvert_exporter": "python",
   "pygments_lexer": "ipython2",
   "version": "2.7.17"
  }
 },
 "nbformat": 4,
 "nbformat_minor": 2
}
