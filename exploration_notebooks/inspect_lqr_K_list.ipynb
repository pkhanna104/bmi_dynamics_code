{
 "cells": [
  {
   "cell_type": "code",
   "execution_count": 2,
   "metadata": {},
   "outputs": [
    {
     "name": "stdout",
     "output_type": "stream",
     "text": [
      "The autoreload extension is already loaded. To reload it, use:\n",
      "  %reload_ext autoreload\n"
     ]
    }
   ],
   "source": [
    "%load_ext autoreload\n",
    "%autoreload 2"
   ]
  },
  {
   "cell_type": "code",
   "execution_count": 3,
   "metadata": {},
   "outputs": [],
   "source": [
    "#Adapted from: \n",
    "# lqr_neural_error_dynamics.ipynb\n",
    "\n",
    "import scipy.io as sio\n",
    "import scipy.stats as sio_stat\n",
    "import scipy.interpolate\n",
    "import numpy as np\n",
    "import pandas as pd\n",
    "import xarray as xr\n",
    "import matplotlib.pyplot as plt \n",
    "\n",
    "import os\n",
    "import pickle\n",
    "import sys\n",
    "import copy\n",
    "\n",
    "import time\n",
    "import pylab as pl\n",
    "from IPython import display\n",
    "\n",
    "from bmi_dynamics_code import behavior_co_obs as bmi_b\n",
    "from bmi_dynamics_code import data_for_v as preeyacode\n",
    "from bmi_dynamics_code import util as bmi_util\n",
    "from bmi_dynamics_code import analyze_lqr\n",
    "\n",
    "import timeit\n",
    "from sklearn import decomposition as skl_decomp\n",
    "\n",
    "import statsmodels.api as sm\n",
    "import statsmodels.formula.api as smf\n",
    "\n",
    "from sklearn.linear_model import LinearRegression\n",
    "from sklearn.linear_model import Ridge\n",
    "\n",
    "%matplotlib notebook"
   ]
  },
  {
   "cell_type": "code",
   "execution_count": 11,
   "metadata": {},
   "outputs": [
    {
     "name": "stdout",
     "output_type": "stream",
     "text": [
      "True\n",
      "('angle_center:', 22.5)\n",
      "('min centered angle:', -157.47162455426732)\n",
      "('max centered angle:', 202.46708261619673)\n"
     ]
    }
   ],
   "source": [
    "#Load a base file for simulation parameters: \n",
    "ext_list =['.png', '.eps']\n",
    "\n",
    "plot_dir = r'D:\\Dropbox\\BMI_co_obs_paper\\data\\vivek\\lqr'\n",
    "\n",
    "home_dir = r'D:\\Dropbox\\Code\\preeya_co_obstacle'\n",
    "data_dir = r'D:\\Dropbox\\Data\\preeya_co_obstacle'\n",
    "data_path = os.path.join(data_dir, 'for_v_df.pkl')\n",
    "print(os.path.exists(data_path))\n",
    "d = pickle.load(open(data_path))\n",
    "\n",
    "#UNPACK: \n",
    "decoder = d['decoder']\n",
    "pre = d['pre']\n",
    "num_targets = d['num_targets']\n",
    "sample_period = d['sample_period']\n",
    "target_hold_time = d['target_hold_time']\n",
    "num_neurons = d['num_neurons']\n",
    "target_color = d['target_color']\n",
    "obs_big = d['obs_big']\n",
    "obs_small = d['obs_small']\n",
    "target_r_task = d['target_r_task'] #target_r_task = {0:1.7, 1:2.0}\n",
    "cursor_r = d['cursor_r']\n",
    "target_r_eff = d['target_r_eff']\n",
    "target_pos = d['target_pos']\n",
    "target_angle = np.arctan2(target_pos[:,1], target_pos[:,0])\n",
    "target_dist = np.linalg.norm(target_pos, axis=1)\n",
    "obs_pos = d['obs_pos']\n",
    "\n",
    "tc_meta = d['tc_meta']\n",
    "task_list = d['task_list']\n",
    "num_tasks = len(task_list)\n",
    "task2idx = d['task2idx']\n",
    "idx2task = bmi_util.invert_dic(task2idx)\n",
    "task2tc = d['task2tc']\n",
    "tc_list = d['tc_list']\n",
    "df = d['df']\n",
    "df_label = d['df_label']\n",
    "\n",
    "task_color = ['k', 'r']\n",
    "\n",
    "#Pre-processing: \n",
    "\n",
    "bmi_b.preprocess_bmi_df(df, target_pos, pre, num_tasks, num_targets)\n",
    "num_cw = 2\n",
    "cw_label = ['cw', 'ccw']\n",
    "task_rot_list = [0,1.1,1.2]\n",
    "\n",
    "#Binning: \n",
    "#MAGNITUDE:\n",
    "num_mag_bins = 5\n",
    "num_mag_bins_analyze = 4\n",
    "# mag_bin_perc = np.array([0,25,50,75,100])\n",
    "mag_bin_perc = np.concatenate([np.linspace(0,95,5),np.array([100])])\n",
    "#ANGLE:\n",
    "num_angle_bins = 8\n",
    "T0_angle = -3*(2*np.pi)/8\n",
    "mag_bin, mag_bin_edges, mag_bin_c, angle_bin_c, angle_bin, angle_bin_edges =\\\n",
    "bmi_b.def_command_bin(df, mag_bin_perc, num_angle_bins, T0_angle)\n",
    "#CENTER ANGLE DATA FOR BINNING (based on bin boundaries): \n",
    "angle_center_for_binning = bmi_b.df_center_angle_for_binning(df, angle_bin)\n",
    "#BIN: \n",
    "bmi_b.df_bin_command(df, mag_bin_edges,angle_bin_edges)\n",
    "\n",
    "#Pre-processing continued:\n",
    "\n",
    "#Center angles to command bin, target: \n",
    "bmi_b.center_df_angle(df, angle_bin_c, target_angle)"
   ]
  },
  {
   "cell_type": "code",
   "execution_count": 4,
   "metadata": {},
   "outputs": [],
   "source": [
    "a_list = ['grom', 'jeev']\n",
    "a2num_days = {'grom':9, 'jeev':4}"
   ]
  },
  {
   "cell_type": "code",
   "execution_count": 5,
   "metadata": {},
   "outputs": [],
   "source": [
    "#Dynamics models: \n",
    "dm_list = ['full', 'decoder_null'] #dynamics, decoder_null dynamics\n",
    "num_trials = 20 #number of trials simulated with lqr\n",
    "# dm_files = {dm_list[0]:'lqr_sim_'+str(num_trials)+'trials.pkl',\\\n",
    "#             dm_list[1]:'lqr_sim_'+str(num_trials)+'trials_decoder_null_dyn.pkl'}\n",
    "\n",
    "dm_files = {dm_list[0]:'lqr_sim_Q2_full.pkl',\\\n",
    "            dm_list[1]:'lqr_sim_Q2_decoder_null.pkl'}\n"
   ]
  },
  {
   "cell_type": "code",
   "execution_count": 6,
   "metadata": {},
   "outputs": [],
   "source": [
    "model_list_analyze = \\\n",
    "[('full', 'n_do'), \\\n",
    " ('decoder_null', 'n_do'), \\\n",
    " ('full', 'n_o'), \\\n",
    " ('decoder_null', 'n_o')]\n",
    "\n",
    "mla = model_list_analyze"
   ]
  },
  {
   "cell_type": "code",
   "execution_count": 8,
   "metadata": {},
   "outputs": [],
   "source": [
    "#Information for analysis: \n",
    "save_home = r'D:\\DATA\\bmi_co_obs_backup'\n",
    "\n",
    "# #analyze neural diff: \n",
    "# p_sig_match = 0.4 #0.05\n",
    "# shuffle_bool = True\n",
    "# num_shuffle = 10\n",
    "# min_obs = 15\n",
    "\n",
    "# #Save information\n",
    "# save_file = \\\n",
    "# 'analysis_lqr_sim_Q2_full_vs_decoder_null_'+str(num_trials)+'trials_'+ str(num_shuffle) + 'shuffles' +'.pkl'\n",
    "# print(save_file)"
   ]
  },
  {
   "cell_type": "code",
   "execution_count": 115,
   "metadata": {},
   "outputs": [
    {
     "name": "stdout",
     "output_type": "stream",
     "text": [
      "('jeev', 0)\n"
     ]
    }
   ],
   "source": [
    "debug_bool = False\n",
    "\n",
    "for a in [a_list[1]]: # [a_list[0]]:\n",
    "    for d in [0]: #range(a2num_days[a]):\n",
    "        t_iter_start = timeit.default_timer()\n",
    "        print(a,d)\n",
    "        load_dir = os.path.join(save_home, a, str(d))\n",
    "        \n",
    "        if not debug_bool:\n",
    "            #lqr sim paths for dynamics models (dm):\n",
    "            sim_dm_paths = {}\n",
    "            for dm in dm_list:\n",
    "                sim_dm_paths[dm] = os.path.join(load_dir, dm_files[dm])\n",
    "            lqr_dm, df_pool = analyze_lqr.pool_lqr_sim_across_dm(dm_list, sim_dm_paths)\n",
    "\n",
    "        #Load some params, must be the same across dynamics models: \n",
    "        target_list = lqr_dm[dm_list[0]]['target_list'] \n",
    "        task_rot_list = lqr_dm[dm_list[0]]['task_rot_list'] \n",
    "        num_neurons = lqr_dm[dm_list[0]]['num_neurons']\n",
    "        #Decoder:\n",
    "        Kn = lqr_dm[dm_list[0]]['Kn']\n",
    "        #decoder space\n",
    "        u,s,vh = np.linalg.svd(Kn.T)\n",
    "        u_d = u[:,:2]        \n",
    "        \n",
    "        #labels for movements, commands, neurons:\n",
    "        move_list, c_list, n_list = \\\n",
    "        analyze_lqr.def_var_lists(num_targets, task_rot_list, num_mag_bins_analyze, num_angle_bins, num_neurons)"
   ]
  },
  {
   "cell_type": "code",
   "execution_count": 116,
   "metadata": {
    "scrolled": true
   },
   "outputs": [
    {
     "data": {
      "text/plain": [
       "[(0, 0),\n",
       " (0, 1.1),\n",
       " (0, 1.2),\n",
       " (1, 0),\n",
       " (1, 1.1),\n",
       " (1, 1.2),\n",
       " (2, 0),\n",
       " (2, 1.1),\n",
       " (2, 1.2),\n",
       " (3, 0),\n",
       " (3, 1.1),\n",
       " (3, 1.2),\n",
       " (4, 0),\n",
       " (4, 1.1),\n",
       " (4, 1.2),\n",
       " (5, 0),\n",
       " (5, 1.1),\n",
       " (5, 1.2),\n",
       " (6, 0),\n",
       " (6, 1.1),\n",
       " (6, 1.2),\n",
       " (7, 0),\n",
       " (7, 1.1),\n",
       " (7, 1.2)]"
      ]
     },
     "execution_count": 116,
     "metadata": {},
     "output_type": "execute_result"
    }
   ],
   "source": [
    "move_list"
   ]
  },
  {
   "cell_type": "code",
   "execution_count": 117,
   "metadata": {},
   "outputs": [
    {
     "data": {
      "text/plain": [
       "[(4, 1.1, 'n_d'),\n",
       " (3, 0, 'n_null'),\n",
       " (3, 1.2, 'n_do'),\n",
       " (0, 1.1, 'n_null'),\n",
       " (5, 1.2, 'n_d'),\n",
       " (4, 1.2, 'n_null'),\n",
       " (2, 1.2, 'n_null'),\n",
       " (1, 1.2, 'n_null'),\n",
       " (0, 1.2, 'n_d'),\n",
       " (6, 0, 'n_o'),\n",
       " (3, 1.2, 'n_o'),\n",
       " (2, 0, 'n_null'),\n",
       " (3, 0, 'n_d'),\n",
       " (6, 1.2, 'n_null'),\n",
       " (5, 1.2, 'n_null'),\n",
       " (4, 1.2, 'n_d'),\n",
       " (7, 0, 'n_do'),\n",
       " (0, 0, 'n_do'),\n",
       " (2, 1.2, 'n_d'),\n",
       " (1, 0, 'n_do'),\n",
       " (1, 1.2, 'n_d'),\n",
       " (3, 1.1, 'n_do'),\n",
       " (7, 1.2, 'n_o'),\n",
       " (1, 1.1, 'n_do'),\n",
       " (7, 1.1, 'n_o'),\n",
       " (5, 0, 'n_null'),\n",
       " (1, 0, 'n_o'),\n",
       " (5, 1.1, 'n_o'),\n",
       " (6, 1.2, 'n_d'),\n",
       " (7, 1.1, 'n_do'),\n",
       " (5, 1.1, 'n_do'),\n",
       " (6, 1.1, 'n_d'),\n",
       " (4, 0, 'n_o'),\n",
       " (2, 1.1, 'n_null'),\n",
       " (5, 0, 'n_d'),\n",
       " (7, 1.2, 'n_do'),\n",
       " (1, 1.1, 'n_o'),\n",
       " (0, 0, 'n_null'),\n",
       " (3, 1.1, 'n_null'),\n",
       " (6, 1.1, 'n_null'),\n",
       " (4, 1.1, 'n_o'),\n",
       " (0, 1.2, 'n_o'),\n",
       " (2, 1.1, 'n_d'),\n",
       " (3, 1.2, 'n_d'),\n",
       " (2, 0, 'n_do'),\n",
       " (1, 1.2, 'n_do'),\n",
       " (3, 0, 'n_do'),\n",
       " (6, 0, 'n_d'),\n",
       " (7, 0, 'n_o'),\n",
       " (0, 1.2, 'n_do'),\n",
       " (0, 0, 'n_d'),\n",
       " (4, 1.2, 'n_o'),\n",
       " (0, 1.1, 'n_do'),\n",
       " (3, 1.1, 'n_d'),\n",
       " (0, 1.1, 'n_o'),\n",
       " (1, 1.2, 'n_o'),\n",
       " (3, 1.2, 'n_null'),\n",
       " (3, 0, 'n_o'),\n",
       " (4, 1.2, 'n_do'),\n",
       " (2, 1.2, 'n_o'),\n",
       " (6, 0, 'n_null'),\n",
       " (6, 1.1, 'n_do'),\n",
       " (4, 1.1, 'n_do'),\n",
       " (7, 1.1, 'n_d'),\n",
       " (2, 0, 'n_o'),\n",
       " (1, 0, 'n_d'),\n",
       " (4, 0, 'n_do'),\n",
       " (7, 1.2, 'n_null'),\n",
       " (6, 1.2, 'n_o'),\n",
       " (5, 1.1, 'n_null'),\n",
       " (5, 0, 'n_o'),\n",
       " (7, 1.1, 'n_null'),\n",
       " (2, 1.1, 'n_do'),\n",
       " (1, 1.1, 'n_d'),\n",
       " (1, 0, 'n_null'),\n",
       " (7, 1.2, 'n_d'),\n",
       " (5, 1.2, 'n_o'),\n",
       " (2, 1.1, 'n_o'),\n",
       " (5, 1.1, 'n_d'),\n",
       " (7, 0, 'n_d'),\n",
       " (1, 1.1, 'n_null'),\n",
       " (0, 0, 'n_o'),\n",
       " (5, 0, 'n_do'),\n",
       " (4, 0, 'n_null'),\n",
       " (6, 1.1, 'n_o'),\n",
       " (2, 1.2, 'n_do'),\n",
       " (3, 1.1, 'n_o'),\n",
       " (4, 1.1, 'n_null'),\n",
       " (5, 1.2, 'n_do'),\n",
       " (0, 1.1, 'n_d'),\n",
       " (7, 0, 'n_null'),\n",
       " (6, 0, 'n_do'),\n",
       " (0, 1.2, 'n_null'),\n",
       " (6, 1.2, 'n_do'),\n",
       " (4, 0, 'n_d'),\n",
       " (2, 0, 'n_d')]"
      ]
     },
     "execution_count": 117,
     "metadata": {},
     "output_type": "execute_result"
    }
   ],
   "source": [
    "lqr_dm['decoder_null']['move_lqr_n'].keys()"
   ]
  },
  {
   "cell_type": "code",
   "execution_count": 120,
   "metadata": {},
   "outputs": [
    {
     "data": {
      "text/plain": [
       "(20L, 25L)"
      ]
     },
     "execution_count": 120,
     "metadata": {},
     "output_type": "execute_result"
    }
   ],
   "source": [
    "K.shape"
   ]
  },
  {
   "cell_type": "code",
   "execution_count": 121,
   "metadata": {},
   "outputs": [
    {
     "data": {
      "text/plain": [
       "(5L, 20L)"
      ]
     },
     "execution_count": 121,
     "metadata": {},
     "output_type": "execute_result"
    }
   ],
   "source": [
    "Kn.shape"
   ]
  },
  {
   "cell_type": "code",
   "execution_count": 123,
   "metadata": {},
   "outputs": [],
   "source": []
  },
  {
   "cell_type": "code",
   "execution_count": 125,
   "metadata": {
    "scrolled": false
   },
   "outputs": [
    {
     "name": "stdout",
     "output_type": "stream",
     "text": [
      "\n",
      "('decoder_null', 'n_do')\n",
      "(7, 0)\n",
      "('seg', 0)\n",
      "38\n",
      "(0, array([3.78942926e-14, 2.42221957e-14]))\n",
      "(1, array([2.75232815e-14, 1.96681029e-14]))\n",
      "(2, array([3.82979685e-14, 2.15051515e-14]))\n",
      "(3, array([2.67694948e-14, 2.44301963e-14]))\n",
      "(4, array([4.41157173e-14, 1.17439575e-14]))\n",
      "(5, array([5.02935707e-14, 2.81467945e-14]))\n",
      "(6, array([4.14523723e-14, 1.82389032e-14]))\n",
      "(7, array([3.71357489e-14, 1.46002548e-14]))\n",
      "(8, array([2.77183209e-14, 2.26133298e-14]))\n",
      "(9, array([3.76235483e-14, 2.20253894e-14]))\n",
      "(10, array([2.63836401e-14, 1.91037262e-14]))\n",
      "(11, array([3.24024211e-14, 1.35114400e-14]))\n",
      "(12, array([3.28789967e-14, 1.40997692e-14]))\n",
      "(13, array([3.03980518e-14, 2.21505045e-14]))\n",
      "(14, array([4.07343180e-14, 2.26394163e-14]))\n",
      "(15, array([3.54943829e-14, 1.51527652e-14]))\n",
      "(16, array([4.03388769e-14, 3.39389879e-14]))\n",
      "(17, array([3.30815232e-14, 2.27906696e-14]))\n",
      "(18, array([4.09849133e-14, 2.50702703e-14]))\n",
      "(19, array([3.27690210e-14, 2.43178127e-14]))\n",
      "(20, array([2.88633338e-14, 2.08752615e-14]))\n",
      "(21, array([4.14488782e-14, 2.54296213e-14]))\n",
      "(22, array([3.49583282e-14, 2.67998030e-14]))\n",
      "(23, array([3.11082589e-14, 2.27288790e-14]))\n",
      "(24, array([4.29164686e-14, 3.25301303e-14]))\n",
      "(25, array([3.94696996e-14, 2.14609656e-14]))\n",
      "(26, array([4.92816209e-14, 2.42651387e-14]))\n",
      "(27, array([7.54242696e-14, 2.94302329e-14]))\n",
      "(28, array([9.09508744e-14, 4.51294847e-14]))\n",
      "(29, array([1.39965636e-13, 1.72320977e-14]))\n",
      "(30, array([1.92633390e-13, 4.52257528e-14]))\n",
      "(31, array([2.69689825e-13, 3.14758359e-14]))\n",
      "(32, array([4.05796779e-13, 6.77286387e-14]))\n",
      "(33, array([5.49747215e-13, 1.22481443e-13]))\n",
      "(34, array([7.53848902e-13, 2.26924223e-13]))\n",
      "(35, array([2.09089586e-12, 8.47163824e-13]))\n",
      "(36, array([3.72945689e-12, 2.33624015e-12]))\n",
      "(37, array([86.8357311 , 79.96875059]))\n",
      "\n",
      "('decoder_null', 'n_o')\n",
      "(7, 0)\n",
      "('seg', 0)\n",
      "38\n",
      "(0, array([3.40719661e-14, 1.65199807e-14]))\n",
      "(1, array([3.02489019e-14, 1.73066673e-14]))\n",
      "(2, array([4.09866185e-14, 3.01913263e-14]))\n",
      "(3, array([3.84572185e-14, 2.23971489e-14]))\n",
      "(4, array([2.97071287e-14, 1.87757077e-14]))\n",
      "(5, array([4.44090766e-14, 2.48749977e-14]))\n",
      "(6, array([3.56773404e-14, 1.96452743e-14]))\n",
      "(7, array([3.44619566e-14, 1.85667098e-14]))\n",
      "(8, array([2.93709635e-14, 1.42012003e-14]))\n",
      "(9, array([4.30450621e-14, 2.16352132e-14]))\n",
      "(10, array([2.86070091e-14, 2.06788546e-14]))\n",
      "(11, array([4.00138865e-14, 1.88407193e-14]))\n",
      "(12, array([4.06658145e-14, 2.16065713e-14]))\n",
      "(13, array([3.08180001e-14, 2.95198005e-14]))\n",
      "(14, array([3.5546832e-14, 2.2705536e-14]))\n",
      "(15, array([3.41322801e-14, 1.94795797e-14]))\n",
      "(16, array([3.35030356e-14, 3.04217481e-14]))\n",
      "(17, array([3.14951788e-14, 2.67780080e-14]))\n",
      "(18, array([3.55560190e-14, 2.30202855e-14]))\n",
      "(19, array([3.70601110e-14, 2.52785533e-14]))\n",
      "(20, array([2.92490965e-14, 2.39676468e-14]))\n",
      "(21, array([3.05444998e-14, 2.06018242e-14]))\n",
      "(22, array([2.21701031e-14, 2.04972253e-14]))\n",
      "(23, array([3.16061355e-14, 2.29754485e-14]))\n",
      "(24, array([3.3896669e-14, 2.2684557e-14]))\n",
      "(25, array([2.81593956e-14, 1.71380432e-14]))\n",
      "(26, array([2.64323386e-14, 2.41741805e-14]))\n",
      "(27, array([3.45247623e-14, 2.22536022e-14]))\n",
      "(28, array([2.81522617e-14, 1.93680490e-14]))\n",
      "(29, array([3.31354222e-14, 2.12829116e-14]))\n",
      "(30, array([4.81377948e-14, 2.78382346e-14]))\n",
      "(31, array([3.78469685e-14, 2.20465643e-14]))\n",
      "(32, array([3.26663930e-14, 1.62836005e-14]))\n",
      "(33, array([7.77018993e-14, 3.99660046e-14]))\n",
      "(34, array([1.60247064e-13, 1.17035598e-13]))\n",
      "(35, array([1.64911975e-12, 8.05268204e-13]))\n",
      "(36, array([3.73035477e-12, 2.33962889e-12]))\n",
      "(37, array([86.8357311 , 79.96875059]))\n",
      "\n",
      "('full', 'n_do')\n",
      "(7, 0)\n",
      "('seg', 0)\n",
      "38\n",
      "(0, array([18.51338383, 11.31797325]))\n",
      "(1, array([18.51440315, 11.31784406]))\n",
      "(2, array([18.51591177, 11.31771204]))\n",
      "(3, array([18.51802165, 11.31759456]))\n",
      "(4, array([18.52083414, 11.31751869]))\n",
      "(5, array([18.52441756, 11.31752384]))\n",
      "(6, array([18.52877372, 11.31766426]))\n",
      "(7, array([18.53379039, 11.3180108 ]))\n",
      "(8, array([18.53917728, 11.31865112]))\n",
      "(9, array([18.54438454, 11.31968709]))\n",
      "(10, array([18.54850535, 11.32122775]))\n",
      "(11, array([18.5501694 , 11.32337629]))\n",
      "(12, array([18.54744034, 11.3262093 ]))\n",
      "(13, array([18.5377384 , 11.32974765]))\n",
      "(14, array([18.51781575, 11.33391882]))\n",
      "(15, array([18.48381469, 11.33851213]))\n",
      "(16, array([18.43143252, 11.34312837]))\n",
      "(17, array([18.35620169, 11.34712437]))\n",
      "(18, array([18.25387013, 11.34954915]))\n",
      "(19, array([18.12084235, 11.34906095]))\n",
      "(20, array([17.95462473, 11.34380229]))\n",
      "(21, array([17.75421049, 11.33119263]))\n",
      "(22, array([17.5203327 , 11.30757083]))\n",
      "(23, array([17.25547412, 11.26757931]))\n",
      "(24, array([16.96339042, 11.2031254 ]))\n",
      "(25, array([16.647572  , 11.10169199]))\n",
      "(26, array([16.30739051, 10.94373212]))\n",
      "(27, array([15.92957361, 10.69891028]))\n",
      "(28, array([15.47158891, 10.32098121]))\n",
      "(29, array([14.83437641,  9.74083165]))\n",
      "(30, array([13.82809973,  8.85655647]))\n",
      "(31, array([12.14785356,  7.51914455]))\n",
      "(32, array([9.38875149, 5.51293884]))\n",
      "(33, array([5.13723156, 2.56170469]))\n",
      "(34, array([2.95047716, 1.44351973]))\n",
      "(35, array([11.68939093,  8.26212882]))\n",
      "(36, array([2.67900942e-12, 1.84510352e-12]))\n",
      "(37, array([86.8357311 , 79.96875059]))\n"
     ]
    }
   ],
   "source": [
    "for md in [('decoder_null', 'n_do'), ('decoder_null', 'n_o'), ('full', 'n_do')]:\n",
    "    print('')\n",
    "    print(md)\n",
    "    m = move_list[-3] #movement condition\n",
    "    print(m)\n",
    "    move_lqr = lqr_dm[md[0]]['move_lqr_n'][m[0], m[1], md[1]]\n",
    "    \n",
    "    num_seg = len(move_lqr['K_list'])\n",
    "    \n",
    "    for seg in range(num_seg):\n",
    "        print('seg', seg)\n",
    "        K_list = move_lqr['K_list'][seg]\n",
    "        num_samples = K_list.shape[1]-1\n",
    "        print(num_samples)\n",
    "        for i in range(num_samples):\n",
    "            #print(i)\n",
    "            K = K_list[0,i]\n",
    "            u,s,vh = np.linalg.svd(K)\n",
    "            u_dyn = u[:,:2]\n",
    "            angles = scipy.linalg.subspace_angles(u_dyn, u_d)\n",
    "\n",
    "            print(i, np.rad2deg(angles))\n",
    "    "
   ]
  },
  {
   "cell_type": "code",
   "execution_count": 128,
   "metadata": {},
   "outputs": [
    {
     "name": "stdout",
     "output_type": "stream",
     "text": [
      "\n",
      "('decoder_null', 'n_do')\n",
      "(7, 0)\n",
      "('seg', 0)\n",
      "38\n",
      "(36, array([3.72945689e-12, 2.33624015e-12]))\n",
      "[1.02280566e+00 7.53629204e-01 1.44277789e-14 9.67197377e-15\n",
      " 6.28600808e-15 5.65154617e-15 4.02305174e-15 3.53910305e-15\n",
      " 2.51117695e-15 1.35923034e-15 1.13744074e-15 9.68434913e-16\n",
      " 7.66791402e-16 4.35363556e-16 2.32394049e-16 1.18815124e-16\n",
      " 1.06711793e-16 5.64555508e-17 1.54388865e-17 1.12765319e-17]\n",
      "(37, array([86.8357311 , 79.96875059]))\n",
      "[-0. -0. -0. -0. -0. -0. -0. -0. -0. -0. -0. -0. -0. -0. -0. -0. -0. -0.\n",
      " -0. -0.]\n",
      "\n",
      "('decoder_null', 'n_o')\n",
      "(7, 0)\n",
      "('seg', 0)\n",
      "38\n",
      "(36, array([3.73035477e-12, 2.33962889e-12]))\n",
      "[1.02280566e+00 7.53629204e-01 1.14667523e-14 7.86521276e-17\n",
      " 7.21488249e-17 4.01663656e-17 3.38534314e-17 2.70292921e-17\n",
      " 2.46706193e-17 1.56652104e-17 1.29864676e-17 8.08922712e-18\n",
      " 7.52995178e-18 6.23878566e-18 5.37544157e-18 4.44498010e-18\n",
      " 2.99411744e-18 1.15847156e-18 8.18986681e-19 2.26928731e-19]\n",
      "(37, array([86.8357311 , 79.96875059]))\n",
      "[-0. -0. -0. -0. -0. -0. -0. -0. -0. -0. -0. -0. -0. -0. -0. -0. -0. -0.\n",
      " -0. -0.]\n",
      "\n",
      "('full', 'n_do')\n",
      "(7, 0)\n",
      "('seg', 0)\n",
      "38\n",
      "(36, array([2.67900942e-12, 1.84510352e-12]))\n",
      "[1.70720448e+00 1.10523671e+00 3.53324136e-14 6.43537446e-15\n",
      " 5.17586204e-15 4.48994779e-15 3.87300468e-15 2.80363737e-15\n",
      " 1.87097396e-15 1.60756646e-15 1.12311098e-15 9.35078109e-16\n",
      " 7.24796750e-16 5.57007094e-16 2.74599009e-16 1.99889151e-16\n",
      " 1.30940956e-16 8.29736052e-17 4.54495653e-17 1.63358190e-17]\n",
      "(37, array([86.8357311 , 79.96875059]))\n",
      "[-0. -0. -0. -0. -0. -0. -0. -0. -0. -0. -0. -0. -0. -0. -0. -0. -0. -0.\n",
      " -0. -0.]\n"
     ]
    }
   ],
   "source": [
    "for md in [('decoder_null', 'n_do'), ('decoder_null', 'n_o'), ('full', 'n_do')]:\n",
    "    print('')\n",
    "    print(md)\n",
    "    m = move_list[-3] #movement condition\n",
    "    print(m)\n",
    "    move_lqr = lqr_dm[md[0]]['move_lqr_n'][m[0], m[1], md[1]]\n",
    "    \n",
    "    num_seg = len(move_lqr['K_list'])\n",
    "    \n",
    "    for seg in range(num_seg):\n",
    "        print('seg', seg)\n",
    "        K_list = move_lqr['K_list'][seg]\n",
    "        num_samples = K_list.shape[1]-1\n",
    "        print(num_samples)\n",
    "        for i in [36,37]:#range(num_samples):\n",
    "            #print(i)\n",
    "            K = K_list[0,i]\n",
    "            u,s,vh = np.linalg.svd(K)\n",
    "            u_dyn = u[:,:2]\n",
    "            angles = scipy.linalg.subspace_angles(u_dyn, u_d)\n",
    "\n",
    "            print(i, np.rad2deg(angles))\n",
    "            print(s)"
   ]
  },
  {
   "cell_type": "code",
   "execution_count": 129,
   "metadata": {},
   "outputs": [
    {
     "data": {
      "text/plain": [
       "(20L, 25L)"
      ]
     },
     "execution_count": 129,
     "metadata": {},
     "output_type": "execute_result"
    }
   ],
   "source": [
    "K.shape"
   ]
  },
  {
   "cell_type": "code",
   "execution_count": null,
   "metadata": {},
   "outputs": [],
   "source": [
    "#choose a trial of neural activity and confirm null variance"
   ]
  },
  {
   "cell_type": "code",
   "execution_count": null,
   "metadata": {},
   "outputs": [],
   "source": []
  }
 ],
 "metadata": {
  "kernelspec": {
   "display_name": "Python 2",
   "language": "python",
   "name": "python2"
  },
  "language_info": {
   "codemirror_mode": {
    "name": "ipython",
    "version": 2
   },
   "file_extension": ".py",
   "mimetype": "text/x-python",
   "name": "python",
   "nbconvert_exporter": "python",
   "pygments_lexer": "ipython2",
   "version": "2.7.17"
  }
 },
 "nbformat": 4,
 "nbformat_minor": 2
}
