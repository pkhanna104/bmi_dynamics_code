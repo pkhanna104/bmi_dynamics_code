{
 "cells": [
  {
   "cell_type": "code",
   "execution_count": 2,
   "metadata": {},
   "outputs": [],
   "source": [
    "%load_ext autoreload\n",
    "%autoreload 2"
   ]
  },
  {
   "cell_type": "code",
   "execution_count": 3,
   "metadata": {},
   "outputs": [],
   "source": [
    "#Adapted from: \n",
    "# lqr_neural_error_dynamics.ipynb\n",
    "\n",
    "import scipy.io as sio\n",
    "import scipy.stats as sio_stat\n",
    "import scipy.interpolate\n",
    "import numpy as np\n",
    "import pandas as pd\n",
    "import xarray as xr\n",
    "import matplotlib.pyplot as plt \n",
    "\n",
    "import os\n",
    "import pickle\n",
    "import sys\n",
    "import copy\n",
    "\n",
    "import time\n",
    "import pylab as pl\n",
    "from IPython import display\n",
    "\n",
    "from bmi_dynamics_code import behavior_co_obs as bmi_b\n",
    "from bmi_dynamics_code import data_for_v as preeyacode\n",
    "from bmi_dynamics_code import util as bmi_util\n",
    "\n",
    "import timeit\n",
    "from sklearn import decomposition as skl_decomp\n",
    "\n",
    "import statsmodels.api as sm\n",
    "import statsmodels.formula.api as smf\n",
    "\n",
    "from sklearn.linear_model import LinearRegression\n",
    "from sklearn.linear_model import Ridge\n",
    "\n",
    "%matplotlib notebook"
   ]
  },
  {
   "cell_type": "code",
   "execution_count": 4,
   "metadata": {},
   "outputs": [],
   "source": [
    "%matplotlib notebook"
   ]
  },
  {
   "cell_type": "code",
   "execution_count": 5,
   "metadata": {},
   "outputs": [],
   "source": [
    "load_dir = r'D:\\Dropbox\\BMI_co_obs_paper\\data'\n",
    "load_path = os.path.join(load_dir, 'dynamics_for_v.pkl')\n",
    "\n",
    "with open(load_path, 'rb') as f: \n",
    "    r = pickle.load(f)"
   ]
  },
  {
   "cell_type": "code",
   "execution_count": 6,
   "metadata": {},
   "outputs": [
    {
     "data": {
      "text/plain": [
       "[('grom', 8, 'b'),\n",
       " ('jeev', 2, 'b'),\n",
       " ('jeev', 1, 'b'),\n",
       " ('grom', 4, 'b'),\n",
       " ('grom', 5, 'b'),\n",
       " ('grom', 2, 'b'),\n",
       " ('grom', 5, 'A'),\n",
       " ('grom', 2, 'A'),\n",
       " ('grom', 1, 'A'),\n",
       " ('jeev', 3, 'A'),\n",
       " ('grom', 1, 'b'),\n",
       " ('grom', 7, 'b'),\n",
       " ('jeev', 0, 'b'),\n",
       " ('grom', 0, 'b'),\n",
       " ('grom', 0, 'A'),\n",
       " ('jeev', 0, 'A'),\n",
       " ('grom', 6, 'b'),\n",
       " ('grom', 8, 'A'),\n",
       " ('jeev', 3, 'b'),\n",
       " ('grom', 7, 'A'),\n",
       " ('grom', 3, 'A'),\n",
       " ('jeev', 1, 'A'),\n",
       " ('grom', 6, 'A'),\n",
       " ('grom', 3, 'b'),\n",
       " ('jeev', 2, 'A'),\n",
       " ('grom', 4, 'A')]"
      ]
     },
     "execution_count": 6,
     "metadata": {},
     "output_type": "execute_result"
    }
   ],
   "source": [
    "r.keys()"
   ]
  },
  {
   "cell_type": "code",
   "execution_count": null,
   "metadata": {},
   "outputs": [],
   "source": [
    "load_dir = r'D:\\Dropbox\\BMI_co_obs_paper\\data'\n",
    "load_path = os.path.join(load_dir, 'decoders_for_v.pkl')\n",
    "# os.path.exists(load_path)\n",
    "\n",
    "with open(load_path, 'rb') as f: \n",
    "    r = pickle.load(f)\n",
    "# for (k,v) in r.items():\n",
    "#     exec(k+'=v')"
   ]
  },
  {
   "cell_type": "code",
   "execution_count": null,
   "metadata": {},
   "outputs": [],
   "source": [
    "r.keys()"
   ]
  },
  {
   "cell_type": "code",
   "execution_count": null,
   "metadata": {},
   "outputs": [],
   "source": [
    "#Code used to save the decoders: "
   ]
  },
  {
   "cell_type": "code",
   "execution_count": null,
   "metadata": {},
   "outputs": [],
   "source": [
    "# def save_decoders(): \n",
    "#     decoder_dict = {}\n",
    "#     for i_a, animal in enumerate(['grom', 'jeev']):\n",
    "#         for day_ix in range(analysis_config.data_params['%s_ndays'%animal]):\n",
    "#             ### get decoder: \n",
    "#             if animal == 'grom':\n",
    "#                 F, KG = util_fcns.get_grom_decoder(day_ix)\n",
    "#             elif animal == 'jeev':\n",
    "#                 F = util_fcns.get_jeev_F(day_ix)\n",
    "#                 ### Returns a 2 x Nneurons estimated Kalman Gain matrix \n",
    "#                 KG_sub = util_fcns.get_jeev_decoder(day_ix)\n",
    "#                 ### Populate the 7 x Nneurons matrix\n",
    "#                 ### Confirmed from previous analysis that neural push only \n",
    "#                 ### ever effects velocity (on current timestep), not position \n",
    "#                 KG = np.zeros((7, KG_sub.shape[1]))\n",
    "#                 KG[[3, 5], :] = KG_sub.copy()\n",
    "#             #### Format of matrices is [Xpos,Zpos,Ypos, Xvel,Zvel,Yvel, offset]: 7 dim\n",
    "#             #### This is a 2D task, so Zpos/Zvel are irrelevant, so removing them:\n",
    "#             keep_ix = [0, 2, 3, 5, 6] \n",
    "#             KG_xy = KG[keep_ix, :]\n",
    "#             F_xy = F[np.ix_(keep_ix, keep_ix)]\n",
    "#             ### Shoudl yield a 5 x Nneurons and 5x5 matrix: \n",
    "#             assert(KG_xy.shape[0] == F_xy.shape[0] == F_xy.shape[1] == 5)\n",
    "#             decoder_dict[animal, day_ix, 'KG'] = KG_xy.copy()\n",
    "#             decoder_dict[animal, day_ix, 'F'] = F_xy.copy()\n",
    "#     pickle.dump(decoder_dict, open(os.path.join(analysis_config.config['BMI_DYN'], 'scripts', 'decoders_for_v.pkl'), 'wb'))"
   ]
  },
  {
   "cell_type": "code",
   "execution_count": null,
   "metadata": {},
   "outputs": [],
   "source": [
    "# def save_decoders(): \n",
    "#     decoder_dict = {}\n",
    "#     dynamics_dict = {}\n",
    "#     for i_a, animal in enumerate(['grom', 'jeev']):\n",
    "#         model_fname = analysis_config.config[animal+'_pref']+'tuning_models_'+animal+'_model_set'+str(6)+'_.pkl'\n",
    "#         model_data = pickle.load(open(model_fname, 'rb'))\n",
    "#         for day_ix in range(analysis_config.data_params['%s_ndays'%animal]):\n",
    "#             ### get decoder: \n",
    "#             if animal == 'grom':\n",
    "#                 F, KG = util_fcns.get_grom_decoder(day_ix)\n",
    "#             elif animal == 'jeev':\n",
    "#                 F = util_fcns.get_jeev_F(day_ix)\n",
    "#                 ### Returns a 2 x Nneurons estimated Kalman Gain matrix \n",
    "#                 KG_sub = util_fcns.get_jeev_decoder(day_ix)\n",
    "#                 ### Populate the 7 x Nneurons matrix\n",
    "#                 ### Confirmed from previous analysis that neural push only \n",
    "#                 ### ever effects velocity (on current timestep), not position \n",
    "#                 KG = np.zeros((7, KG_sub.shape[1]))\n",
    "#                 KG[[3, 5], :] = KG_sub.copy()\n",
    "#             #### Format of matrices is [Xpos,Zpos,Ypos, Xvel,Zvel,Yvel, offset]: 7 dim\n",
    "#             #### This is a 2D task, so Zpos/Zvel are irrelevant, so removing them:\n",
    "#             keep_ix = [0, 2, 3, 5, 6] \n",
    "#             KG_xy = KG[keep_ix, :]\n",
    "#             F_xy = F[np.ix_(keep_ix, keep_ix)]\n",
    "#             ### Shoudl yield a 5 x Nneurons and 5x5 matrix: \n",
    "#             assert(KG_xy.shape[0] == F_xy.shape[0] == F_xy.shape[1] == 5)\n",
    "#             decoder_dict[animal, day_ix, 'KG'] = KG_xy.copy()\n",
    "#             decoder_dict[animal, day_ix, 'F'] = F_xy.copy()\n",
    "#             ### Get dynamics \n",
    "#             fold = 0\n",
    "#             mod = model_data[day_ix, 'hist_1pos_0psh_2spksm_1_spksp_0', fold, 0, 'model']\n",
    "#             dynamics_dict[animal, day_ix, 'A'] =  mod.coef_.copy()\n",
    "#             dynamics_dict[animal, day_ix, 'b'] =  mod.intercept_.copy()\n",
    "#     pickle.dump(decoder_dict, open(os.path.join(analysis_config.config['BMI_DYN'], 'scripts', 'decoders_for_v.pkl'), 'wb'))\n",
    "#     pickle.dump(dynamics_dict, open(os.path.join(analysis_config.config['BMI_DYN'], 'scripts', 'dynamics_for_v.pkl'), 'wb'))"
   ]
  },
  {
   "cell_type": "code",
   "execution_count": null,
   "metadata": {},
   "outputs": [],
   "source": [
    "r.keys()"
   ]
  },
  {
   "cell_type": "code",
   "execution_count": null,
   "metadata": {},
   "outputs": [],
   "source": []
  }
 ],
 "metadata": {
  "kernelspec": {
   "display_name": "Python 2",
   "language": "python",
   "name": "python2"
  },
  "language_info": {
   "codemirror_mode": {
    "name": "ipython",
    "version": 2
   },
   "file_extension": ".py",
   "mimetype": "text/x-python",
   "name": "python",
   "nbconvert_exporter": "python",
   "pygments_lexer": "ipython2",
   "version": "2.7.17"
  }
 },
 "nbformat": 4,
 "nbformat_minor": 2
}
