{
 "cells": [
  {
   "cell_type": "code",
   "execution_count": 1,
   "metadata": {},
   "outputs": [],
   "source": [
    "### Goals -- generate activity that reflects null dynamics + noise and null dynamics \n",
    "### make a 1D potent space; \n",
    "### make \"commands\"\n",
    "### look at distance from cond-spec to command pooled (match pool to cond-spec)\n",
    "### sample from pool to make shuffles "
   ]
  },
  {
   "cell_type": "code",
   "execution_count": 36,
   "metadata": {},
   "outputs": [],
   "source": [
    "def get_activity(dim = 30, nconds=10, cond_com=1000): \n",
    "    '''\n",
    "    method to generate activity according to null dynamics + null offset and zero dynamics + null offset\n",
    "    inputs: \n",
    "        dim: dimensionality of data. last dimension is potent space \n",
    "        nconds: number of conditions to analyze\n",
    "        cond_com: number of commands / condition \n",
    "    '''\n",
    "    cond = np.zeros((nconds*cond_com, )) \n",
    "    noise1 = np.random.randn(dim, nconds*cond_com)\n",
    "    noise2 = np.random.randn(dim, nconds*cond_com)\n",
    "    for nc in range(nconds): cond[nc*cond_com:(nc+1)*cond_com] = nc; \n",
    "    assert(len(np.nonzero(cond == 0)[0]) == cond_com)\n",
    "    \n",
    "    ### null offset \n",
    "    offset_full = np.random.randn(dim)\n",
    "    offset_null = offset_full.copy()\n",
    "    offset_null[-1] = 0.\n",
    "    \n",
    "    ## null dynamics : identity in null space, zero in potent space (last dimension)\n",
    "    dyn_eye = np.eye(dim - 1)\n",
    "    dyn = np.vstack(( np.hstack((dyn_eye, np.zeros((dim -1, 1)))), np.zeros((1, dim))))\n",
    "    \n",
    "    ## no dynamics \n",
    "    dyn0 = np.zeros_like(dyn)\n",
    "    \n",
    "    ## activity = Ax_t + b + noise \n",
    "    activity_null_do = np.dot(dyn, noise1) + offset_null[:, np.newaxis] + noise2\n",
    "    activity_null_o = np.dot(dyn0, noise1) + offset_null[:, np.newaxis] + noise2\n",
    "    \n",
    "    ## full activity \n",
    "    dyn_full = np.eye(dim)\n",
    "    activity_full_do = np.dot(dyn_full, noise1) + offset_full[:, np.newaxis] + noise2\n",
    "    activity_full_o = np.dot(dyn0, noise1) + offset_full[:, np.newaxis] + noise2\n",
    "    \n",
    "    \n",
    "    return activity_null_do, activity_null_o, activity_full_do, activity_full_o, cond"
   ]
  },
  {
   "cell_type": "code",
   "execution_count": 2,
   "metadata": {},
   "outputs": [],
   "source": [
    "def get_command_ids(pot_activity): \n",
    "    '''\n",
    "    get out command ids based on percentiles \n",
    "    acceptable command ids to analyze are indices 1, 2, 3, 4\n",
    "    '''\n",
    "    command_boundaries = np.array([np.percentile(pot_activity, 5), \n",
    "                                   np.percentile(pot_activity, 27.5),\n",
    "                                   np.percentile(pot_activity, 50.),\n",
    "                                   np.percentile(pot_activity, 72.5),\n",
    "                                   np.percentile(pot_activity, 95)])\n",
    "    \n",
    "    # returned index `i` satisfies \\`bins[i-1] <= x < bins[i]``\n",
    "    command_id = np.digitize(pot_activity, command_boundaries, right=False)\n",
    "    \n",
    "    return command_id"
   ]
  },
  {
   "cell_type": "code",
   "execution_count": 40,
   "metadata": {},
   "outputs": [],
   "source": [
    "def get_cond_com_pls_matched_inds(commands, condition, activity, nshuff=100): \n",
    "    '''\n",
    "    \n",
    "    '''\n",
    "    assert(len(commands) == len(condition) == activity.shape[1])\n",
    "    \n",
    "    cc_dist = {}\n",
    "    shuff_cc_dist = {} \n",
    "    \n",
    "    for com in [1, 2, 3, 4]: \n",
    "        for cond in range(10): \n",
    "            \n",
    "            ## command-condition \n",
    "            ix_cc = np.nonzero(np.logical_and(commands == com, condition == cond))[0]\n",
    "            \n",
    "            ## Find condition pool that matches this \n",
    "            ix_com = np.nonzero(commands == com)[0]\n",
    "            \n",
    "            ## Return indices that match \n",
    "            ix_com = match_ix(ix_cc, ix_com, activity[-1, :])\n",
    "            \n",
    "            if ix_com is not None: \n",
    "                \n",
    "                #print('Command %d Cond %d, ix_cc N=%d, ix_com N=%d'%(com, cond, len(ix_cc), len(ix_com)))\n",
    "                \n",
    "                shuff_cc_dist[com, cond] = []\n",
    "                \n",
    "                # Global pool\n",
    "                pool_mn = np.mean(activity[:, ix_com], axis=1)\n",
    "\n",
    "                # Shuffle_dist\n",
    "                for i_shuff in range(nshuff): \n",
    "                    \n",
    "                    ## which indices \n",
    "                    ix_ = np.random.permutation(len(ix_com))[:len(ix_cc)]\n",
    "                    mn_ = np.mean(activity[:, ix_com[ix_]], axis=1)\n",
    "                    shuff_cc_dist[com,cond].append(np.linalg.norm(pool_mn - mn_))\n",
    "                \n",
    "                cc_dist[com, cond] = np.linalg.norm(pool_mn - np.mean(activity[:, ix_cc], axis=1))\n",
    "    return cc_dist, shuff_cc_dist"
   ]
  },
  {
   "cell_type": "code",
   "execution_count": 41,
   "metadata": {},
   "outputs": [],
   "source": [
    "def match_ix(ix0, ix1, val): \n",
    "    ix1_keep = np.arange(len(ix1))\n",
    "    _, p = scipy.stats.ttest_ind(val[ix0], val[ix1[ix1_keep]])\n",
    "    \n",
    "    mn0 = np.mean(val[ix0])\n",
    "    st0 = np.std(val[ix0])\n",
    "    \n",
    "    while p < .4: \n",
    "        #print('    ix1kp=%d'%len(ix1_keep))\n",
    "        cost = np.abs((val[ix1[ix1_keep]] - mn0)/st0)\n",
    "        \n",
    "        # Drop last 5%: \n",
    "        N = len(ix1_keep)\n",
    "        keep_N = int(np.round(.95*N))\n",
    "        ix1_keep = np.argsort(cost)[:keep_N]\n",
    "        ix1_keep = np.sort(ix1_keep)\n",
    "    \n",
    "        _, p = scipy.stats.ttest_ind(val[ix0], val[ix1[ix1_keep]])\n",
    "        \n",
    "        if len(ix1_keep) <= len(ix0): \n",
    "            break\n",
    "    if p >= .4:\n",
    "        return ix1[ix1_keep]\n",
    "    else:\n",
    "        return None\n",
    "        \n",
    "    \n",
    "    "
   ]
  },
  {
   "cell_type": "code",
   "execution_count": 42,
   "metadata": {},
   "outputs": [],
   "source": [
    "def plot(cc_dist, shuff_cc_dist, title): \n",
    "    f, ax = plt.subplots()\n",
    "    for i_k, k in enumerate(cc_dist.keys()): \n",
    "        ax.plot(i_k, cc_dist[k], 'k.')\n",
    "\n",
    "        mn_shuff = np.mean(shuff_cc_dist[k])\n",
    "        st_shuff = np.std(shuff_cc_dist[k])\n",
    "        ax.plot([i_k, i_k], [mn_shuff - 2*st_shuff, mn_shuff+2*st_shuff], 'b-', alpha=.5)\n",
    "    ax.set_title(title)"
   ]
  },
  {
   "cell_type": "code",
   "execution_count": 43,
   "metadata": {},
   "outputs": [],
   "source": [
    "def plot2(cc_dist, shuff_cc_dist, x, ax = None): \n",
    "    norm = []\n",
    "    if ax is None: \n",
    "        f, ax = plt.subplots()\n",
    "    for i_k, k in enumerate(cc_dist.keys()): \n",
    "        mn_ = cc_dist[k]\n",
    "        mn_shuff = np.mean(shuff_cc_dist[k])\n",
    "        norm.append(mn_/mn_shuff)\n",
    "    ax.bar(x, np.mean(norm))\n",
    "    ax.errorbar(x, np.mean(norm), np.std(norm), marker='|', color='k')\n",
    "    return ax\n",
    "    "
   ]
  },
  {
   "cell_type": "code",
   "execution_count": 45,
   "metadata": {
    "scrolled": true
   },
   "outputs": [],
   "source": [
    "### Get activity \n",
    "a_null_do, a_null_o, a_full_do, a_full_o, cond = get_activity()"
   ]
  },
  {
   "cell_type": "code",
   "execution_count": 46,
   "metadata": {},
   "outputs": [
    {
     "data": {
      "text/plain": [
       "(0.8, 1.2)"
      ]
     },
     "execution_count": 46,
     "metadata": {},
     "output_type": "execute_result"
    },
    {
     "data": {
      "image/png": "[encoded data removed]",
      "text/plain": [
       "<Figure size 432x288 with 1 Axes>"
      ]
     },
     "metadata": {
      "needs_background": "light"
     },
     "output_type": "display_data"
    },
    {
     "data": {
      "image/png": "[encoded data removed]",
      "text/plain": [
       "<Figure size 432x288 with 1 Axes>"
      ]
     },
     "metadata": {
      "needs_background": "light"
     },
     "output_type": "display_data"
    },
    {
     "data": {
      "image/png": "[encoded data removed]",
      "text/plain": [
       "<Figure size 432x288 with 1 Axes>"
      ]
     },
     "metadata": {
      "needs_background": "light"
     },
     "output_type": "display_data"
    }
   ],
   "source": [
    "############### NULL ################\n",
    "#####################################\n",
    "### Get commands -- analyze: 1, 2, 3, 4 (0 and 5 are out of bounds)\n",
    "commands_do = get_command_ids(a_null_do[-1, :])\n",
    "commands_o = get_command_ids(a_null_o[-1, :])\n",
    "\n",
    "assert(np.all(commands_o == commands_do))\n",
    "\n",
    "### For each condition / command, compare to pool\n",
    "cc_dist_do, shuff_cc_dist_do = get_cond_com_pls_matched_inds(commands_do, cond, a_null_do)\n",
    "cc_dist_o, shuff_cc_dist_o = get_cond_com_pls_matched_inds(commands_o, cond, a_null_o)\n",
    "\n",
    "plot(cc_dist_do, shuff_cc_dist_do, 'null_do')\n",
    "plot(cc_dist_o, shuff_cc_dist_o, 'null_o')\n",
    "\n",
    "ax = plot2(cc_dist_do, shuff_cc_dist_do, 0, None)\n",
    "ax = plot2(cc_dist_o, shuff_cc_dist_o, 1, ax)\n",
    "ax.set_ylim([.8, 1.2])"
   ]
  },
  {
   "cell_type": "code",
   "execution_count": 48,
   "metadata": {},
   "outputs": [
    {
     "data": {
      "text/plain": [
       "(0.8, 1.2)"
      ]
     },
     "execution_count": 48,
     "metadata": {},
     "output_type": "execute_result"
    },
    {
     "data": {
      "image/png": "[encoded data removed]",
      "text/plain": [
       "<Figure size 432x288 with 1 Axes>"
      ]
     },
     "metadata": {
      "needs_background": "light"
     },
     "output_type": "display_data"
    },
    {
     "data": {
      "image/png": "[encoded data removed]",
      "text/plain": [
       "<Figure size 432x288 with 1 Axes>"
      ]
     },
     "metadata": {
      "needs_background": "light"
     },
     "output_type": "display_data"
    },
    {
     "data": {
      "image/png": "[encoded data removed]",
      "text/plain": [
       "<Figure size 432x288 with 1 Axes>"
      ]
     },
     "metadata": {
      "needs_background": "light"
     },
     "output_type": "display_data"
    }
   ],
   "source": [
    "############### FULL ################\n",
    "#####################################\n",
    "### Get commands -- analyze: 1, 2, 3, 4 (0 and 5 are out of bounds)\n",
    "commands_do = get_command_ids(a_full_do[-1, :])\n",
    "commands_o = get_command_ids(a_full_o[-1, :])\n",
    "\n",
    "### For each condition / command, compare to pool\n",
    "cc_dist_do, shuff_cc_dist_do = get_cond_com_pls_matched_inds(commands_do, cond, a_full_do)\n",
    "cc_dist_o, shuff_cc_dist_o = get_cond_com_pls_matched_inds(commands_o, cond, a_full_o)\n",
    "\n",
    "plot(cc_dist_do, shuff_cc_dist_do, 'full_do')\n",
    "plot(cc_dist_o, shuff_cc_dist_o, 'full_o')\n",
    "\n",
    "ax = plot2(cc_dist_do, shuff_cc_dist_do, 0, None)\n",
    "ax = plot2(cc_dist_o, shuff_cc_dist_o, 1, ax)\n",
    "ax.set_ylim([.8, 1.2])"
   ]
  },
  {
   "cell_type": "code",
   "execution_count": 18,
   "metadata": {},
   "outputs": [
    {
     "name": "stdout",
     "output_type": "stream",
     "text": [
      "Automatic pdb calling has been turned ON\n"
     ]
    }
   ],
   "source": [
    "pdb"
   ]
  },
  {
   "cell_type": "code",
   "execution_count": 23,
   "metadata": {},
   "outputs": [
    {
     "name": "stdout",
     "output_type": "stream",
     "text": [
      "Warning: Cannot change to a different GUI toolkit: notebook. Using osx instead.\n"
     ]
    }
   ],
   "source": [
    "%matplotlib notebook"
   ]
  },
  {
   "cell_type": "code",
   "execution_count": null,
   "metadata": {},
   "outputs": [],
   "source": []
  }
 ],
 "metadata": {
  "kernelspec": {
   "display_name": "Python (new py2.7)",
   "language": "python",
   "name": "py27"
  },
  "language_info": {
   "codemirror_mode": {
    "name": "ipython",
    "version": 2
   },
   "file_extension": ".py",
   "mimetype": "text/x-python",
   "name": "python",
   "nbconvert_exporter": "python",
   "pygments_lexer": "ipython2",
   "version": "2.7.18"
  }
 },
 "nbformat": 4,
 "nbformat_minor": 4
}
