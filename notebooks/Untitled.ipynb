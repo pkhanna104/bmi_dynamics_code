{
 "cells": [
  {
   "cell_type": "code",
   "execution_count": 9,
   "metadata": {},
   "outputs": [
    {
     "name": "stdout",
     "output_type": "stream",
     "text": [
      "The autoreload extension is already loaded. To reload it, use:\n",
      "  %reload_ext autoreload\n"
     ]
    }
   ],
   "source": [
    "%load_ext autoreload\n",
    "%autoreload 2"
   ]
  },
  {
   "cell_type": "code",
   "execution_count": 11,
   "metadata": {},
   "outputs": [],
   "source": [
    "from ssm.util import random_rotation\n",
    "from ssm import LDS\n",
    "import ssm"
   ]
  },
  {
   "cell_type": "code",
   "execution_count": 21,
   "metadata": {},
   "outputs": [],
   "source": [
    "# Set the parameters of the HMM\n",
    "T = 1000   # number of time bins\n",
    "D_latent = 2      # number of latent dimensions\n",
    "D_obs = 10     # number of observed dimensions\n",
    "K = 4\n",
    "# Make an LDS with somewhat interesting dynamics parameters\n",
    "true_lds = LDS(N, D, emissions=\"gaussian\")"
   ]
  },
  {
   "cell_type": "code",
   "execution_count": 22,
   "metadata": {},
   "outputs": [],
   "source": [
    "def make_nascar_model():\n",
    "    As = [random_rotation(D_latent, np.pi/24.),\n",
    "      random_rotation(D_latent, np.pi/48.)]\n",
    "\n",
    "    # Set the center points for each system\n",
    "    centers = [np.array([+2.0, 0.]),\n",
    "           np.array([-2.0, 0.])]\n",
    "    bs = [-(A - np.eye(D_latent)).dot(center) for A, center in zip(As, centers)]\n",
    "\n",
    "    # Add a \"right\" state\n",
    "    As.append(np.eye(D_latent))\n",
    "    bs.append(np.array([+0.1, 0.]))\n",
    "\n",
    "    # Add a \"right\" state\n",
    "    As.append(np.eye(D_latent))\n",
    "    bs.append(np.array([-0.25, 0.]))\n",
    "\n",
    "    # Construct multinomial regression to divvy up the space\n",
    "    w1, b1 = np.array([+1.0, 0.0]), np.array([-2.0])   # x + b > 0 -> x > -b\n",
    "    w2, b2 = np.array([-1.0, 0.0]), np.array([-2.0])   # -x + b > 0 -> x < b\n",
    "    w3, b3 = np.array([0.0, +1.0]), np.array([0.0])    # y > 0\n",
    "    w4, b4 = np.array([0.0, -1.0]), np.array([0.0])    # y < 0\n",
    "    Rs = np.row_stack((100*w1, 100*w2, 10*w3,10*w4))\n",
    "    r = np.concatenate((100*b1, 100*b2, 10*b3, 10*b4))\n",
    "\n",
    "    true_rslds = ssm.SLDS(D_obs, K, D_latent,\n",
    "                      transitions=\"recurrent_only\",\n",
    "                      dynamics=\"diagonal_gaussian\",\n",
    "                      emissions=\"gaussian_orthog\",\n",
    "                      single_subspace=True)\n",
    "    true_rslds.dynamics.mu_init = np.tile(np.array([[0, 1]]), (K, 1))\n",
    "    true_rslds.dynamics.sigmasq_init = 1e-4 * np.ones((K, D_latent))\n",
    "    true_rslds.dynamics.As = np.array(As)\n",
    "    true_rslds.dynamics.bs = np.array(bs)\n",
    "    true_rslds.dynamics.sigmasq = 1e-4 * np.ones((K, D_latent))\n",
    "\n",
    "    true_rslds.transitions.Rs = Rs\n",
    "    true_rslds.transitions.r = r\n",
    "\n",
    "    true_rslds.emissions.inv_etas = np.log(1e-2) * np.ones((1, D_obs))\n",
    "    return true_rslds"
   ]
  },
  {
   "cell_type": "code",
   "execution_count": 23,
   "metadata": {},
   "outputs": [],
   "source": [
    "true_rslds = make_nascar_model()"
   ]
  },
  {
   "cell_type": "code",
   "execution_count": 37,
   "metadata": {},
   "outputs": [
    {
     "data": {
      "text/plain": [
       "<ssm.transitions.RecurrentOnlyTransitions at 0x7ff1a792b780>"
      ]
     },
     "execution_count": 37,
     "metadata": {},
     "output_type": "execute_result"
    }
   ],
   "source": [
    "true_rslds.transitions."
   ]
  },
  {
   "cell_type": "code",
   "execution_count": null,
   "metadata": {},
   "outputs": [],
   "source": []
  }
 ],
 "metadata": {
  "kernelspec": {
   "display_name": "mountainlab",
   "language": "python",
   "name": "mountainlab"
  },
  "language_info": {
   "codemirror_mode": {
    "name": "ipython",
    "version": 3
   },
   "file_extension": ".py",
   "mimetype": "text/x-python",
   "name": "python",
   "nbconvert_exporter": "python",
   "pygments_lexer": "ipython3",
   "version": "3.6.15"
  }
 },
 "nbformat": 4,
 "nbformat_minor": 4
}
