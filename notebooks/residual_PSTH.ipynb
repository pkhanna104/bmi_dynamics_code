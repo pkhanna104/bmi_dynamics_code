{
 "cells": [
  {
   "cell_type": "code",
   "execution_count": 1,
   "metadata": {},
   "outputs": [],
   "source": [
    "%load_ext autoreload"
   ]
  },
  {
   "cell_type": "code",
   "execution_count": 2,
   "metadata": {},
   "outputs": [],
   "source": [
    "%autoreload 2"
   ]
  },
  {
   "cell_type": "code",
   "execution_count": 3,
   "metadata": {},
   "outputs": [
    {
     "name": "stdout",
     "output_type": "stream",
     "text": [
      "/Users/preeyakhanna/bmi_dynamics_code\n"
     ]
    }
   ],
   "source": [
    "cd ~/bmi_dynamics_code"
   ]
  },
  {
   "cell_type": "code",
   "execution_count": 4,
   "metadata": {},
   "outputs": [],
   "source": [
    "from online_analysis import util_fcns\n",
    "import analysis_config"
   ]
  },
  {
   "cell_type": "code",
   "execution_count": 5,
   "metadata": {},
   "outputs": [],
   "source": [
    "import seaborn\n",
    "seaborn.set(font='Arial',context='talk',font_scale=1.2, style='white')\n"
   ]
  },
  {
   "cell_type": "code",
   "execution_count": 29,
   "metadata": {},
   "outputs": [
    {
     "data": {
      "text/plain": [
       "14.666666666666666"
      ]
     },
     "execution_count": 29,
     "metadata": {},
     "output_type": "execute_result"
    }
   ],
   "source": [
    "2*22/3."
   ]
  },
  {
   "cell_type": "code",
   "execution_count": 3,
   "metadata": {},
   "outputs": [],
   "source": [
    "### load data to make R2 plots -- compute residuals, \n",
    "### plot residuals as a fcn of time"
   ]
  },
  {
   "cell_type": "code",
   "execution_count": 2,
   "metadata": {
    "scrolled": false
   },
   "outputs": [
    {
     "ename": "NameError",
     "evalue": "name 'analysis_config' is not defined",
     "output_type": "error",
     "traceback": [
      "\u001b[0;31m---------------------------------------------------------------------------\u001b[0m",
      "\u001b[0;31mNameError\u001b[0m                                 Traceback (most recent call last)",
      "\u001b[0;32m<ipython-input-2-ae0fccf64011>\u001b[0m in \u001b[0;36m<module>\u001b[0;34m()\u001b[0m\n\u001b[1;32m      2\u001b[0m \u001b[0mfig\u001b[0m\u001b[0;34m,\u001b[0m \u001b[0max\u001b[0m \u001b[0;34m=\u001b[0m \u001b[0mplt\u001b[0m\u001b[0;34m.\u001b[0m\u001b[0msubplots\u001b[0m\u001b[0;34m(\u001b[0m\u001b[0mncols\u001b[0m \u001b[0;34m=\u001b[0m \u001b[0;36m2\u001b[0m\u001b[0;34m,\u001b[0m \u001b[0mfigsize\u001b[0m \u001b[0;34m=\u001b[0m\u001b[0;34m(\u001b[0m\u001b[0;36m8\u001b[0m\u001b[0;34m,\u001b[0m \u001b[0;36m4\u001b[0m\u001b[0;34m)\u001b[0m\u001b[0;34m)\u001b[0m\u001b[0;34m\u001b[0m\u001b[0m\n\u001b[1;32m      3\u001b[0m \u001b[0;34m\u001b[0m\u001b[0m\n\u001b[0;32m----> 4\u001b[0;31m \u001b[0mmag_boundaries\u001b[0m \u001b[0;34m=\u001b[0m \u001b[0mpickle\u001b[0m\u001b[0;34m.\u001b[0m\u001b[0mload\u001b[0m\u001b[0;34m(\u001b[0m\u001b[0mopen\u001b[0m\u001b[0;34m(\u001b[0m\u001b[0manalysis_config\u001b[0m\u001b[0;34m.\u001b[0m\u001b[0mdata_params\u001b[0m\u001b[0;34m[\u001b[0m\u001b[0;34m'mag_bound_file'\u001b[0m\u001b[0;34m]\u001b[0m\u001b[0;34m,\u001b[0m \u001b[0;34m'rb'\u001b[0m\u001b[0;34m)\u001b[0m\u001b[0;34m)\u001b[0m\u001b[0;34m\u001b[0m\u001b[0m\n\u001b[0m\u001b[1;32m      5\u001b[0m \u001b[0;34m\u001b[0m\u001b[0m\n\u001b[1;32m      6\u001b[0m \u001b[0mcolors\u001b[0m \u001b[0;34m=\u001b[0m \u001b[0manalysis_config\u001b[0m\u001b[0;34m.\u001b[0m\u001b[0mpref_colors\u001b[0m\u001b[0;34m\u001b[0m\u001b[0m\n",
      "\u001b[0;31mNameError\u001b[0m: name 'analysis_config' is not defined"
     ]
    },
    {
     "data": {
      "image/png": "[encoded data removed]",
      "text/plain": [
       "<Figure size 576x288 with 2 Axes>"
      ]
     },
     "metadata": {
      "needs_background": "light"
     },
     "output_type": "display_data"
    }
   ],
   "source": [
    "# fig, ax = plt.subplots(figsize =(5, 5))\n",
    "fig, ax = plt.subplots(ncols = 2, figsize =(8, 4))\n",
    "\n",
    "mag_boundaries = pickle.load(open(analysis_config.data_params['mag_bound_file'], 'rb'))\n",
    "\n",
    "colors = analysis_config.pref_colors\n",
    "#colors = ['gray']\n",
    "\n",
    "## store data for linear mixed effects stats later\n",
    "LME = dict(animal_day=[], early_late=[], norm=[])\n",
    "\n",
    "total_trials = 0; \n",
    "count_trial = 0; \n",
    "\n",
    "animal_windows = {}\n",
    "animal_windows['grom'] = [np.arange(10), np.arange(20, 30)]\n",
    "animal_windows['jeev'] = [np.arange(8), np.arange(15, 22)]\n",
    "\n",
    "for ia, animal in enumerate(['grom', 'jeev']):\n",
    "    \n",
    "    #### models ########\n",
    "    fname = analysis_config.config[animal+'_pref']+'tuning_models_%s_model_set6_.pkl'%animal\n",
    "    dat_ridge = pickle.load(open(fname, 'rb'))#, **pkl_kw)\n",
    "\n",
    "    #### predict forward #######\n",
    "    R2_pred_next_spks = []\n",
    "    R2_pred_next_command = []\n",
    "    \n",
    "    #### ndays ######\n",
    "    ndays = analysis_config.data_params['%s_ndays'%animal] \n",
    "    len_trl = []\n",
    "    \n",
    "    for day_ix in range(ndays):  \n",
    "        \n",
    "        #### spks true #####\n",
    "        spks      = dat_ridge[day_ix, 'spks']\n",
    "\n",
    "        ### ridge spks #####\n",
    "        pred_spks = dat_ridge[day_ix, 'hist_1pos_0psh_0spksm_1_spksp_0'] ## no conditioning \n",
    "        \n",
    "        ### Quick comparison for now ### \n",
    "        neural_push = dat_ridge[day_ix, 'np']\n",
    "\n",
    "        command_bins = util_fcns.commands2bins([neural_push], mag_boundaries, animal, day_ix, \n",
    "                                           vel_ix=[0, 1])[0]\n",
    "        \n",
    "        ### Get these out for SLDS data comparison ### \n",
    "        bin_num = dat_ridge[day_ix, 'bin_num']\n",
    "        \n",
    "        ### max - min \n",
    "        max_bin = np.max(bin_num)\n",
    "        min_bin = np.min(bin_num)\n",
    "        \n",
    "        trl = dat_ridge[day_ix, 'trl']\n",
    "        \n",
    "        day_norms = np.zeros((len(np.unique(trl)), max_bin-min_bin+1, ))\n",
    "        day_norms[:] = np.nan \n",
    "        \n",
    "        ### Compile norm of residual for each trial \n",
    "        for i_t, trl_i in enumerate(np.unique(trl)): \n",
    "            \n",
    "            ### trl indices ### \n",
    "            trl_ix = np.nonzero(trl == trl_i)[0]\n",
    "            \n",
    "            len_trl.append(len(trl_ix))\n",
    "            \n",
    "            for i_b, bin_num_i in enumerate(np.sort(bin_num[trl_ix])): \n",
    "                \n",
    "                ix_ = np.nonzero(bin_num[trl_ix] == bin_num_i)[0]\n",
    "                assert(len(ix_) == 1)\n",
    "                \n",
    "                ### Residual \n",
    "                resid = spks[trl_ix[ix_], :] - pred_spks[trl_ix[ix_], :]\n",
    "                \n",
    "                ### Norm / sqrt(# neurons)\n",
    "                day_norms[i_t, i_b] = np.linalg.norm(resid)/np.sqrt(len(resid))\n",
    "                \n",
    "                if (np.max(bin_num[trl_ix])) >= animal_windows[animal][1][1]: \n",
    "                    if i_b == animal_windows[animal][0][-1]: \n",
    "                        LME['animal_day'].append(ia*10 + day_ix)\n",
    "                        LME['early_late'].append(0) # early \n",
    "                        LME['norm'].append(np.mean(day_norms[i_t, animal_windows[animal][0]]))\n",
    "#                     elif i_b == 20: \n",
    "#                         LME['animal_day'].append(ia*10 + day_ix)\n",
    "#                         LME['early_late'].append(1) # mid \n",
    "#                         LME['norm'].append(np.mean(day_norms[i_t, i_b-10:i_b]))\n",
    "                    elif i_b == animal_windows[animal][1][-1]: \n",
    "                        LME['animal_day'].append(ia*10 + day_ix)\n",
    "                        LME['early_late'].append(2) # mid \n",
    "                        LME['norm'].append(np.mean(day_norms[i_t, animal_windows[animal][1]]))\n",
    "                        count_trial += 1\n",
    "            total_trials += 1\n",
    "                        \n",
    "        ### Plot the norm \n",
    "        #if animal == 'grom' and day_ix == 0: \n",
    "        T = np.arange(day_norms.shape[1])*.1\n",
    "\n",
    "        #mn = np.nanmean(day_norms, axis=0)\n",
    "        #day_norms = day_norms / mn[0]; # Normalize by first timepoint \n",
    "\n",
    "        mn = np.nanmean(day_norms, axis=0)\n",
    "        st = np.nanstd(day_norms, axis=0)/np.sqrt(day_norms.shape[0])\n",
    "\n",
    "        ax[ia].fill_between(T, mn-st, mn+st, color=colors[day_ix], alpha=0.5)\n",
    "        ax[ia].plot(T, mn, '-',color=colors[day_ix])\n",
    "                \n",
    "    ### Print avg trl length\n",
    "    print('Animal %s' %(animal))\n",
    "    print(np.median(len_trl))\n",
    "  \n",
    "for axi in ax: \n",
    "    axi.set_xlim([0, 5.])\n",
    "    \n",
    "#ax.vlines(3., 0, 10, 'k', linestyle='dashed')\n",
    "#ax.set_ylim([6., 9.])\n",
    "#ax[1].set_xlim([0, 2.2])\n",
    "\n",
    "ax[0].set_ylim([3., 10.])\n",
    "ax[1].set_ylim([1.9, 3.9])\n",
    "\n",
    "ax[0].set_ylabel('norm(Resid.) / sqrt(# Neurons)')\n",
    "ax[0].set_xlabel('Seconds from trial start')\n",
    "ax[1].set_xlabel('Seconds from trial start') \n",
    "plt.tight_layout()\n",
    "#util_fcns.savefig(fig, 'eg_input_psth')"
   ]
  },
  {
   "cell_type": "code",
   "execution_count": 1,
   "metadata": {},
   "outputs": [
    {
     "ename": "NameError",
     "evalue": "name 'LME' is not defined",
     "output_type": "error",
     "traceback": [
      "\u001b[0;31m---------------------------------------------------------------------------\u001b[0m",
      "\u001b[0;31mNameError\u001b[0m                                 Traceback (most recent call last)",
      "\u001b[0;32m<ipython-input-1-0b588af5c7e5>\u001b[0m in \u001b[0;36m<module>\u001b[0;34m()\u001b[0m\n\u001b[1;32m      2\u001b[0m \u001b[0mf\u001b[0m\u001b[0;34m,\u001b[0m \u001b[0max\u001b[0m \u001b[0;34m=\u001b[0m \u001b[0mplt\u001b[0m\u001b[0;34m.\u001b[0m\u001b[0msubplots\u001b[0m\u001b[0;34m(\u001b[0m\u001b[0mncols\u001b[0m \u001b[0;34m=\u001b[0m \u001b[0;36m2\u001b[0m\u001b[0;34m,\u001b[0m \u001b[0mfigsize\u001b[0m\u001b[0;34m=\u001b[0m\u001b[0;34m(\u001b[0m\u001b[0;36m4\u001b[0m\u001b[0;34m,\u001b[0m \u001b[0;36m3\u001b[0m\u001b[0;34m)\u001b[0m\u001b[0;34m)\u001b[0m\u001b[0;34m\u001b[0m\u001b[0m\n\u001b[1;32m      3\u001b[0m \u001b[0;34m\u001b[0m\u001b[0m\n\u001b[0;32m----> 4\u001b[0;31m \u001b[0mLME\u001b[0m\u001b[0;34m[\u001b[0m\u001b[0;34m'animal_day'\u001b[0m\u001b[0;34m]\u001b[0m \u001b[0;34m=\u001b[0m \u001b[0mnp\u001b[0m\u001b[0;34m.\u001b[0m\u001b[0mhstack\u001b[0m\u001b[0;34m(\u001b[0m\u001b[0;34m(\u001b[0m\u001b[0mLME\u001b[0m\u001b[0;34m[\u001b[0m\u001b[0;34m'animal_day'\u001b[0m\u001b[0;34m]\u001b[0m\u001b[0;34m)\u001b[0m\u001b[0;34m)\u001b[0m\u001b[0;34m\u001b[0m\u001b[0m\n\u001b[0m\u001b[1;32m      5\u001b[0m \u001b[0mLME\u001b[0m\u001b[0;34m[\u001b[0m\u001b[0;34m'early_late'\u001b[0m\u001b[0;34m]\u001b[0m \u001b[0;34m=\u001b[0m \u001b[0mnp\u001b[0m\u001b[0;34m.\u001b[0m\u001b[0mhstack\u001b[0m\u001b[0;34m(\u001b[0m\u001b[0;34m(\u001b[0m\u001b[0mLME\u001b[0m\u001b[0;34m[\u001b[0m\u001b[0;34m'early_late'\u001b[0m\u001b[0;34m]\u001b[0m\u001b[0;34m)\u001b[0m\u001b[0;34m)\u001b[0m\u001b[0;34m\u001b[0m\u001b[0m\n\u001b[1;32m      6\u001b[0m \u001b[0mLME\u001b[0m\u001b[0;34m[\u001b[0m\u001b[0;34m'norm'\u001b[0m\u001b[0;34m]\u001b[0m \u001b[0;34m=\u001b[0m \u001b[0mnp\u001b[0m\u001b[0;34m.\u001b[0m\u001b[0mhstack\u001b[0m\u001b[0;34m(\u001b[0m\u001b[0;34m(\u001b[0m\u001b[0mLME\u001b[0m\u001b[0;34m[\u001b[0m\u001b[0;34m'norm'\u001b[0m\u001b[0;34m]\u001b[0m\u001b[0;34m)\u001b[0m\u001b[0;34m)\u001b[0m\u001b[0;34m\u001b[0m\u001b[0m\n",
      "\u001b[0;31mNameError\u001b[0m: name 'LME' is not defined"
     ]
    }
   ],
   "source": [
    "norm = False\n",
    "f, ax = plt.subplots(ncols = 2, figsize=(4, 3))\n",
    "\n",
    "LME['animal_day'] = np.hstack((LME['animal_day']))\n",
    "LME['early_late'] = np.hstack((LME['early_late']))\n",
    "LME['norm'] = np.hstack((LME['norm']))\n",
    "\n",
    "###### Plotting ######\n",
    "for ia, animal in enumerate(['grom', 'jeev']): \n",
    "    ndays = analysis_config.data_params['%s_ndays'%animal] \n",
    "    EL = []; \n",
    "    \n",
    "    for day_ix in range(ndays): \n",
    "        ix = np.nonzero(LME['animal_day'] == (ia*10 + day_ix))[0]\n",
    "        \n",
    "        e_ix = np.nonzero(LME['early_late'][ix] == 0)[0]\n",
    "        #m_ix = np.nonzero(LME['early_late'][ix] == 1)[0]\n",
    "        l_ix = np.nonzero(LME['early_late'][ix] == 2)[0]\n",
    "        \n",
    "        E = np.mean(LME['norm'][ix[e_ix]])\n",
    "        #M = np.mean(LME['norm'][ix[m_ix]])\n",
    "        L = np.mean(LME['norm'][ix[l_ix]])\n",
    "        \n",
    "        if norm: \n",
    "            L = L/E; \n",
    "            E = E/E; \n",
    "        \n",
    "        ax[ia].plot(np.arange(2), np.array([E, L]), 'k-')\n",
    "        EL.append([E, L])\n",
    "        \n",
    "    EL = np.vstack((EL))\n",
    "    ax[ia].bar(0, np.mean(EL[:, 0]), width=.8, alpha=.3, color='gray')\n",
    "    ax[ia].bar(1, np.mean(EL[:, 1]), width=.8, alpha=.3, color='gray')\n",
    "\n",
    "    #### print LME ########\n",
    "    animal_ix = np.nonzero(LME['animal_day'] >= (ia*10))[0]\n",
    "    print('Animal %s stats: '%animal)\n",
    "    util_fcns.run_LME(LME['animal_day'][animal_ix], \n",
    "                      LME['early_late'][animal_ix],\n",
    "                      LME['norm'][animal_ix])\n",
    "    print('')\n",
    "    print('')\n",
    "    print('')\n",
    "    \n",
    "if norm: \n",
    "    ax[0].text(0.5, 1., '***', fontsize=12)\n",
    "    ax[1].text(0.5, 1., '***', fontsize=12)\n",
    "\n",
    "    ax[0].set_ylim([.75, 1.05])\n",
    "    ax[1].set_ylim([.75, 1.05])\n",
    "\n",
    "else: \n",
    "    ax[0].text(0.5, 9.4, '***', fontsize=12)\n",
    "    ax[1].text(0.5, 3.5, '***', fontsize=12)\n",
    "\n",
    "    ax[0].set_ylim([3.4, 10.2])\n",
    "    ax[1].set_ylim([2.2, 3.7])\n",
    "\n",
    "for axi in ax: \n",
    "    axi.set_xticks([0, 1])\n",
    "    axi.set_xticklabels(['Early\\ntrial', 'Late\\ntrial'])\n",
    "if norm: \n",
    "    pass\n",
    "else:\n",
    "    ax[0].set_ylabel('norm(Resid.) / \\nsqrt(# Neurons)')\n",
    "plt.tight_layout()\n",
    "util_fcns.savefig(f, 'bar_plots_early_vs_late_trial')"
   ]
  },
  {
   "cell_type": "code",
   "execution_count": 42,
   "metadata": {},
   "outputs": [
    {
     "data": {
      "text/plain": [
       "0.7964922048997772"
      ]
     },
     "execution_count": 42,
     "metadata": {},
     "output_type": "execute_result"
    }
   ],
   "source": [
    "float(count_trial) / total_trials"
   ]
  },
  {
   "cell_type": "code",
   "execution_count": 13,
   "metadata": {},
   "outputs": [],
   "source": [
    "%matplotlib notebook"
   ]
  },
  {
   "cell_type": "code",
   "execution_count": null,
   "metadata": {},
   "outputs": [],
   "source": []
  }
 ],
 "metadata": {
  "kernelspec": {
   "display_name": "Python 2",
   "language": "python",
   "name": "python2"
  },
  "language_info": {
   "codemirror_mode": {
    "name": "ipython",
    "version": 2
   },
   "file_extension": ".py",
   "mimetype": "text/x-python",
   "name": "python",
   "nbconvert_exporter": "python",
   "pygments_lexer": "ipython2",
   "version": "2.7.18"
  }
 },
 "nbformat": 4,
 "nbformat_minor": 4
}
