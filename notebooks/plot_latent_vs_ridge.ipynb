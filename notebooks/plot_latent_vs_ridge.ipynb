{
 "cells": [
  {
   "cell_type": "code",
   "execution_count": 1,
   "metadata": {},
   "outputs": [],
   "source": [
    "%load_ext autoreload\n",
    "%autoreload 2"
   ]
  },
  {
   "cell_type": "code",
   "execution_count": 2,
   "metadata": {},
   "outputs": [
    {
     "name": "stdout",
     "output_type": "stream",
     "text": [
      "/Users/preeyakhanna/bmi_dynamics_code\n"
     ]
    }
   ],
   "source": [
    "cd ~/bmi_dynamics_code/"
   ]
  },
  {
   "cell_type": "code",
   "execution_count": 3,
   "metadata": {},
   "outputs": [],
   "source": [
    "from online_analysis import util_fcns\n",
    "import analysis_config"
   ]
  },
  {
   "cell_type": "code",
   "execution_count": 4,
   "metadata": {},
   "outputs": [],
   "source": [
    "mag_boundaries = pickle.load(open(analysis_config.data_params['mag_bound_file']))"
   ]
  },
  {
   "cell_type": "code",
   "execution_count": 62,
   "metadata": {},
   "outputs": [],
   "source": [
    "### This type of  code is used to plot the bar plots \n",
    "\n",
    "### Notes: full model is used to assess cyan / orange bars (not Loo_Ctrl)\n",
    "### R2 are assessed on the same indices as \"left out\"\n",
    "### Basically for a command to be considered for being left out, has to have enough density\n",
    "### So, we need to assess full spks on same data that \"left out\" is assessed on; \n",
    "### Esp since we know inclusion of some bins is favorable for R2, comparing LO to full R2 \n",
    "### wouldn't really be fair; \n",
    "\n",
    "### Leftout bins are from whats leftout in the condition,command PLUS removal of bin mag == 4 \n",
    "### (both in transition FROM and transition TO)\n",
    "\n",
    "# save_dict = {}\n",
    "# for cat in ['com', 'mov']:\n",
    "#     save_dict = generalization_plots.plot_loo_r2_overall(cat=cat, nshuffs = 2,\n",
    "#             model_nm = 'hist_1pos_0psh_2spksm_1_spksp_0', \n",
    "#                                                          return_trans_from_lo=False, \n",
    "#                                                          plot_action=False,save_bars = True,\n",
    "#                                                          save_dict = save_dict)\n",
    "#     other_color = analysis_config.blue_rgb\n",
    "# plot_act = False\n",
    "# generalization_plots.bar_plot_loo_r2_overall(save_dict, 'combo_mov_com_'+str(plot_act), other_color=other_color,\n",
    "#                                             fig4 = True, fig5 = False)"
   ]
  },
  {
   "cell_type": "code",
   "execution_count": 7,
   "metadata": {
    "scrolled": false
   },
   "outputs": [
    {
     "data": {
      "image/png": "[encoded data removed]",
      "text/plain": [
       "<Figure size 720x288 with 2 Axes>"
      ]
     },
     "metadata": {},
     "output_type": "display_data"
    }
   ],
   "source": [
    "### For the purposes here, let's just remove the mag 4 \n",
    "f, ax = plt.subplots(ncols = 2, figsize=(10, 4))\n",
    "\n",
    "for ia, animal in enumerate(['grom']):#, 'jeev']): \n",
    "    \n",
    "    fname = analysis_config.config[animal+'_pref']+'tuning_models_%s_model_set11_task_spec_pls_gen.pkl'%animal\n",
    "    dat = pickle.load(open(fname))\n",
    "    \n",
    "    fname2 = analysis_config.config[animal+'_pref']+'tuning_models_%s_model_set6_.pkl'%animal\n",
    "    dat_ridge = pickle.load(open(fname2))\n",
    "\n",
    "    R2_pred_next_spks = []\n",
    "    R2_pred_next_command = []\n",
    "    \n",
    "    for day_ix in range(1):#analysis_config.data_params['%s_ndays'%animal]): \n",
    "\n",
    "        spks      = dat_ridge[day_ix, 'spks']\n",
    "\n",
    "        ### Figure 5 ###\n",
    "        pred_spks = dat_ridge[day_ix, 'hist_1pos_0psh_0spksm_1_spksp_0'] ## no conditioning \n",
    "        pred_spks_latent = dat[day_ix, 'hist_1pos_0psh_0spksm_1_spksp_0_latentLDS'][:, :, 2] ### only did the condition-general one\n",
    "\n",
    "        ### Quick comparison for now ### \n",
    "        neural_push = dat_ridge[day_ix, 'np']\n",
    "\n",
    "        command_bins = util_fcns.commands2bins([neural_push], mag_boundaries, animal, day_ix, \n",
    "                                           vel_ix=[0, 1])[0]\n",
    "\n",
    "        ### load the SLDS data ### \n",
    "        slds_dat = pickle.load(open(''))\n",
    "        \n",
    "        \n",
    "        valid_analysis_ix = np.nonzero(command_bins[:, 0] < 4)[0]\n",
    "                \n",
    "        ### Get R2 for predicting next spkes ### \n",
    "        r2_spks = util_fcns.get_R2(spks[valid_analysis_ix, :], pred_spks[valid_analysis_ix, :])\n",
    "        r2_latent = util_fcns.get_R2(spks[valid_analysis_ix, :], pred_spks_latent[valid_analysis_ix, :])\n",
    "        R2_pred_next_spks.append([r2_spks, r2_latent])\n",
    "        \n",
    "        ### Get R2 for predicting next command ### \n",
    "        \n",
    "        KG = util_fcns.get_decoder(animal, day_ix)\n",
    "        r2_spks = util_fcns.get_R2(np.dot(spks[valid_analysis_ix, :], KG.T), np.dot(pred_spks[valid_analysis_ix, :],\n",
    "                                                                                   KG.T))\n",
    "        r2_latent = util_fcns.get_R2(np.dot(spks[valid_analysis_ix, :], KG.T), np.dot(pred_spks_latent[valid_analysis_ix, :],\n",
    "                                                                                     KG.T))\n",
    "        R2_pred_next_command.append([r2_spks, r2_latent])\n",
    "        \n",
    "        \n",
    "    for ir2i, (R2, r2_lab) in enumerate(zip([R2_pred_next_spks, R2_pred_next_command],\n",
    "                                 ['R2 pred spks', 'R2 pred com'])):   \n",
    "        R2 = np.vstack((R2))\n",
    "        ax[ir2i].bar(0+3*ia, np.mean(R2[:, 0]), color='cyan')\n",
    "        ax[ir2i].bar(1+3*ia, np.mean(R2[:, 1]), color='gray')\n",
    "        for i in range(R2.shape[0]): \n",
    "            ax[ir2i].plot(np.array([0, 1])+3*ia, R2[i, :], 'k-', linewidth=.5)\n",
    "        ax[ir2i].set_ylabel(r2_lab)\n",
    "        ax[ir2i].set_xticks([0, 1, 3, 4])\n",
    "        ax[ir2i].set_xticklabels(['Monk G\\n Ridge', 'Monk G\\n LDS','Monk J\\n Ridge', 'Monk J\\n LDS'])\n",
    "f.tight_layout()\n",
    "#f.savefig('dynamics_sims/r2_ridge_vs_full_LDS.png')"
   ]
  },
  {
   "cell_type": "code",
   "execution_count": 75,
   "metadata": {},
   "outputs": [],
   "source": [
    "KG = util_fcns.get_decoder(animal, day_ix)"
   ]
  },
  {
   "cell_type": "code",
   "execution_count": 76,
   "metadata": {},
   "outputs": [
    {
     "data": {
      "text/plain": [
       "(2, 21)"
      ]
     },
     "execution_count": 76,
     "metadata": {},
     "output_type": "execute_result"
    }
   ],
   "source": [
    "KG.shape"
   ]
  },
  {
   "cell_type": "code",
   "execution_count": 81,
   "metadata": {},
   "outputs": [
    {
     "data": {
      "text/plain": [
       "'2.7.8 (default, Oct 15 2014, 22:04:42) \\n[GCC 4.2.1 Compatible Apple LLVM 5.1 (clang-503.0.40)]'"
      ]
     },
     "execution_count": 81,
     "metadata": {},
     "output_type": "execute_result"
    }
   ],
   "source": [
    "import sys\n",
    "sys.version"
   ]
  },
  {
   "cell_type": "code",
   "execution_count": 82,
   "metadata": {},
   "outputs": [
    {
     "data": {
      "text/plain": [
       "u'/Users/preeyakhanna/bmi_dynamics_code'"
      ]
     },
     "execution_count": 82,
     "metadata": {},
     "output_type": "execute_result"
    }
   ],
   "source": [
    "pwd"
   ]
  },
  {
   "cell_type": "code",
   "execution_count": 84,
   "metadata": {},
   "outputs": [
    {
     "name": "stdout",
     "output_type": "stream",
     "text": [
      "/Users/preeyakhanna/Dropbox/TimeMachineBackups/grom2016\n"
     ]
    }
   ],
   "source": [
    "cd ../Dropbox/TimeMachineBackups/grom2016/"
   ]
  },
  {
   "cell_type": "code",
   "execution_count": 89,
   "metadata": {},
   "outputs": [],
   "source": [
    "kw = {}\n",
    "x = pickle.load(open('LDS_maxL_ndims.pkl', 'rb'), **kw)\n",
    "\n",
    "\n"
   ]
  },
  {
   "cell_type": "code",
   "execution_count": 88,
   "metadata": {},
   "outputs": [
    {
     "data": {
      "text/plain": [
       "{0: array([18]),\n",
       " 1: array([18]),\n",
       " 2: array([18]),\n",
       " 3: array([18]),\n",
       " 4: array([18]),\n",
       " 5: array([18]),\n",
       " 6: array([18]),\n",
       " 7: array([18]),\n",
       " 8: array([18]),\n",
       " (0, 'LLs'): array([[[ -99870.92502138,  -98649.66072799,  -98421.02034598,\n",
       "           -98184.32579224,  -98005.11840301,  -97819.93154768,\n",
       "           -97665.19940743,  -97576.14999567,  -97436.64462856],\n",
       "         [-110460.68375652, -109221.29910663, -108947.31948445,\n",
       "          -108649.50774238, -108417.56818889, -108284.93537852,\n",
       "          -108168.89438168, -108092.49814525, -108059.30538117],\n",
       "         [-108161.52003138, -106892.43955351, -106531.35806548,\n",
       "          -106325.93093501, -106109.8342879 , -105977.51043937,\n",
       "          -105855.23776912, -105809.18582508, -105693.60962923],\n",
       "         [-108161.52003138, -106892.43955351, -106531.35806548,\n",
       "          -106325.93093501, -106109.8342879 , -105977.51043937,\n",
       "          -105855.23776912, -105809.18582508, -105693.60962923],\n",
       "         [-108161.52003138, -106892.43955351, -106531.35806548,\n",
       "          -106325.93093501, -106109.8342879 , -105977.51043937,\n",
       "          -105855.23776912, -105809.18582508, -105693.60962923]]]),\n",
       " (0, 'dims'): array([ 2,  4,  6,  8, 10, 12, 14, 16, 18]),\n",
       " (1, 'LLs'): array([[[-45236.26066649, -44399.03513121, -44216.35434378,\n",
       "          -44061.44282025, -43981.86879544, -43916.52296115,\n",
       "          -43816.12288014, -43767.00577953, -43714.18671022],\n",
       "         [-44513.3117923 , -43728.20032982, -43575.22267686,\n",
       "          -43393.35694967, -43312.58868097, -43219.5787759 ,\n",
       "          -43113.29083451, -43052.68538092, -42970.61789631],\n",
       "         [-45944.88333646, -45162.11988633, -45008.71908701,\n",
       "          -44829.31889959, -44755.96998313, -44690.29202056,\n",
       "          -44592.40275241, -44521.67190767, -44446.03462201],\n",
       "         [-45944.88333646, -45162.11988633, -45008.71908701,\n",
       "          -44829.31889959, -44755.96998313, -44690.29202056,\n",
       "          -44592.40275241, -44521.67190767, -44446.03462201],\n",
       "         [-45944.88333646, -45162.11988633, -45008.71908701,\n",
       "          -44829.31889959, -44755.96998313, -44690.29202056,\n",
       "          -44592.40275241, -44521.67190767, -44446.03462201]]]),\n",
       " (1, 'dims'): array([ 2,  4,  6,  8, 10, 12, 14, 16, 18]),\n",
       " (2, 'LLs'): array([[[-155410.38957065, -155011.23745814, -153490.99212065,\n",
       "          -152878.12609057, -152531.34859742, -152320.42921987,\n",
       "          -152010.96628159, -151804.2339081 , -151587.01954451],\n",
       "         [-130820.25948095, -129857.52066018, -129131.76185253,\n",
       "          -128725.32472632, -128555.90190235, -128296.68038958,\n",
       "          -128142.71799127, -127821.45922179, -127636.07534885],\n",
       "         [-123047.67248434, -122165.38101714, -121484.07033223,\n",
       "          -121123.75857941, -120843.39717315, -120635.3243844 ,\n",
       "          -120388.06642166, -120126.65579486, -119931.7384397 ],\n",
       "         [-123047.67248434, -122165.38101714, -121484.07033223,\n",
       "          -121123.75857941, -120843.39717315, -120635.3243844 ,\n",
       "          -120388.06642166, -120126.65579486, -119931.7384397 ],\n",
       "         [-123047.67248434, -122165.38101714, -121484.07033223,\n",
       "          -121123.75857941, -120843.39717315, -120635.3243844 ,\n",
       "          -120388.06642166, -120126.65579486, -119931.7384397 ]]]),\n",
       " (2, 'dims'): array([ 2,  4,  6,  8, 10, 12, 14, 16, 18]),\n",
       " (3, 'LLs'): array([[[-73902.18166632, -73362.49997662, -73083.05223988,\n",
       "          -73033.20618019, -72849.99709744, -72701.49508814,\n",
       "          -72571.57366026, -72518.40701491, -72345.20616613],\n",
       "         [-75638.10708863, -74958.61655387, -74719.96926694,\n",
       "          -74652.43364689, -74513.15622783, -74372.78478302,\n",
       "          -74279.31376317, -74225.12902092, -74139.76191572],\n",
       "         [-76598.06786581, -75938.38472546, -75804.04310046,\n",
       "          -75701.16040455, -75587.20363989, -75413.27058554,\n",
       "          -75318.56422834, -75221.75225572, -75098.10514435],\n",
       "         [-76598.06786581, -75938.38472546, -75804.04310046,\n",
       "          -75701.16040455, -75587.20363989, -75413.27058554,\n",
       "          -75318.56422834, -75221.75225572, -75098.10514435],\n",
       "         [-76598.06786581, -75938.38472546, -75804.04310046,\n",
       "          -75701.16040455, -75587.20363989, -75413.27058554,\n",
       "          -75318.56422834, -75221.75225572, -75098.10514435]]]),\n",
       " (3, 'dims'): array([ 2,  4,  6,  8, 10, 12, 14, 16, 18]),\n",
       " (4, 'LLs'): array([[[-154356.81411403, -154405.31878341, -153585.7493083 ,\n",
       "          -153282.0464722 , -152923.56876127, -152649.29088819,\n",
       "          -152532.42344361, -152291.65963247, -152065.67670437],\n",
       "         [-171096.44576804, -171252.71015712, -170340.74387964,\n",
       "          -169862.92201889, -169672.36214299, -169337.51996018,\n",
       "          -169092.5313852 , -168879.17926141, -168714.92080787],\n",
       "         [-171099.76607391, -171209.38766095, -170357.67321263,\n",
       "          -169823.56005266, -169545.80222352, -169303.92487581,\n",
       "          -169048.13608239, -168855.29023856, -168746.26627013],\n",
       "         [-171099.76607391, -171209.38766095, -170357.67321263,\n",
       "          -169823.56005266, -169545.80222352, -169303.92487581,\n",
       "          -169048.13608239, -168855.29023856, -168746.26627013],\n",
       "         [-171099.76607391, -171209.38766095, -170357.67321263,\n",
       "          -169823.56005266, -169545.80222352, -169303.92487581,\n",
       "          -169048.13608239, -168855.29023856, -168746.26627013]]]),\n",
       " (4, 'dims'): array([ 2,  4,  6,  8, 10, 12, 14, 16, 18]),\n",
       " (5, 'LLs'): array([[[-128758.98229375, -127908.99269895, -127656.10847398,\n",
       "          -127442.48876565, -127300.08709473, -127138.53586257,\n",
       "          -127018.66354438, -126976.91375036, -126867.12347657],\n",
       "         [-129662.76212488, -128787.00284621, -128428.85275331,\n",
       "          -128246.58074671, -128090.13772041, -127902.64863002,\n",
       "          -127863.72726355, -127813.03707855, -127658.55585711],\n",
       "         [-132483.82565007, -131613.84886744, -131293.57597625,\n",
       "          -131150.50873538, -130901.21504306, -130756.29860429,\n",
       "          -130738.1039145 , -130581.57458377, -130525.93731554],\n",
       "         [-132483.82565007, -131613.84886744, -131293.57597625,\n",
       "          -131150.50873538, -130901.21504306, -130756.29860429,\n",
       "          -130738.1039145 , -130581.57458377, -130525.93731554],\n",
       "         [-132483.82565007, -131613.84886744, -131293.57597625,\n",
       "          -131150.50873538, -130901.21504306, -130756.29860429,\n",
       "          -130738.1039145 , -130581.57458377, -130525.93731554]]]),\n",
       " (5, 'dims'): array([ 2,  4,  6,  8, 10, 12, 14, 16, 18]),\n",
       " (6, 'LLs'): array([[[-54524.50734225, -53962.86863883, -53658.51985927,\n",
       "          -53457.06562415, -53392.79526952, -53250.28382434,\n",
       "          -53145.91779631, -53050.74982603, -52941.47765851],\n",
       "         [-58579.84913111, -58021.37589581, -57783.93455473,\n",
       "          -57682.40975749, -57536.54579441, -57372.62619479,\n",
       "          -57324.83786934, -57151.72318169, -57042.47983434],\n",
       "         [-52715.05787347, -52163.22661262, -51916.25479648,\n",
       "          -51759.59919312, -51686.36881499, -51538.52527592,\n",
       "          -51449.18435464, -51335.53784894, -51257.723357  ],\n",
       "         [-52715.05787347, -52163.22661262, -51916.25479648,\n",
       "          -51759.59919312, -51686.36881499, -51538.52527592,\n",
       "          -51449.18435464, -51335.53784894, -51257.723357  ],\n",
       "         [-52715.05787347, -52163.22661262, -51916.25479648,\n",
       "          -51759.59919312, -51686.36881499, -51538.52527592,\n",
       "          -51449.18435464, -51335.53784894, -51257.723357  ]]]),\n",
       " (6, 'dims'): array([ 2,  4,  6,  8, 10, 12, 14, 16, 18]),\n",
       " (7, 'LLs'): array([[[-92520.13469849, -92080.40862902, -91830.94562142,\n",
       "          -91654.81940099, -91514.75261569, -91303.84221604,\n",
       "          -91176.24228961, -91086.63301339, -90997.41388286],\n",
       "         [-94472.2965139 , -93821.57108425, -93733.11997864,\n",
       "          -93602.68369722, -93329.14207234, -93253.64747311,\n",
       "          -93207.61416049, -93012.44560913, -92910.06937725],\n",
       "         [-89470.43766984, -88884.79690895, -88628.58048291,\n",
       "          -88454.99573721, -88370.51870505, -88173.20822265,\n",
       "          -88090.58713078, -87958.41221735, -87899.7630777 ],\n",
       "         [-89470.43766984, -88884.79690895, -88628.58048291,\n",
       "          -88454.99573721, -88370.51870505, -88173.20822265,\n",
       "          -88090.58713078, -87958.41221735, -87899.7630777 ],\n",
       "         [-89470.43766984, -88884.79690895, -88628.58048291,\n",
       "          -88454.99573721, -88370.51870505, -88173.20822265,\n",
       "          -88090.58713078, -87958.41221735, -87899.7630777 ]]]),\n",
       " (7, 'dims'): array([ 2,  4,  6,  8, 10, 12, 14, 16, 18]),\n",
       " (8, 'LLs'): array([[[-100149.97840468,  -99632.39903405,  -99247.94720489,\n",
       "           -98887.91477181,  -98816.13942748,  -98705.12949879,\n",
       "           -98562.31831544,  -98478.21828711,  -98375.79794382],\n",
       "         [ -94639.99502952,  -93955.68782337,  -93547.91819032,\n",
       "           -93327.17515941,  -93209.65061479,  -93043.38083588,\n",
       "           -92960.73374428,  -92893.96749013,  -92792.28797084],\n",
       "         [ -98454.12559548,  -97723.12010078,  -97365.10021358,\n",
       "           -97156.02894181,  -97015.04129615,  -96857.42891515,\n",
       "           -96754.12295497,  -96610.60744957,  -96505.91448243],\n",
       "         [ -98454.12559548,  -97723.12010078,  -97365.10021358,\n",
       "           -97156.02894181,  -97015.04129615,  -96857.42891515,\n",
       "           -96754.12295497,  -96610.60744957,  -96505.91448243],\n",
       "         [ -98454.12559548,  -97723.12010078,  -97365.10021358,\n",
       "           -97156.02894181,  -97015.04129615,  -96857.42891515,\n",
       "           -96754.12295497,  -96610.60744957,  -96505.91448243]]]),\n",
       " (8, 'dims'): array([ 2,  4,  6,  8, 10, 12, 14, 16, 18])}"
      ]
     },
     "execution_count": 88,
     "metadata": {},
     "output_type": "execute_result"
    }
   ],
   "source": [
    "x"
   ]
  },
  {
   "cell_type": "code",
   "execution_count": null,
   "metadata": {},
   "outputs": [],
   "source": []
  }
 ],
 "metadata": {
  "kernelspec": {
   "display_name": "Python 2",
   "language": "python",
   "name": "python2"
  },
  "language_info": {
   "codemirror_mode": {
    "name": "ipython",
    "version": 2
   },
   "file_extension": ".py",
   "mimetype": "text/x-python",
   "name": "python",
   "nbconvert_exporter": "python",
   "pygments_lexer": "ipython2",
   "version": "2.7.8"
  }
 },
 "nbformat": 4,
 "nbformat_minor": 4
}
