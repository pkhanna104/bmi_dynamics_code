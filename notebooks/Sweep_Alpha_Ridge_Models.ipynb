{
 "cells": [
  {
   "cell_type": "code",
   "execution_count": 8,
   "metadata": {},
   "outputs": [
    {
     "name": "stdout",
     "output_type": "stream",
     "text": [
      "The autoreload extension is already loaded. To reload it, use:\n",
      "  %reload_ext autoreload\n"
     ]
    },
    {
     "name": "stderr",
     "output_type": "stream",
     "text": [
      "/opt/local/Library/Frameworks/Python.framework/Versions/2.7/lib/python2.7/json/encoder.py:207: DeprecationWarning: Interpreting naive datetime as local 2020-05-07 14:06:25.910186. Please add timezone info to timestamps.\n",
      "  chunks = self.iterencode(o, _one_shot=True)\n",
      "\n"
     ]
    }
   ],
   "source": [
    "import os\n",
    "os.chdir(os.environ['BMI_DYN'])\n",
    "%load_ext autoreload\n",
    "%autoreload 2"
   ]
  },
  {
   "cell_type": "code",
   "execution_count": 9,
   "metadata": {},
   "outputs": [
    {
     "name": "stderr",
     "output_type": "stream",
     "text": [
      "/opt/local/Library/Frameworks/Python.framework/Versions/2.7/lib/python2.7/json/encoder.py:207: DeprecationWarning: Interpreting naive datetime as local 2020-05-07 14:06:26.353202. Please add timezone info to timestamps.\n",
      "  chunks = self.iterencode(o, _one_shot=True)\n",
      "\n"
     ]
    }
   ],
   "source": [
    "from online_analysis import generate_models"
   ]
  },
  {
   "cell_type": "code",
   "execution_count": null,
   "metadata": {},
   "outputs": [],
   "source": [
    "######## MODEL TYPES ########\n",
    "### 1) predict spks w/ \n",
    "    # i) current push\n",
    "    # ii) current push + prev position \n",
    "    # iii) current push + prev pos + vel\n",
    "    # iv) current push + prev pos + vel + tg; \n",
    "    # v) current push + prev pos + vel + tg + task; \n",
    "    # vi) current push + prev pos + vel + tg + task + neural\n",
    "    \n",
    "### 2) predict push w/ various choices \n",
    "    # i) neural activity (shoudl be 100%)\n",
    "    # ii) previous neural activity  [direct relationship]\n",
    "    # iii) previous push [action policy]\n",
    "    # iv) previous push / pos / vel [action policy on state]\n",
    "    # v) lots of previous push \n",
    "    # vi) lots of previous push + y_{t-1}\n",
    "    # vii) lots of previous push + y{t-1}...y{t-4}\n",
    "    \n",
    "### 3) predict spikes w/\n",
    "    # i) current spikes (100%)\n",
    "    # ii) prev spks (dynammics model)\n",
    "    # iii) prev action (dynamics only on potent activity -- \n",
    "        # does null activity help in prediction of next spiking activity)\n",
    "    \n",
    "### 4) \n",
    "    \n"
   ]
  },
  {
   "cell_type": "code",
   "execution_count": null,
   "metadata": {
    "scrolled": true
   },
   "outputs": [
    {
     "name": "stderr",
     "output_type": "stream",
     "text": [
      "online_analysis/generate_models.py:184: DeprecationWarning: openFile() is pending deprecation, use open_file() instead. You may use the pt2to3 tool to update your source code.\n",
      "  h5file = tables.openFile(hdf_filename, mode=\"w\", title=animal+'_tuning')\n",
      "\n"
     ]
    },
    {
     "name": "stdout",
     "output_type": "stream",
     "text": [
      "Only using 4 days\n",
      "199 (15, 7)\n",
      "171 (46, 7)\n",
      "Len Obs Targs [1 2 3 4 5 6 8 9]\n"
     ]
    },
    {
     "name": "stderr",
     "output_type": "stream",
     "text": [
      "online_analysis/generate_models_utils.py:587: DeprecationWarning: createTable() is pending deprecation, use create_table() instead. You may use the pt2to3 tool to update your source code.\n",
      "  tab = h5file.createTable(\"/\", model_nm+'_fold_'+str(int(fold)), Model_Table)\n",
      "\n",
      "online_analysis/generate_models_utils.py:588: DeprecationWarning: createGroup() is pending deprecation, use create_group() instead. You may use the pt2to3 tool to update your source code.\n",
      "  col = h5file.createGroup(h5file.root, model_nm+'_fold_'+str(int(fold))+'_nms')\n",
      "\n",
      "online_analysis/generate_models_utils.py:592: DeprecationWarning: createArray() is pending deprecation, use create_array() instead. You may use the pt2to3 tool to update your source code.\n",
      "  h5file.createArray(col, 'vars', vrs)\n",
      "\n"
     ]
    },
    {
     "name": "stdout",
     "output_type": "stream",
     "text": [
      "16 (38, 7)\n",
      "152 (39, 7)\n",
      "Len Obs Targs [1 2 3 4 5 6 8 9]\n",
      "90 (16, 7)\n",
      "133 (35, 7)\n",
      "Len Obs Targs [1 2 3 4 5 6 8 9]\n",
      "80 (17, 7)\n"
     ]
    }
   ],
   "source": [
    "generate_models.sweep_alpha_all(run_alphas=True, model_set_number = 3)"
   ]
  },
  {
   "cell_type": "code",
   "execution_count": null,
   "metadata": {},
   "outputs": [],
   "source": [
    "animal = 'jeev'\n",
    "alphas = []; \n",
    "for i in range(-4, 7):\n",
    "    alphas.append((1./4)*10**i)\n",
    "    alphas.append((2./4.)*10**i)\n",
    "    alphas.append((3./4.)*10**i)\n",
    "    alphas.append(1.*10**i)\n",
    "model_set_number = 3\n",
    "ndays=4\n",
    "mz = generate_models.plot_sweep_alpha(animal, \n",
    "                                      alphas=alphas, \n",
    "                                      model_set_number=model_set_number, \n",
    "                                      ndays=ndays)"
   ]
  },
  {
   "cell_type": "code",
   "execution_count": null,
   "metadata": {},
   "outputs": [],
   "source": []
  }
 ],
 "metadata": {
  "kernelspec": {
   "display_name": "Python 2",
   "language": "python",
   "name": "python2"
  },
  "language_info": {
   "codemirror_mode": {
    "name": "ipython",
    "version": 2
   },
   "file_extension": ".py",
   "mimetype": "text/x-python",
   "name": "python",
   "nbconvert_exporter": "python",
   "pygments_lexer": "ipython2",
   "version": "2.7.8"
  }
 },
 "nbformat": 4,
 "nbformat_minor": 4
}
