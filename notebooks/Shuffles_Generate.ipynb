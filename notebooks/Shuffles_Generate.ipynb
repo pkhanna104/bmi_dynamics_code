{
 "cells": [
  {
   "cell_type": "code",
   "execution_count": 1,
   "metadata": {},
   "outputs": [],
   "source": [
    "%load_ext autoreload\n",
    "%autoreload 2"
   ]
  },
  {
   "cell_type": "code",
   "execution_count": 2,
   "metadata": {},
   "outputs": [
    {
     "name": "stdout",
     "output_type": "stream",
     "text": [
      "in task\n",
      "in task\n",
      "in task\n",
      "Import Error in db.namelist: from tasklist import tasks -- likely error in a single task preventing import\n",
      "error importing BMI configuration variables\n"
     ]
    },
    {
     "name": "stderr",
     "output_type": "stream",
     "text": [
      "Traceback (most recent call last):\n",
      "  File \"/Users/preeyakhanna/bmi3d/db/namelist.py\", line 92, in <module>\n",
      "    from bmilist import *\n",
      "  File \"/Users/preeyakhanna/bmi3d/config_files/bmilist.py\", line 25, in <module>\n",
      "    from ismore.ismore_bmi_lib import StateSpaceArmAssist, StateSpaceReHand, StateSpaceIsMore\n",
      "ImportError: No module named ismore.ismore_bmi_lib\n",
      "/opt/local/Library/Frameworks/Python.framework/Versions/2.7/lib/python2.7/site-packages/pybasicbayes-0.2.4-py2.7-macosx-10.9-x86_64.egg/pybasicbayes/util/stats.py:11: DeprecationWarning: numpy.core.umath_tests is an internal NumPy module and should not be imported. It will be removed in a future NumPy release.\n",
      "  from numpy.core.umath_tests import inner1d\n",
      "\n",
      "/opt/local/Library/Frameworks/Python.framework/Versions/2.7/lib/python2.7/json/encoder.py:207: DeprecationWarning: Interpreting naive datetime as local 2020-11-10 15:09:49.287545. Please add timezone info to timestamps.\n",
      "  chunks = self.iterencode(o, _one_shot=True)\n",
      "\n"
     ]
    }
   ],
   "source": [
    "from online_analysis import generate_models"
   ]
  },
  {
   "cell_type": "code",
   "execution_count": 26,
   "metadata": {
    "scrolled": false
   },
   "outputs": [
    {
     "name": "stderr",
     "output_type": "stream",
     "text": [
      "online_analysis/generate_models_utils.py:111: DeprecationWarning: openFile() is pending deprecation, use open_file() instead. You may use the pt2to3 tool to update your source code.\n",
      "  hdf = tables.openFile(pref+hdf[hdfix:])\n",
      "\n"
     ]
    },
    {
     "name": "stdout",
     "output_type": "stream",
     "text": [
      "##############################\n",
      "########## DAY 0 ##########\n",
      "##############################\n",
      "(64,) (64,) (18, 44) 6 (18,)\n",
      "[0. 1. 2. 3. 4. 5. 6. 7.]\n",
      "(64,) (64,) (18, 44) 6 (18,)\n",
      "[0. 1. 2. 3. 4. 5. 6. 7.]\n",
      "(64,) (64,) (18, 44) 6 (18,)\n",
      "[0. 1. 2. 3. 4. 5. 6. 7.]\n",
      "new trial offset 64, total trls in this blk 64\n",
      "(101,) (101,) (40, 44) 6 (40,)\n",
      "[0. 1. 2. 3. 4. 5. 6. 7.]\n",
      "(101,) (101,) (40, 44) 6 (40,)\n",
      "[0. 1. 2. 3. 4. 5. 6. 7.]\n",
      "(101,) (101,) (40, 44) 6 (40,)\n",
      "[0. 1. 2. 3. 4. 5. 6. 7.]\n",
      "new trial offset 165, total trls in this blk 101\n",
      "(122,) (122,) (97, 44) 6 (97,)\n",
      "[0. 1. 2. 3. 4. 5. 6. 7.]\n",
      "(122,) (122,) (97, 44) 6 (97,)\n",
      "[0. 1. 2. 3. 4. 5. 6. 7.]\n",
      "(122,) (122,) (97, 44) 6 (97,)\n",
      "[0. 1. 2. 3. 4. 5. 6. 7.]\n",
      "new trial offset 287, total trls in this blk 122\n"
     ]
    },
    {
     "ename": "KeyboardInterrupt",
     "evalue": "",
     "output_type": "error",
     "traceback": [
      "\u001b[0;31m---------------------------------------------------------------------------\u001b[0m",
      "\u001b[0;31mKeyboardInterrupt\u001b[0m                         Traceback (most recent call last)",
      "\u001b[0;32m<ipython-input-26-286c54694359>\u001b[0m in \u001b[0;36m<module>\u001b[0;34m()\u001b[0m\n\u001b[0;32m----> 1\u001b[0;31m \u001b[0mgenerate_models\u001b[0m\u001b[0;34m.\u001b[0m\u001b[0mmodel_ind_cell_tuning_SHUFFLE\u001b[0m\u001b[0;34m(\u001b[0m\u001b[0mnshuffs\u001b[0m\u001b[0;34m=\u001b[0m\u001b[0;36m2\u001b[0m\u001b[0;34m,\u001b[0m \u001b[0mshuff_type\u001b[0m \u001b[0;34m=\u001b[0m \u001b[0;34m'mn_diff_maint'\u001b[0m\u001b[0;34m)\u001b[0m\u001b[0;34m\u001b[0m\u001b[0m\n\u001b[0m",
      "\u001b[0;32m/Users/preeyakhanna/bmi_dynamics_code/online_analysis/generate_models.py\u001b[0m in \u001b[0;36mmodel_ind_cell_tuning_SHUFFLE\u001b[0;34m(fit_intercept, latent_LDS, latent_dim, nshuffs, shuff_type)\u001b[0m\n\u001b[1;32m    947\u001b[0m                     Data, Data_temp, Sub_spikes, Sub_spk_temp_all, Sub_push, Shuff_ix = generate_models_utils.get_spike_kinematics(animal, day, \n\u001b[1;32m    948\u001b[0m                         \u001b[0morder_dict\u001b[0m\u001b[0;34m[\u001b[0m\u001b[0mi_d\u001b[0m\u001b[0;34m]\u001b[0m\u001b[0;34m,\u001b[0m \u001b[0mhistory_bins_max\u001b[0m\u001b[0;34m,\u001b[0m \u001b[0mwithin_bin_shuffle\u001b[0m \u001b[0;34m=\u001b[0m \u001b[0mFalse\u001b[0m\u001b[0;34m,\u001b[0m \u001b[0mmn_maint_within_bin_shuffle\u001b[0m \u001b[0;34m=\u001b[0m \u001b[0mTrue\u001b[0m\u001b[0;34m,\u001b[0m\u001b[0;34m\u001b[0m\u001b[0m\n\u001b[0;32m--> 949\u001b[0;31m                         day_ix = i_d, nshuffs = nshuffs)\n\u001b[0m\u001b[1;32m    950\u001b[0m \u001b[0;34m\u001b[0m\u001b[0m\n\u001b[1;32m    951\u001b[0m \u001b[0;34m\u001b[0m\u001b[0m\n",
      "\u001b[0;32m/Users/preeyakhanna/bmi_dynamics_code/online_analysis/generate_models_utils.py\u001b[0m in \u001b[0;36mget_spike_kinematics\u001b[0;34m(animal, day, order, history_bins, full_shuffle, within_bin_shuffle, mn_maint_within_bin_shuffle, shuffix, nshuffs, **kwargs)\u001b[0m\n\u001b[1;32m    368\u001b[0m \u001b[0;34m\u001b[0m\u001b[0m\n\u001b[1;32m    369\u001b[0m         \u001b[0;32melif\u001b[0m \u001b[0mmn_maint_within_bin_shuffle\u001b[0m\u001b[0;34m:\u001b[0m\u001b[0;34m\u001b[0m\u001b[0m\n\u001b[0;32m--> 370\u001b[0;31m             \u001b[0mshuff_ix\u001b[0m\u001b[0;34m,\u001b[0m \u001b[0mKG\u001b[0m \u001b[0;34m=\u001b[0m \u001b[0mwithin_bin_shuffling_mean_main\u001b[0m\u001b[0;34m(\u001b[0m\u001b[0mspks\u001b[0m\u001b[0;34m,\u001b[0m \u001b[0mpush\u001b[0m\u001b[0;34m[\u001b[0m\u001b[0;34m:\u001b[0m\u001b[0;34m,\u001b[0m \u001b[0;34m[\u001b[0m\u001b[0;36m3\u001b[0m\u001b[0;34m,\u001b[0m \u001b[0;36m5\u001b[0m\u001b[0;34m]\u001b[0m\u001b[0;34m]\u001b[0m\u001b[0;34m,\u001b[0m \u001b[0manimal\u001b[0m\u001b[0;34m,\u001b[0m \u001b[0mday_ix\u001b[0m\u001b[0;34m,\u001b[0m \u001b[0mtsk\u001b[0m\u001b[0;34m,\u001b[0m \u001b[0mtarget\u001b[0m\u001b[0;34m)\u001b[0m\u001b[0;34m\u001b[0m\u001b[0m\n\u001b[0m\u001b[1;32m    371\u001b[0m \u001b[0;34m\u001b[0m\u001b[0m\n\u001b[1;32m    372\u001b[0m         \u001b[0;32melse\u001b[0m\u001b[0;34m:\u001b[0m\u001b[0;34m\u001b[0m\u001b[0m\n",
      "\u001b[0;32m/Users/preeyakhanna/bmi_dynamics_code/online_analysis/generate_models_utils.py\u001b[0m in \u001b[0;36mwithin_bin_shuffling_mean_main\u001b[0;34m(bin_spk, decoder_all, animal, day_ix, tsk, target)\u001b[0m\n\u001b[1;32m   1334\u001b[0m                         \u001b[0;32mwhile\u001b[0m \u001b[0mcnt\u001b[0m \u001b[0;34m<\u001b[0m \u001b[0mN\u001b[0m\u001b[0;34m:\u001b[0m\u001b[0;34m\u001b[0m\u001b[0m\n\u001b[1;32m   1335\u001b[0m                             \u001b[0mix_keep\u001b[0m\u001b[0;34m.\u001b[0m\u001b[0mappend\u001b[0m\u001b[0;34m(\u001b[0m\u001b[0mmov2_ix\u001b[0m\u001b[0;34m)\u001b[0m\u001b[0;34m\u001b[0m\u001b[0m\n\u001b[0;32m-> 1336\u001b[0;31m                             \u001b[0mcnt\u001b[0m \u001b[0;34m+=\u001b[0m \u001b[0mlen\u001b[0m\u001b[0;34m(\u001b[0m\u001b[0mmov2_ix\u001b[0m\u001b[0;34m)\u001b[0m\u001b[0;34m\u001b[0m\u001b[0m\n\u001b[0m\u001b[1;32m   1337\u001b[0m \u001b[0;34m\u001b[0m\u001b[0m\n\u001b[1;32m   1338\u001b[0m                         \u001b[0mix_keep\u001b[0m \u001b[0;34m=\u001b[0m \u001b[0mnp\u001b[0m\u001b[0;34m.\u001b[0m\u001b[0mhstack\u001b[0m\u001b[0;34m(\u001b[0m\u001b[0;34m(\u001b[0m\u001b[0mix_keep\u001b[0m\u001b[0;34m)\u001b[0m\u001b[0;34m)\u001b[0m\u001b[0;34m\u001b[0m\u001b[0m\n",
      "\u001b[0;31mKeyboardInterrupt\u001b[0m: "
     ]
    },
    {
     "name": "stdout",
     "output_type": "stream",
     "text": [
      "> \u001b[0;32m/Users/preeyakhanna/bmi_dynamics_code/online_analysis/generate_models_utils.py\u001b[0m(1336)\u001b[0;36mwithin_bin_shuffling_mean_main\u001b[0;34m()\u001b[0m\n",
      "\u001b[0;32m   1335 \u001b[0;31m                            \u001b[0mix_keep\u001b[0m\u001b[0;34m.\u001b[0m\u001b[0mappend\u001b[0m\u001b[0;34m(\u001b[0m\u001b[0mmov2_ix\u001b[0m\u001b[0;34m)\u001b[0m\u001b[0;34m\u001b[0m\u001b[0m\n",
      "\u001b[0m\u001b[0;32m-> 1336 \u001b[0;31m                            \u001b[0mcnt\u001b[0m \u001b[0;34m+=\u001b[0m \u001b[0mlen\u001b[0m\u001b[0;34m(\u001b[0m\u001b[0mmov2_ix\u001b[0m\u001b[0;34m)\u001b[0m\u001b[0;34m\u001b[0m\u001b[0m\n",
      "\u001b[0m\u001b[0;32m   1337 \u001b[0;31m\u001b[0;34m\u001b[0m\u001b[0m\n",
      "\u001b[0m\n",
      "ipdb> c\n"
     ]
    },
    {
     "name": "stderr",
     "output_type": "stream",
     "text": [
      "/opt/local/Library/Frameworks/Python.framework/Versions/2.7/lib/python2.7/json/encoder.py:207: DeprecationWarning: Interpreting naive datetime as local 2020-11-10 19:34:17.907035. Please add timezone info to timestamps.\n",
      "  chunks = self.iterencode(o, _one_shot=True)\n",
      "\n"
     ]
    }
   ],
   "source": [
    "generate_models.model_ind_cell_tuning_SHUFFLE(nshuffs=2, shuff_type = 'mn_diff_maint')"
   ]
  },
  {
   "cell_type": "code",
   "execution_count": 20,
   "metadata": {},
   "outputs": [
    {
     "name": "stdout",
     "output_type": "stream",
     "text": [
      "Automatic pdb calling has been turned ON\n"
     ]
    },
    {
     "name": "stderr",
     "output_type": "stream",
     "text": [
      "/opt/local/Library/Frameworks/Python.framework/Versions/2.7/lib/python2.7/json/encoder.py:207: DeprecationWarning: Interpreting naive datetime as local 2020-11-10 19:14:25.231531. Please add timezone info to timestamps.\n",
      "  chunks = self.iterencode(o, _one_shot=True)\n",
      "\n"
     ]
    }
   ],
   "source": [
    "pdb"
   ]
  },
  {
   "cell_type": "code",
   "execution_count": null,
   "metadata": {},
   "outputs": [],
   "source": []
  }
 ],
 "metadata": {
  "kernelspec": {
   "display_name": "Python 2",
   "language": "python",
   "name": "python2"
  },
  "language_info": {
   "codemirror_mode": {
    "name": "ipython",
    "version": 2
   },
   "file_extension": ".py",
   "mimetype": "text/x-python",
   "name": "python",
   "nbconvert_exporter": "python",
   "pygments_lexer": "ipython2",
   "version": "2.7.8"
  }
 },
 "nbformat": 4,
 "nbformat_minor": 4
}
