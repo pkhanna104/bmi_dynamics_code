{
 "cells": [
  {
   "cell_type": "code",
   "execution_count": 2,
   "metadata": {},
   "outputs": [
    {
     "name": "stdout",
     "output_type": "stream",
     "text": [
      "The autoreload extension is already loaded. To reload it, use:\n",
      "  %reload_ext autoreload\n"
     ]
    },
    {
     "name": "stderr",
     "output_type": "stream",
     "text": [
      "/opt/local/Library/Frameworks/Python.framework/Versions/2.7/lib/python2.7/json/encoder.py:207: DeprecationWarning: Interpreting naive datetime as local 2020-10-07 13:51:15.255664. Please add timezone info to timestamps.\n",
      "  chunks = self.iterencode(o, _one_shot=True)\n",
      "\n"
     ]
    }
   ],
   "source": [
    "import os\n",
    "os.chdir(os.environ['BMI_DYN'])\n",
    "%load_ext autoreload\n",
    "%autoreload 2\n",
    "from online_analysis import co_obs_tuning_matrices"
   ]
  },
  {
   "cell_type": "code",
   "execution_count": 3,
   "metadata": {},
   "outputs": [
    {
     "name": "stderr",
     "output_type": "stream",
     "text": [
      "online_analysis/co_obs_tuning_matrices.py:1106: DeprecationWarning: openFile() is pending deprecation, use open_file() instead. You may use the pt2to3 tool to update your source code.\n",
      "  hdf = tables.openFile(pref+hdf[hdfix:])\n",
      "\n"
     ]
    },
    {
     "name": "stdout",
     "output_type": "stream",
     "text": [
      "(64,) (64,) (18, 44) 6 (18,)\n",
      "[0. 1. 2. 3. 4. 5. 6. 7.]\n",
      "(101,) (101,) (40, 44) 6 (40,)\n",
      "[0. 1. 2. 3. 4. 5. 6. 7.]\n",
      "(122,) (122,) (97, 44) 6 (97,)\n",
      "[0. 1. 2. 3. 4. 5. 6. 7.]\n",
      "(64,) (64,) (51, 35) 6 (51,)\n",
      "[0. 1. 2. 3. 4. 5. 6. 7.]\n",
      "(129,) (129,) (21, 35) 6 (21,)\n",
      "[0. 1. 2. 3. 4. 5. 6. 7.]\n",
      "(64,) (64,) (24, 148) 6 (24,)\n",
      "[0. 1. 2. 3. 4. 5. 6. 7.]\n",
      "(255,) (255,) (20, 148) 6 (20,)\n",
      "[0. 1. 2. 3. 4. 5. 6. 7.]\n",
      "(208,) (208,) (23, 148) 6 (23,)\n",
      "[0. 1. 2. 3. 4. 5. 6. 7.]\n",
      "(64,) (64,) (29, 53) 6 (29,)\n",
      "[0. 1. 2. 3. 4. 5. 6. 7.]\n",
      "(73,) (73,) (30, 53) 6 (30,)\n",
      "[0. 1. 2. 3. 4. 5. 6. 7.]\n",
      "(237,) (237,) (26, 53) 6 (26,)\n",
      "[0. 1. 2. 3. 4. 5. 6. 7.]\n",
      "(100,) (100,) (32, 53) 6 (32,)\n",
      "[0. 1. 2. 3. 4. 5. 6. 7.]\n",
      "(64,) (64,) (14, 151) 6 (14,)\n",
      "[0. 1. 2. 3. 4. 5. 6. 7.]\n",
      "(159,) (159,) (34, 151) 6 (34,)\n",
      "[0. 1. 2. 3. 4. 5. 6. 7.]\n",
      "(121,) (121,) (47, 151) 6 (47,)\n",
      "[0. 1. 2. 3. 4. 5. 6. 7.]\n",
      "(63,) (63,) (20, 42) 6 (20,)\n",
      "[0. 1. 2. 3. 4. 5. 6. 7.]\n",
      "(64,) (64,) (12, 42) 6 (12,)\n",
      "[0. 1. 2. 3. 4. 5. 6. 7.]\n",
      "(97,) (97,) (32, 42) 6 (32,)\n",
      "[0. 1. 2. 3. 4. 5. 6. 7.]\n",
      "(174,) (174,) (38, 42) 6 (38,)\n",
      "[0. 1. 2. 3. 4. 5. 6. 7.]\n",
      "(63,) (63,) (18, 50) 6 (18,)\n",
      "[0. 1. 2. 3. 4. 5. 6. 7.]\n",
      "(29,) (29,) (31, 50) 6 (31,)\n",
      "[0. 1. 2. 3. 4. 5. 6. 7.]\n",
      "(64,) (64,) (47, 50) 6 (47,)\n",
      "[0. 1. 2. 3. 4. 5. 6. 7.]\n",
      "(64,) (64,) (35, 48) 6 (35,)\n",
      "[0. 1. 2. 3. 4. 5. 6. 7.]\n",
      "(100,) (100,) (48, 48) 6 (48,)\n",
      "[0. 1. 2. 3. 4. 5. 6. 7.]\n",
      "(64,) (64,) (36, 48) 6 (36,)\n",
      "[0. 1. 2. 3. 4. 5. 6. 7.]\n",
      "(75,) (75,) (32, 48) 6 (32,)\n",
      "[0. 1. 2. 3. 4. 5. 6. 7.]\n",
      "> /Users/preeyakhanna/bmi_dynamics_code/resim_ppf/ppf_pa.py(110)get_jeev_trials_from_task_data()\n",
      "-> strobed = make_strobed(dat, start_index_overall)\n",
      "(Pdb) c\n",
      "> /Users/preeyakhanna/bmi_dynamics_code/resim_ppf/ppf_pa.py(110)get_jeev_trials_from_task_data()\n",
      "-> \n",
      "(Pdb) c\n",
      "> /Users/preeyakhanna/bmi_dynamics_code/resim_ppf/ppf_pa.py(110)get_jeev_trials_from_task_data()\n",
      "-> \n",
      "(Pdb) c\n",
      "> /Users/preeyakhanna/bmi_dynamics_code/resim_ppf/ppf_pa.py(110)get_jeev_trials_from_task_data()\n",
      "-> \n",
      "(Pdb) c\n",
      "> /Users/preeyakhanna/bmi_dynamics_code/resim_ppf/ppf_pa.py(110)get_jeev_trials_from_task_data()\n",
      "-> \n",
      "(Pdb) c\n",
      "> /Users/preeyakhanna/bmi_dynamics_code/resim_ppf/ppf_pa.py(110)get_jeev_trials_from_task_data()\n",
      "-> \n",
      "(Pdb) c\n",
      "> /Users/preeyakhanna/bmi_dynamics_code/resim_ppf/ppf_pa.py(110)get_jeev_trials_from_task_data()\n",
      "-> \n",
      "(Pdb) c\n",
      "> /Users/preeyakhanna/bmi_dynamics_code/resim_ppf/ppf_pa.py(110)get_jeev_trials_from_task_data()\n",
      "-> \n",
      "(Pdb) c\n"
     ]
    },
    {
     "name": "stderr",
     "output_type": "stream",
     "text": [
      "/opt/local/Library/Frameworks/Python.framework/Versions/2.7/lib/python2.7/json/encoder.py:207: DeprecationWarning: Interpreting naive datetime as local 2020-10-07 13:56:48.563856. Please add timezone info to timestamps.\n",
      "  chunks = self.iterencode(o, _one_shot=True)\n",
      "\n"
     ]
    }
   ],
   "source": [
    "fname, bounds = co_obs_tuning_matrices.extract_radial_bin_edges_grom_jeev(make_last_bin_95th = True)"
   ]
  },
  {
   "cell_type": "code",
   "execution_count": null,
   "metadata": {},
   "outputs": [],
   "source": []
  }
 ],
 "metadata": {
  "kernelspec": {
   "display_name": "Python 2",
   "language": "python",
   "name": "python2"
  },
  "language_info": {
   "codemirror_mode": {
    "name": "ipython",
    "version": 2
   },
   "file_extension": ".py",
   "mimetype": "text/x-python",
   "name": "python",
   "nbconvert_exporter": "python",
   "pygments_lexer": "ipython2",
   "version": "2.7.8"
  }
 },
 "nbformat": 4,
 "nbformat_minor": 4
}
