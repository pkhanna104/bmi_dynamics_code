{
 "cells": [
  {
   "cell_type": "code",
   "execution_count": null,
   "metadata": {},
   "outputs": [],
   "source": [
    "import os\n",
    "os.chdir(os.environ['BMI_DYN'])\n",
    "%load_ext autoreload\n",
    "%autoreload 2\n",
    "from online_analysis import co_obs_tuning_curves_fig3\n",
    "\n",
    "### Get the radial edges: \n",
    "co_obs_tuning_matrices.extract_radial_bin_edges_grom_jeev()"
   ]
  }
 ],
 "metadata": {
  "kernelspec": {
   "display_name": "Python 2",
   "language": "python",
   "name": "python2"
  },
  "language_info": {
   "codemirror_mode": {
    "name": "ipython",
    "version": 2
   },
   "file_extension": ".py",
   "mimetype": "text/x-python",
   "name": "python",
   "nbconvert_exporter": "python",
   "pygments_lexer": "ipython2",
   "version": "2.7.8"
  }
 },
 "nbformat": 4,
 "nbformat_minor": 4
}
