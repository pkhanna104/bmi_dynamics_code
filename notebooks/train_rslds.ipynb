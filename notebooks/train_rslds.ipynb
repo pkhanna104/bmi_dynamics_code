{
 "cells": [
  {
   "cell_type": "code",
   "execution_count": 1,
   "metadata": {},
   "outputs": [],
   "source": [
    "%load_ext autoreload\n",
    "%autoreload 2"
   ]
  },
  {
   "cell_type": "code",
   "execution_count": 2,
   "metadata": {},
   "outputs": [
    {
     "name": "stdout",
     "output_type": "stream",
     "text": [
      "/Users/preeyakhanna/bmi_dynamics_code\n"
     ]
    }
   ],
   "source": [
    "cd ~/bmi_dynamics_code"
   ]
  },
  {
   "cell_type": "code",
   "execution_count": 3,
   "metadata": {},
   "outputs": [],
   "source": [
    "import ssm\n",
    "from online_analysis import generate_models"
   ]
  },
  {
   "cell_type": "code",
   "execution_count": null,
   "metadata": {
    "scrolled": false
   },
   "outputs": [
    {
     "name": "stdout",
     "output_type": "stream",
     "text": [
      "##############################\n",
      "########## DAY 0 ##########\n",
      "##############################\n",
      "Bin Curson kin Size 20\n",
      "199 (15, 7)\n",
      "new trial offset 199, total trls in this blk 199\n"
     ]
    },
    {
     "name": "stderr",
     "output_type": "stream",
     "text": [
      "/Users/preeyakhanna/bmi_dynamics_code/online_analysis/generate_models_utils.py:394: VisibleDeprecationWarning: Creating an ndarray from ragged nested sequences (which is a list-or-tuple of lists-or-tuples-or ndarrays with different lengths or shapes) is deprecated. If you meant to do this, you must specify 'dtype=object' when creating the ndarray\n",
      "  tmp = np.array([np.zeros(( bin_spk[x].shape[0])) + ix + trl_off for ix, x in enumerate(ix_mod)])\n"
     ]
    },
    {
     "name": "stdout",
     "output_type": "stream",
     "text": [
      "Bin Curson kin Size 20\n",
      "171 (46, 7)\n",
      "Len Obs Targs [1 2 3 4 5 6 8 9]\n",
      "REMOVING A TRIAL: Animal jeev, TargIx -1.0\n",
      "REMOVING A TRIAL: Animal jeev, TargIx 1.0\n",
      "REMOVING A TRIAL: Animal jeev, TargIx 1.0\n",
      "REMOVING A TRIAL: Animal jeev, TargIx 1.0\n",
      "REMOVING A TRIAL: Animal jeev, TargIx 1.0\n",
      "REMOVING A TRIAL: Animal jeev, TargIx 1.0\n",
      "REMOVING A TRIAL: Animal jeev, TargIx 1.0\n",
      "REMOVING A TRIAL: Animal jeev, TargIx 1.0\n",
      "REMOVING A TRIAL: Animal jeev, TargIx 1.0\n",
      "REMOVING A TRIAL: Animal jeev, TargIx 1.0\n",
      "REMOVING A TRIAL: Animal jeev, TargIx 1.0\n",
      "REMOVING A TRIAL: Animal jeev, TargIx 1.0\n",
      "new trial offset 358, total trls in this blk 159\n"
     ]
    },
    {
     "name": "stderr",
     "output_type": "stream",
     "text": [
      "/Users/preeyakhanna/conda/envs/mountainlab/lib/python3.6/site-packages/numpy/core/_asarray.py:136: VisibleDeprecationWarning: Creating an ndarray from ragged nested sequences (which is a list-or-tuple of lists-or-tuples-or ndarrays with different lengths or shapes) is deprecated. If you meant to do this, you must specify 'dtype=object' when creating the ndarray\n",
      "  return array(a, dtype, copy=False, order=order, subok=True)\n"
     ]
    },
    {
     "name": "stdout",
     "output_type": "stream",
     "text": [
      "Animal jeev, tsk 0, N = 2859\n",
      "Tsk 0, Trg 0.00, N = 307\n",
      "Tsk 0, Trg 1.00, N = 339\n",
      "Tsk 0, Trg 2.00, N = 445\n",
      "Tsk 0, Trg 3.00, N = 429\n",
      "Tsk 0, Trg 4.00, N = 337\n",
      "Tsk 0, Trg 5.00, N = 294\n",
      "Tsk 0, Trg 6.00, N = 342\n",
      "Tsk 0, Trg 7.00, N = 366\n",
      "Animal jeev, tsk 1, N = 5181\n",
      "Tsk 1, Trg 2.10, N = 624\n",
      "Tsk 1, Trg 3.00, N = 573\n",
      "Tsk 1, Trg 4.00, N = 1103\n",
      "Tsk 1, Trg 5.10, N = 607\n",
      "Tsk 1, Trg 6.00, N = 164\n",
      "Tsk 1, Trg 6.10, N = 830\n",
      "Tsk 1, Trg 8.00, N = 587\n",
      "Tsk 1, Trg 9.10, N = 693\n",
      "Start dims fold 10, type 2\n",
      "starting to try to fit Dim 19\n"
     ]
    },
    {
     "name": "stderr",
     "output_type": "stream",
     "text": [
      "/Users/preeyakhanna/bmi_dynamics_code/online_analysis/slds_tools.py:16: FutureWarning: Support for multi-dimensional indexing (e.g. `obj[:, None]`) is deprecated and will be removed in a future version.  Convert to a numpy array before indexing instead.\n",
      "  x.append(data_temp_dict[vr][: , np.newaxis])\n",
      "/Users/preeyakhanna/conda/envs/mountainlab/lib/python3.6/site-packages/autograd/tracer.py:48: RuntimeWarning: divide by zero encountered in log\n",
      "  return f_raw(*args, **kwargs)\n",
      "/Users/preeyakhanna/ssm/ssm/emissions.py:369: RuntimeWarning: divide by zero encountered in true_divide\n",
      "  lls = -0.5 * np.log(2 * np.pi * etas) - 0.5 * (data[:, None, :] - mus)**2 / etas\n",
      "/Users/preeyakhanna/ssm/ssm/emissions.py:369: RuntimeWarning: invalid value encountered in subtract\n",
      "  lls = -0.5 * np.log(2 * np.pi * etas) - 0.5 * (data[:, None, :] - mus)**2 / etas\n"
     ]
    },
    {
     "data": {
      "application/vnd.jupyter.widget-view+json": {
       "model_id": "a6a9c65856cb405eb18090e5b0491aec",
       "version_major": 2,
       "version_minor": 0
      },
      "text/plain": [
       "  0%|          | 0/1000 [00:00<?, ?it/s]"
      ]
     },
     "metadata": {},
     "output_type": "display_data"
    },
    {
     "name": "stderr",
     "output_type": "stream",
     "text": [
      "/Users/preeyakhanna/ssm/ssm/emissions.py:400: RuntimeWarning: divide by zero encountered in true_divide\n",
      "  block = -1.0 * self.Cs[0].T@np.diag( 1.0 / np.exp(self.inv_etas[0]) )@self.Cs[0]\n",
      "/Users/preeyakhanna/ssm/ssm/emissions.py:400: RuntimeWarning: invalid value encountered in matmul\n",
      "  block = -1.0 * self.Cs[0].T@np.diag( 1.0 / np.exp(self.inv_etas[0]) )@self.Cs[0]\n",
      "/Users/preeyakhanna/conda/envs/mountainlab/lib/python3.6/site-packages/autograd/tracer.py:48: RuntimeWarning: divide by zero encountered in true_divide\n",
      "  return f_raw(*args, **kwargs)\n",
      "/Users/preeyakhanna/conda/envs/mountainlab/lib/python3.6/site-packages/autograd/tracer.py:48: RuntimeWarning: invalid value encountered in true_divide\n",
      "  return f_raw(*args, **kwargs)\n",
      "/Users/preeyakhanna/conda/envs/mountainlab/lib/python3.6/site-packages/autograd/tracer.py:48: RuntimeWarning: invalid value encountered in subtract\n",
      "  return f_raw(*args, **kwargs)\n"
     ]
    },
    {
     "name": "stdout",
     "output_type": "stream",
     "text": [
      "starting to try to fit Dim 18\n"
     ]
    },
    {
     "data": {
      "application/vnd.jupyter.widget-view+json": {
       "model_id": "221c3a64aa8b4c1dbf11dbe6e2c6dd99",
       "version_major": 2,
       "version_minor": 0
      },
      "text/plain": [
       "  0%|          | 0/1000 [00:00<?, ?it/s]"
      ]
     },
     "metadata": {},
     "output_type": "display_data"
    },
    {
     "name": "stdout",
     "output_type": "stream",
     "text": [
      "starting to try to fit Dim 17\n"
     ]
    },
    {
     "data": {
      "application/vnd.jupyter.widget-view+json": {
       "model_id": "44df4adead374afca3f177ca9dc93486",
       "version_major": 2,
       "version_minor": 0
      },
      "text/plain": [
       "  0%|          | 0/1000 [00:00<?, ?it/s]"
      ]
     },
     "metadata": {},
     "output_type": "display_data"
    },
    {
     "name": "stdout",
     "output_type": "stream",
     "text": [
      "starting to try to fit Dim 16\n"
     ]
    },
    {
     "data": {
      "application/vnd.jupyter.widget-view+json": {
       "model_id": "70328fbbfbf0413db820b101e4d37869",
       "version_major": 2,
       "version_minor": 0
      },
      "text/plain": [
       "  0%|          | 0/1000 [00:00<?, ?it/s]"
      ]
     },
     "metadata": {},
     "output_type": "display_data"
    },
    {
     "ename": "Exception",
     "evalue": "Cant fit any models above dim 15",
     "output_type": "error",
     "traceback": [
      "\u001b[0;31m---------------------------------------------------------------------------\u001b[0m",
      "\u001b[0;31mException\u001b[0m                                 Traceback (most recent call last)",
      "\u001b[0;32m<ipython-input-59-b388d8bf7b7e>\u001b[0m in \u001b[0;36m<module>\u001b[0;34m\u001b[0m\n\u001b[1;32m      1\u001b[0m \u001b[0;31m### Get a test of the number of states to fit;\u001b[0m\u001b[0;34m\u001b[0m\u001b[0;34m\u001b[0m\u001b[0;34m\u001b[0m\u001b[0m\n\u001b[1;32m      2\u001b[0m generate_models.sweep_dim_all(model_set_number = 13, history_bins_max = 1, within_bin_shuffle = False,\n\u001b[0;32m----> 3\u001b[0;31m     n_folds = 5, highDsweep = False)\n\u001b[0m",
      "\u001b[0;32m~/bmi_dynamics_code/online_analysis/generate_models.py\u001b[0m in \u001b[0;36msweep_dim_all\u001b[0;34m(model_set_number, history_bins_max, within_bin_shuffle, n_folds, highDsweep)\u001b[0m\n\u001b[1;32m    348\u001b[0m \u001b[0;34m\u001b[0m\u001b[0m\n\u001b[1;32m    349\u001b[0m                             \u001b[0;32melif\u001b[0m \u001b[0mmodel_set_number\u001b[0m \u001b[0;34m==\u001b[0m \u001b[0;36m13\u001b[0m\u001b[0;34m:\u001b[0m\u001b[0;34m\u001b[0m\u001b[0;34m\u001b[0m\u001b[0m\n\u001b[0;32m--> 350\u001b[0;31m                                 \u001b[0mexp_log_prob\u001b[0m \u001b[0;34m=\u001b[0m \u001b[0mslds_tools\u001b[0m\u001b[0;34m.\u001b[0m\u001b[0mfit_slds\u001b[0m\u001b[0;34m(\u001b[0m\u001b[0mdata_temp\u001b[0m\u001b[0;34m,\u001b[0m \u001b[0mvariables\u001b[0m\u001b[0;34m,\u001b[0m \u001b[0mtrl_train_ix\u001b[0m\u001b[0;34m[\u001b[0m\u001b[0mi_fold\u001b[0m\u001b[0;34m]\u001b[0m\u001b[0;34m,\u001b[0m \u001b[0mn_dim\u001b[0m\u001b[0;34m)\u001b[0m\u001b[0;34m\u001b[0m\u001b[0;34m\u001b[0m\u001b[0m\n\u001b[0m\u001b[1;32m    351\u001b[0m                                 \u001b[0mLL\u001b[0m\u001b[0;34m[\u001b[0m\u001b[0;36m0\u001b[0m\u001b[0;34m,\u001b[0m \u001b[0mi_fold\u001b[0m\u001b[0;34m%\u001b[0m\u001b[0;36m5\u001b[0m\u001b[0;34m,\u001b[0m \u001b[0mi_n\u001b[0m\u001b[0;34m]\u001b[0m \u001b[0;34m=\u001b[0m \u001b[0mexp_log_prob\u001b[0m\u001b[0;34m\u001b[0m\u001b[0;34m\u001b[0m\u001b[0m\n\u001b[1;32m    352\u001b[0m \u001b[0;34m\u001b[0m\u001b[0m\n",
      "\u001b[0;32m~/bmi_dynamics_code/online_analysis/slds_tools.py\u001b[0m in \u001b[0;36mfit_slds\u001b[0;34m(data_temp_dict, x_var_names, trl_train_ix, num_states)\u001b[0m\n\u001b[1;32m     89\u001b[0m \u001b[0;34m\u001b[0m\u001b[0m\n\u001b[1;32m     90\u001b[0m     \u001b[0;31m### If you've gotten here, you've failed to fit any\u001b[0m\u001b[0;34m\u001b[0m\u001b[0;34m\u001b[0m\u001b[0;34m\u001b[0m\u001b[0m\n\u001b[0;32m---> 91\u001b[0;31m     \u001b[0;32mraise\u001b[0m \u001b[0mException\u001b[0m\u001b[0;34m(\u001b[0m\u001b[0;34m'Cant fit any models above dim 15'\u001b[0m\u001b[0;34m)\u001b[0m\u001b[0;34m\u001b[0m\u001b[0;34m\u001b[0m\u001b[0m\n\u001b[0m\u001b[1;32m     92\u001b[0m \u001b[0;34m\u001b[0m\u001b[0m\n",
      "\u001b[0;31mException\u001b[0m: Cant fit any models above dim 15"
     ]
    },
    {
     "name": "stdout",
     "output_type": "stream",
     "text": [
      "> \u001b[0;32m/Users/preeyakhanna/bmi_dynamics_code/online_analysis/slds_tools.py\u001b[0m(91)\u001b[0;36mfit_slds\u001b[0;34m()\u001b[0m\n",
      "\u001b[0;32m     88 \u001b[0;31m            \u001b[0;32mpass\u001b[0m\u001b[0;34m\u001b[0m\u001b[0;34m\u001b[0m\u001b[0m\n",
      "\u001b[0m\u001b[0;32m     89 \u001b[0;31m\u001b[0;34m\u001b[0m\u001b[0m\n",
      "\u001b[0m\u001b[0;32m     90 \u001b[0;31m    \u001b[0;31m### If you've gotten here, you've failed to fit any\u001b[0m\u001b[0;34m\u001b[0m\u001b[0;34m\u001b[0m\u001b[0;34m\u001b[0m\u001b[0m\n",
      "\u001b[0m\u001b[0;32m---> 91 \u001b[0;31m    \u001b[0;32mraise\u001b[0m \u001b[0mException\u001b[0m\u001b[0;34m(\u001b[0m\u001b[0;34m'Cant fit any models above dim 15'\u001b[0m\u001b[0;34m)\u001b[0m\u001b[0;34m\u001b[0m\u001b[0;34m\u001b[0m\u001b[0m\n",
      "\u001b[0m\u001b[0;32m     92 \u001b[0;31m\u001b[0;34m\u001b[0m\u001b[0m\n",
      "\u001b[0m\n"
     ]
    }
   ],
   "source": [
    "### Get a test of the number of states to fit; \n",
    "generate_models.sweep_dim_all(model_set_number = 13, history_bins_max = 1, within_bin_shuffle = False,\n",
    "    n_folds = 5, highDsweep = False)"
   ]
  },
  {
   "cell_type": "code",
   "execution_count": null,
   "metadata": {},
   "outputs": [],
   "source": []
  }
 ],
 "metadata": {
  "kernelspec": {
   "display_name": "mountainlab",
   "language": "python",
   "name": "mountainlab"
  },
  "language_info": {
   "codemirror_mode": {
    "name": "ipython",
    "version": 3
   },
   "file_extension": ".py",
   "mimetype": "text/x-python",
   "name": "python",
   "nbconvert_exporter": "python",
   "pygments_lexer": "ipython3",
   "version": "3.6.15"
  }
 },
 "nbformat": 4,
 "nbformat_minor": 4
}
