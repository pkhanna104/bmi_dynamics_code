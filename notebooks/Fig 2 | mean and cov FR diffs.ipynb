{
 "cells": [
  {
   "cell_type": "code",
   "execution_count": 8,
   "metadata": {},
   "outputs": [
    {
     "name": "stdout",
     "output_type": "stream",
     "text": [
      "The autoreload extension is already loaded. To reload it, use:\n",
      "  %reload_ext autoreload\n"
     ]
    },
    {
     "name": "stderr",
     "output_type": "stream",
     "text": [
      "/opt/local/Library/Frameworks/Python.framework/Versions/2.7/lib/python2.7/json/encoder.py:207: DeprecationWarning: Interpreting naive datetime as local 2020-05-08 14:53:09.218669. Please add timezone info to timestamps.\n",
      "  chunks = self.iterencode(o, _one_shot=True)\n",
      "\n"
     ]
    }
   ],
   "source": [
    "import os\n",
    "os.chdir(os.environ['BMI_DYN'])\n",
    "%load_ext autoreload\n",
    "%autoreload 2\n",
    "from online_analysis import co_obs_tuning_curves_fig3\n",
    "from online_analysis import co_obs_tuning_matrices"
   ]
  },
  {
   "cell_type": "code",
   "execution_count": 13,
   "metadata": {
    "scrolled": true
   },
   "outputs": [
    {
     "name": "stderr",
     "output_type": "stream",
     "text": [
      "online_analysis/co_obs_tuning_matrices.py:1086: DeprecationWarning: openFile() is pending deprecation, use open_file() instead. You may use the pt2to3 tool to update your source code.\n",
      "  dec = co_obs_dict[te, 'dec']\n",
      "\n"
     ]
    },
    {
     "name": "stdout",
     "output_type": "stream",
     "text": [
      "(64,) (64,) (18, 44) 6 (18,)\n",
      "[0. 1. 2. 3. 4. 5. 6. 7.]\n",
      "(101,) (101,) (40, 44) 6 (40,)\n",
      "[0. 1. 2. 3. 4. 5. 6. 7.]\n",
      "(122,) (122,) (97, 44) 6 (97,)\n",
      "[0. 1. 2. 3. 4. 5. 6. 7.]\n",
      "(64,) (64,) (51, 35) 6 (51,)\n",
      "[0. 1. 2. 3. 4. 5. 6. 7.]\n",
      "(129,) (129,) (21, 35) 6 (21,)\n",
      "[0. 1. 2. 3. 4. 5. 6. 7.]\n",
      "(64,) (64,) (24, 148) 6 (24,)\n",
      "[0. 1. 2. 3. 4. 5. 6. 7.]\n",
      "(255,) (255,) (20, 148) 6 (20,)\n",
      "[0. 1. 2. 3. 4. 5. 6. 7.]\n",
      "(208,) (208,) (23, 148) 6 (23,)\n",
      "[0. 1. 2. 3. 4. 5. 6. 7.]\n",
      "(64,) (64,) (29, 53) 6 (29,)\n",
      "[0. 1. 2. 3. 4. 5. 6. 7.]\n",
      "(73,) (73,) (30, 53) 6 (30,)\n",
      "[0. 1. 2. 3. 4. 5. 6. 7.]\n",
      "(237,) (237,) (26, 53) 6 (26,)\n",
      "[0. 1. 2. 3. 4. 5. 6. 7.]\n",
      "(100,) (100,) (32, 53) 6 (32,)\n",
      "[0. 1. 2. 3. 4. 5. 6. 7.]\n",
      "(64,) (64,) (14, 151) 6 (14,)\n",
      "[0. 1. 2. 3. 4. 5. 6. 7.]\n",
      "(159,) (159,) (34, 151) 6 (34,)\n",
      "[0. 1. 2. 3. 4. 5. 6. 7.]\n",
      "(121,) (121,) (47, 151) 6 (47,)\n",
      "[0. 1. 2. 3. 4. 5. 6. 7.]\n",
      "(63,) (63,) (20, 42) 6 (20,)\n",
      "[0. 1. 2. 3. 4. 5. 6. 7.]\n",
      "(64,) (64,) (12, 42) 6 (12,)\n",
      "[0. 1. 2. 3. 4. 5. 6. 7.]\n",
      "(97,) (97,) (32, 42) 6 (32,)\n",
      "[0. 1. 2. 3. 4. 5. 6. 7.]\n",
      "(174,) (174,) (38, 42) 6 (38,)\n",
      "[0. 1. 2. 3. 4. 5. 6. 7.]\n",
      "(63,) (63,) (18, 50) 6 (18,)\n",
      "[0. 1. 2. 3. 4. 5. 6. 7.]\n",
      "(29,) (29,) (31, 50) 6 (31,)\n",
      "[0. 1. 2. 3. 4. 5. 6. 7.]\n",
      "(64,) (64,) (47, 50) 6 (47,)\n",
      "[0. 1. 2. 3. 4. 5. 6. 7.]\n",
      "(64,) (64,) (35, 48) 6 (35,)\n",
      "[0. 1. 2. 3. 4. 5. 6. 7.]\n",
      "(100,) (100,) (48, 48) 6 (48,)\n",
      "[0. 1. 2. 3. 4. 5. 6. 7.]\n",
      "(64,) (64,) (36, 48) 6 (36,)\n",
      "[0. 1. 2. 3. 4. 5. 6. 7.]\n",
      "(75,) (75,) (32, 48) 6 (32,)\n",
      "[0. 1. 2. 3. 4. 5. 6. 7.]\n"
     ]
    },
    {
     "data": {
      "text/plain": [
       "('/Users/preeyakhanna/Dropbox/TimeMachineBackups/grom2016/radial_boundaries_fit_based_on_perc_feb_2019.pkl',\n",
       " {('grom', 0): [0.8684366201688718, 1.3691201381147022, 1.972000184185049],\n",
       "  ('grom', 1): [1.0431174919208128, 1.752324071050608, 2.5704391180731787],\n",
       "  ('grom', 2): [1.7898042563114989, 2.815968132987056, 4.021426445742906],\n",
       "  ('grom', 3): [0.5948213048805475, 0.9059400074937669, 1.2895338560962468],\n",
       "  ('grom', 4): [0.5977405317621156, 0.9461448833381223, 1.3814479443336825],\n",
       "  ('grom', 5): [0.9573354946054617, 1.4800746631173607, 2.1334716653191927],\n",
       "  ('grom', 6): [0.8584706907077286, 1.3384290733967994, 1.9002821011208155],\n",
       "  ('grom', 7): [0.44792821290508067, 0.6853493076901207, 0.9733191344072071],\n",
       "  ('grom', 8): [1.1345180286396734, 1.782880553890338, 2.666703985230291],\n",
       "  ('jeev', 0): [2.6152978716501547, 3.898361423714384, 5.517601420872091],\n",
       "  ('jeev', 1): [2.5274151332823767, 3.7540413838697217, 5.322591688294147],\n",
       "  ('jeev', 2): [2.4151647135611363, 3.6862931151131133, 5.238806696716357],\n",
       "  ('jeev', 3): [1.0659826182763883, 1.9555093009199838, 3.207481947496786]})"
      ]
     },
     "execution_count": 13,
     "metadata": {},
     "output_type": "execute_result"
    },
    {
     "name": "stderr",
     "output_type": "stream",
     "text": [
      "/opt/local/Library/Frameworks/Python.framework/Versions/2.7/lib/python2.7/json/encoder.py:207: DeprecationWarning: Interpreting naive datetime as local 2020-05-08 14:59:11.258331. Please add timezone info to timestamps.\n",
      "  chunks = self.iterencode(o, _one_shot=True)\n",
      "\n"
     ]
    }
   ],
   "source": [
    "### Get the radial edges: \n",
    "co_obs_tuning_matrices.extract_radial_bin_edges_grom_jeev()"
   ]
  },
  {
   "cell_type": "code",
   "execution_count": null,
   "metadata": {
    "scrolled": false
   },
   "outputs": [
    {
     "name": "stderr",
     "output_type": "stream",
     "text": [
      "online_analysis/co_obs_tuning_matrices.py:68: DeprecationWarning: openFile() is pending deprecation, use open_file() instead. You may use the pt2to3 tool to update your source code.\n",
      "  hdf = tables.openFile(pref+hdf[hdfix:])\n",
      "\n"
     ]
    },
    {
     "name": "stdout",
     "output_type": "stream",
     "text": [
      "Day 0, Plot Mag Thresh: [0.86843662 1.36912014 1.97200018]\n",
      "(64,) (64,) (18, 44) 6 (18,)\n",
      "[0. 1. 2. 3. 4. 5. 6. 7.]\n",
      "(64,) (64,) (18, 44) 6 (18,)\n",
      "[0. 1. 2. 3. 4. 5. 6. 7.]\n",
      "mag thresh:  [0.86843662 1.36912014 1.97200018] []\n",
      "(101,) (101,) (40, 44) 6 (40,)\n",
      "[0. 1. 2. 3. 4. 5. 6. 7.]\n",
      "(101,) (101,) (40, 44) 6 (40,)\n",
      "[0. 1. 2. 3. 4. 5. 6. 7.]\n",
      "mag thresh:  [0.86843662 1.36912014 1.97200018] []\n",
      "(122,) (122,) (97, 44) 6 (97,)\n",
      "[0. 1. 2. 3. 4. 5. 6. 7.]\n",
      "(122,) (122,) (97, 44) 6 (97,)\n",
      "[0. 1. 2. 3. 4. 5. 6. 7.]\n",
      "mag thresh:  [0.86843662 1.36912014 1.97200018] []\n",
      "Saved to :  /Users/preeyakhanna/Dropbox/TimeMachineBackups/grom2016/hist_tuning_w_fit_mag_boundaries_grom_16_trials_dist_day0.pkl\n",
      "Day 1, Plot Mag Thresh: [1.04311749 1.75232407 2.57043912]\n",
      "(64,) (64,) (51, 35) 6 (51,)\n",
      "[0. 1. 2. 3. 4. 5. 6. 7.]\n",
      "(64,) (64,) (51, 35) 6 (51,)\n",
      "[0. 1. 2. 3. 4. 5. 6. 7.]\n",
      "mag thresh:  [1.04311749 1.75232407 2.57043912] []\n",
      "(129,) (129,) (21, 35) 6 (21,)\n",
      "[0. 1. 2. 3. 4. 5. 6. 7.]\n",
      "(129,) (129,) (21, 35) 6 (21,)\n",
      "[0. 1. 2. 3. 4. 5. 6. 7.]\n",
      "mag thresh:  [1.04311749 1.75232407 2.57043912] []\n",
      "Saved to :  /Users/preeyakhanna/Dropbox/TimeMachineBackups/grom2016/hist_tuning_w_fit_mag_boundaries_grom_16_trials_dist_day1.pkl\n",
      "Day 2, Plot Mag Thresh: [1.78980426 2.81596813 4.02142645]\n",
      "(64,) (64,) (24, 148) 6 (24,)\n",
      "[0. 1. 2. 3. 4. 5. 6. 7.]\n",
      "(64,) (64,) (24, 148) 6 (24,)\n",
      "[0. 1. 2. 3. 4. 5. 6. 7.]\n",
      "mag thresh:  [1.78980426 2.81596813 4.02142645] []\n",
      "(255,) (255,) (20, 148) 6 (20,)\n",
      "[0. 1. 2. 3. 4. 5. 6. 7.]\n",
      "(255,) (255,) (20, 148) 6 (20,)\n",
      "[0. 1. 2. 3. 4. 5. 6. 7.]\n",
      "mag thresh:  [1.78980426 2.81596813 4.02142645] []\n",
      "(208,) (208,) (23, 148) 6 (23,)\n",
      "[0. 1. 2. 3. 4. 5. 6. 7.]\n",
      "(208,) (208,) (23, 148) 6 (23,)\n",
      "[0. 1. 2. 3. 4. 5. 6. 7.]\n",
      "mag thresh:  [1.78980426 2.81596813 4.02142645] []\n"
     ]
    }
   ],
   "source": [
    "### Get the tuning matrices: \n",
    "### This calls co_obs_tuning_matrices.get_all_tuning\n",
    "animal = 'grom'\n",
    "co_obs_tuning_curves_fig3.generate_hist_tuning(animal)\n",
    "\n",
    "### saves to the file: \n",
    "## hist_tuning_w_fit_mag_boundaries_grom_16_trials_dist_"
   ]
  },
  {
   "cell_type": "code",
   "execution_count": null,
   "metadata": {},
   "outputs": [],
   "source": [
    "### Get the distribution of commands \n",
    "co_obs_tuning_curves_fig3.distrib_of_neural_pushs_by_day()"
   ]
  },
  {
   "cell_type": "code",
   "execution_count": null,
   "metadata": {},
   "outputs": [],
   "source": [
    "### Plot all the comparison plots \n",
    "co_obs_tuning_curves_fig3.plot_all()"
   ]
  }
 ],
 "metadata": {
  "kernelspec": {
   "display_name": "Python 2",
   "language": "python",
   "name": "python2"
  },
  "language_info": {
   "codemirror_mode": {
    "name": "ipython",
    "version": 2
   },
   "file_extension": ".py",
   "mimetype": "text/x-python",
   "name": "python",
   "nbconvert_exporter": "python",
   "pygments_lexer": "ipython2",
   "version": "2.7.8"
  }
 },
 "nbformat": 4,
 "nbformat_minor": 4
}
